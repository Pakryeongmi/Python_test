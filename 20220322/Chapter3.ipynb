{
 "cells": [
  {
   "cell_type": "markdown",
   "id": "f6211dba-c05b-4154-96e4-9acac6444566",
   "metadata": {
    "tags": []
   },
   "source": [
    "# Chapter3"
   ]
  },
  {
   "cell_type": "markdown",
   "id": "73077e64-9ea7-4d65-b06c-577847ddc9fd",
   "metadata": {},
   "source": [
    "## Section02 print()함수 사용"
   ]
  },
  {
   "cell_type": "markdown",
   "id": "208b0441-9653-4c88-83c5-2c54b3aa6451",
   "metadata": {},
   "source": [
    "#### print(): 입력 값을 기본 콘솔(터미널)로 내보내는 역할\n",
    "\n",
    "**os 콘솔**\n",
    " - 표준입출력을 수행하는 프로그램!"
   ]
  },
  {
   "cell_type": "code",
   "execution_count": 2,
   "id": "af45f0aa-1816-4b86-95cd-3651896b091a",
   "metadata": {},
   "outputs": [
    {
     "name": "stdout",
     "output_type": "stream",
     "text": [
      "안녕\n"
     ]
    }
   ],
   "source": [
    "print(\"안녕\")"
   ]
  },
  {
   "cell_type": "code",
   "execution_count": 3,
   "id": "a5589520-1b61-46c1-ab05-f528a1f18424",
   "metadata": {},
   "outputs": [
    {
     "name": "stdin",
     "output_type": "stream",
     "text": [
      "입력 10\n"
     ]
    },
    {
     "data": {
      "text/plain": [
       "'10'"
      ]
     },
     "execution_count": 3,
     "metadata": {},
     "output_type": "execute_result"
    }
   ],
   "source": [
    "input(\"입력\")"
   ]
  },
  {
   "cell_type": "code",
   "execution_count": 4,
   "id": "7c63f0c2-d06c-4bc1-869c-86de17208614",
   "metadata": {},
   "outputs": [
    {
     "name": "stdout",
     "output_type": "stream",
     "text": [
      "100\n"
     ]
    }
   ],
   "source": [
    "print(\"100\") # 문자로 출력"
   ]
  },
  {
   "cell_type": "markdown",
   "id": "b4484611-e75f-4c1b-9227-87c1c3919122",
   "metadata": {},
   "source": [
    "#### **형식화문자열(Formatting string)**\n",
    "\n",
    "1. '%' 연결자\n",
    "1. 'string.format()\n",
    "1. f 리터럴"
   ]
  },
  {
   "cell_type": "markdown",
   "id": "16c7950c-2a2c-4b13-ab67-731967bd46dd",
   "metadata": {},
   "source": [
    "< % 연결자 >"
   ]
  },
  {
   "cell_type": "code",
   "execution_count": 81,
   "id": "f5b0cae1-2013-4c13-ab94-b472b6b68771",
   "metadata": {},
   "outputs": [
    {
     "name": "stdout",
     "output_type": "stream",
     "text": [
      "입력 100는 평균입니다.\n"
     ]
    }
   ],
   "source": [
    "print(\"입력 %d는 평균입니다.\" % 100) # % 뒤에 숫자 %d에 대입"
   ]
  },
  {
   "cell_type": "code",
   "execution_count": 8,
   "id": "d4198678-5ecf-4a49-a1ab-34f42e6d0084",
   "metadata": {},
   "outputs": [
    {
     "name": "stdout",
     "output_type": "stream",
     "text": [
      "입력 100는 50의 평균이고 곱셈은 100*50=5000 입니다.\n"
     ]
    }
   ],
   "source": [
    "print(\"입력 %d는 %d의 평균이고 곱셈은 %d*%d=%d 입니다.\" % (100, 50, 100, 50, (100*50)))"
   ]
  },
  {
   "cell_type": "markdown",
   "id": "910750db-5126-49ea-ad81-5687b1d4da5e",
   "metadata": {},
   "source": [
    "< f리터럴 방식 >"
   ]
  },
  {
   "cell_type": "code",
   "execution_count": 11,
   "id": "bc488061-7ab9-443b-a7c8-b58a9645cdd2",
   "metadata": {},
   "outputs": [
    {
     "name": "stdout",
     "output_type": "stream",
     "text": [
      "입력 100는 50의 평균이고 곱셈은 100*50=5000 입니다.\n"
     ]
    }
   ],
   "source": [
    "print(f\"입력 {100}는 {50}의 평균이고 곱셈은 {100}*{50}={100*50} 입니다.\")"
   ]
  },
  {
   "cell_type": "code",
   "execution_count": 6,
   "id": "21d560a2-fb00-4768-9835-a995416dd9cb",
   "metadata": {},
   "outputs": [
    {
     "name": "stdout",
     "output_type": "stream",
     "text": [
      "10+20+30= 60\n"
     ]
    }
   ],
   "source": [
    "print(f\"{a}+{b}+{c}=\", (a+b+c))"
   ]
  },
  {
   "cell_type": "markdown",
   "id": "42d96205-7364-43de-9935-f521575ce5ff",
   "metadata": {},
   "source": [
    "< 형식문자 >\n",
    "\n",
    "- %d : 정수\n",
    "- %f : 실수\n",
    "- %x : 16진수\n",
    "- %o : 8진수\n",
    "- %c : 한글자 문자열\n",
    "- %s : 두글자 이상인 문자열"
   ]
  },
  {
   "cell_type": "code",
   "execution_count": 45,
   "id": "ea8a08de-451f-4fe2-a17d-370bf6f14ddc",
   "metadata": {},
   "outputs": [
    {
     "name": "stdout",
     "output_type": "stream",
     "text": [
      "1000\n"
     ]
    }
   ],
   "source": [
    "print(\"%d\" % 1000)"
   ]
  },
  {
   "cell_type": "code",
   "execution_count": 44,
   "id": "6e8ca4c7-7f44-4b35-9f7a-1fc26793f383",
   "metadata": {},
   "outputs": [
    {
     "name": "stdout",
     "output_type": "stream",
     "text": [
      "0\n"
     ]
    }
   ],
   "source": [
    "print(\"%d\" % 0.1) "
   ]
  },
  {
   "cell_type": "code",
   "execution_count": 46,
   "id": "f4dc6bbd-1a89-4816-b5d1-348afdd8c26c",
   "metadata": {},
   "outputs": [
    {
     "name": "stdout",
     "output_type": "stream",
     "text": [
      "0.100000\n"
     ]
    }
   ],
   "source": [
    "print(\"%f\" % 0.1) "
   ]
  },
  {
   "cell_type": "code",
   "execution_count": 19,
   "id": "6ff784e7-6340-4017-9588-7dabfe9d6e0b",
   "metadata": {},
   "outputs": [
    {
     "name": "stdout",
     "output_type": "stream",
     "text": [
      "9 a b c d e f 10\n"
     ]
    }
   ],
   "source": [
    "print(\"%x %x %x %x %x %x %x %x\" % (9,10,11,12,13,14,15,16))  # 16진수 -> 9이후부터 a,b,c,d,e,f 다음 16이 10이 됨"
   ]
  },
  {
   "cell_type": "code",
   "execution_count": 20,
   "id": "d2a89d08-ce20-46e2-a168-da5c85f65c48",
   "metadata": {},
   "outputs": [
    {
     "name": "stdout",
     "output_type": "stream",
     "text": [
      "1 3 7 10 11 12 13\n"
     ]
    }
   ],
   "source": [
    "print(\"%o %o %o %o %o %o %o\" % (1,3,7,8,9,10,11))  # 8진수 -> 8부터 10이 됨"
   ]
  },
  {
   "cell_type": "markdown",
   "id": "dcf6c746-d151-4765-94e0-b5c0fefe5c30",
   "metadata": {},
   "source": [
    "< p.65 >"
   ]
  },
  {
   "cell_type": "code",
   "execution_count": 21,
   "id": "4743ed67-d519-4da3-9ce9-e420e7dfa2fd",
   "metadata": {},
   "outputs": [
    {
     "name": "stdout",
     "output_type": "stream",
     "text": [
      "123\n"
     ]
    }
   ],
   "source": [
    "print(\"%d\" % 123)"
   ]
  },
  {
   "cell_type": "code",
   "execution_count": 79,
   "id": "6b07eddc-3e2c-4d7a-a2ff-099aefa71825",
   "metadata": {},
   "outputs": [
    {
     "name": "stdout",
     "output_type": "stream",
     "text": [
      "  123\n"
     ]
    }
   ],
   "source": [
    "print(\"%5d\" % 123) # 5자리 정수, 오른쪽부터 나열"
   ]
  },
  {
   "cell_type": "code",
   "execution_count": 63,
   "id": "3f5192c0-fa34-4219-a899-e07718370630",
   "metadata": {},
   "outputs": [
    {
     "name": "stdout",
     "output_type": "stream",
     "text": [
      "00123\n"
     ]
    }
   ],
   "source": [
    "print(\"%05d\" % 123) # 5자리 정수, 빈칸은 0으로 채움"
   ]
  },
  {
   "cell_type": "code",
   "execution_count": 64,
   "id": "6e827851-6fc0-4461-9f2d-dc7df5942f46",
   "metadata": {},
   "outputs": [
    {
     "name": "stdout",
     "output_type": "stream",
     "text": [
      "123.450000\n"
     ]
    }
   ],
   "source": [
    "print(\"%f\" % 123.45) # 실수 출력, 소수점이하 무조건 6자리"
   ]
  },
  {
   "cell_type": "code",
   "execution_count": 65,
   "id": "e542e479-63dc-42c8-b260-dbc03f608743",
   "metadata": {},
   "outputs": [
    {
     "name": "stdout",
     "output_type": "stream",
     "text": [
      "   12.4\n"
     ]
    }
   ],
   "source": [
    "print(\"%7.1f\" % 12.45) # 소수점포함 7자리, 소수점이하 1자리 출력"
   ]
  },
  {
   "cell_type": "code",
   "execution_count": 66,
   "id": "ca558afc-2faf-43a4-ae36-f4a786fc533c",
   "metadata": {},
   "outputs": [
    {
     "name": "stdout",
     "output_type": "stream",
     "text": [
      "123.450\n"
     ]
    }
   ],
   "source": [
    "print(\"%7.3f\" % 123.45) # 소수점포함 7자리, 소수점이하 세자리"
   ]
  },
  {
   "cell_type": "code",
   "execution_count": 27,
   "id": "59dbf73c-9d28-47e0-b008-f8593cf16d87",
   "metadata": {},
   "outputs": [
    {
     "name": "stdout",
     "output_type": "stream",
     "text": [
      "Python\n"
     ]
    }
   ],
   "source": [
    "print(\"%s\" % \"Python\") "
   ]
  },
  {
   "cell_type": "code",
   "execution_count": 77,
   "id": "ed47fdd0-e728-4830-80f4-15f830bbc93f",
   "metadata": {},
   "outputs": [
    {
     "name": "stdout",
     "output_type": "stream",
     "text": [
      "    Python\n"
     ]
    }
   ],
   "source": [
    "print(\"%10s\" % \"Python\") # 10자리 문자열, 오른쪽부터 나열"
   ]
  },
  {
   "cell_type": "markdown",
   "id": "83fe7b47-4160-4cc9-9141-8c650510d838",
   "metadata": {},
   "source": [
    "< format() 문자열 >"
   ]
  },
  {
   "cell_type": "code",
   "execution_count": 29,
   "id": "11478344-0a5a-4401-b516-528a8417d7c0",
   "metadata": {},
   "outputs": [
    {
     "name": "stdout",
     "output_type": "stream",
     "text": [
      "123   123 00123\n"
     ]
    }
   ],
   "source": [
    "print(\"%d %5d %05d\" % (123,123,123))"
   ]
  },
  {
   "cell_type": "code",
   "execution_count": 80,
   "id": "83d0f0b8-82f3-4ddb-8e07-9b42cc3450c6",
   "metadata": {},
   "outputs": [
    {
     "name": "stdout",
     "output_type": "stream",
     "text": [
      "123   123 00123\n"
     ]
    }
   ],
   "source": [
    "print(\"{0:d} {1:5d} {2:05d}\".format(123,123,123)) # 첫번째 숫자부터 0, 1, 2, .. 순서로 0번째 3자리, 1번째 5자리, 2번째 5자리인데 빈자리 0으로 채워서 출력 "
   ]
  },
  {
   "cell_type": "code",
   "execution_count": 32,
   "id": "7f66ed18-4c94-4d48-8333-291118137d04",
   "metadata": {},
   "outputs": [
    {
     "name": "stdout",
     "output_type": "stream",
     "text": [
      "567   234 00123\n"
     ]
    }
   ],
   "source": [
    "print(\"{2:d} {1:5d} {0:05d}\".format(123,234,567))"
   ]
  },
  {
   "cell_type": "markdown",
   "id": "9e6ea660-08a8-4b9f-b00b-30e42be61146",
   "metadata": {
    "tags": []
   },
   "source": [
    "#### **이스케이프 문자**\n",
    "\n",
    "- \\n -> 새로운 줄로 이동(enter를 누른 효과)\n",
    "- \\t -> 다음 탭으로 이동(tab을 누른 효과)\n",
    "- \\b -> 뒤로 한 칸 이동(backspace를 누른 효과)"
   ]
  },
  {
   "cell_type": "code",
   "execution_count": 34,
   "id": "b19f5b49-fef4-466d-854e-debda6c7806d",
   "metadata": {},
   "outputs": [
    {
     "name": "stdout",
     "output_type": "stream",
     "text": [
      "한줄에 다써보자... 열심히 \n",
      "줄바꿈\n",
      "연습\n"
     ]
    }
   ],
   "source": [
    "print(\"한줄에 다써보자... 열심히 \\n줄바꿈\\n연습\")"
   ]
  },
  {
   "cell_type": "code",
   "execution_count": 38,
   "id": "b769b50b-c9e1-4d55-91ba-bf1982741fc7",
   "metadata": {},
   "outputs": [
    {
     "name": "stdout",
     "output_type": "stream",
     "text": [
      "----\t-----\t----\n",
      "\n",
      "종류\t설명\t비고\n",
      "\n",
      "----\t-----\t----\n"
     ]
    }
   ],
   "source": [
    "print(\"----\\t-----\\t----\\n\")\n",
    "print(\"종류\\t설명\\t비고\\n\")\n",
    "print(\"----\\t-----\\t----\")"
   ]
  },
  {
   "cell_type": "code",
   "execution_count": 82,
   "id": "fc62834f-d4ba-402d-9a17-085a4718b0b9",
   "metadata": {},
   "outputs": [
    {
     "name": "stdout",
     "output_type": "stream",
     "text": [
      "글자가 \"강조\"되는 효과1\n"
     ]
    }
   ],
   "source": [
    "print(\"글자가 \\\"강조\\\"되는 효과1\") # \\\" -> \" 출력"
   ]
  },
  {
   "cell_type": "code",
   "execution_count": 41,
   "id": "4b04a71f-94ef-4983-a0f9-eaa2d389f88d",
   "metadata": {},
   "outputs": [
    {
     "name": "stdout",
     "output_type": "stream",
     "text": [
      "글자가 '강조'되는 효과2\n"
     ]
    }
   ],
   "source": [
    "print(\"글자가 \\'강조\\'되는 효과2\") # \\' -> ' 출력"
   ]
  },
  {
   "cell_type": "code",
   "execution_count": 42,
   "id": "eabdc66e-e8fe-460b-8cd6-d3f7ddc18eb1",
   "metadata": {},
   "outputs": [
    {
     "name": "stdout",
     "output_type": "stream",
     "text": [
      "\\\\\\ 역슬래시 세 개 출력\n"
     ]
    }
   ],
   "source": [
    "print(\"\\\\\\\\\\\\ 역슬래시 세 개 출력\") # \\\\ -> \\ 출력"
   ]
  },
  {
   "cell_type": "markdown",
   "id": "84f9c44c-9d6d-4f8c-8a62-bedc25ee26f4",
   "metadata": {},
   "source": [
    "#### **raw string**"
   ]
  },
  {
   "cell_type": "code",
   "execution_count": 43,
   "id": "160c7682-91dd-42cf-ac24-31af11e6947e",
   "metadata": {},
   "outputs": [
    {
     "name": "stdout",
     "output_type": "stream",
     "text": [
      "\\n \\t \\\" \\\\를 그대로 출력\n"
     ]
    }
   ],
   "source": [
    "print(r\"\\n \\t \\\" \\\\를 그대로 출력\")"
   ]
  },
  {
   "cell_type": "markdown",
   "id": "baaccb14-d8f6-49f3-905b-0c4df59064d0",
   "metadata": {},
   "source": [
    "## Section03 변수의 선언과 사용"
   ]
  },
  {
   "cell_type": "markdown",
   "id": "1fc041f6-e2ba-4919-a7e0-897dec1eb3ef",
   "metadata": {},
   "source": [
    "#### 변수 = 동절타이핑(Dynamic typing) -> 값이 들어있는 변수에 새로운 값을 넣으면 바로 변함(java는 불가능)"
   ]
  },
  {
   "cell_type": "code",
   "execution_count": null,
   "id": "2a1e4b85-57cb-4602-86e8-fa0d95badeef",
   "metadata": {},
   "outputs": [],
   "source": [
    "# 참거짓 값: True, False"
   ]
  },
  {
   "cell_type": "code",
   "execution_count": 47,
   "id": "223b6ffe-f64a-429c-9909-cc8cf29c9bd8",
   "metadata": {},
   "outputs": [],
   "source": [
    "boolVar = True"
   ]
  },
  {
   "cell_type": "code",
   "execution_count": 48,
   "id": "83ef13d5-2dd8-4f8b-bfda-00fedd05a2ae",
   "metadata": {},
   "outputs": [
    {
     "data": {
      "text/plain": [
       "True"
      ]
     },
     "execution_count": 48,
     "metadata": {},
     "output_type": "execute_result"
    }
   ],
   "source": [
    "boolVar"
   ]
  },
  {
   "cell_type": "code",
   "execution_count": 49,
   "id": "7049b9b3-341f-4cba-a3b6-4376defd4449",
   "metadata": {},
   "outputs": [
    {
     "data": {
      "text/plain": [
       "'문자열'"
      ]
     },
     "execution_count": 49,
     "metadata": {},
     "output_type": "execute_result"
    }
   ],
   "source": [
    "boolVar = \"문자열\"\n",
    "boolVar"
   ]
  },
  {
   "cell_type": "code",
   "execution_count": 50,
   "id": "2f182df8-3db5-43ca-a72b-b5c2f096e5ff",
   "metadata": {},
   "outputs": [],
   "source": [
    "boolVar = 0.1"
   ]
  },
  {
   "cell_type": "code",
   "execution_count": 51,
   "id": "db1786f1-e546-4331-b250-77f2423fc14d",
   "metadata": {},
   "outputs": [
    {
     "ename": "TypeError",
     "evalue": "can only concatenate str (not \"float\") to str",
     "output_type": "error",
     "traceback": [
      "\u001b[1;31m---------------------------------------------------------------------------\u001b[0m",
      "\u001b[1;31mTypeError\u001b[0m                                 Traceback (most recent call last)",
      "\u001b[1;32m~\\AppData\\Local\\Temp/ipykernel_6836/4034436319.py\u001b[0m in \u001b[0;36m<module>\u001b[1;34m\u001b[0m\n\u001b[1;32m----> 1\u001b[1;33m \u001b[0mprint\u001b[0m\u001b[1;33m(\u001b[0m\u001b[1;34m\"boolVar는 \"\u001b[0m \u001b[1;33m+\u001b[0m \u001b[0mboolVar\u001b[0m\u001b[1;33m)\u001b[0m\u001b[1;33m\u001b[0m\u001b[1;33m\u001b[0m\u001b[0m\n\u001b[0m",
      "\u001b[1;31mTypeError\u001b[0m: can only concatenate str (not \"float\") to str"
     ]
    }
   ],
   "source": [
    "print(\"boolVar는 \" + boolVar)  # boolVar이 현재 실수이므로 문자와 실수는 연산이 안됨"
   ]
  },
  {
   "cell_type": "code",
   "execution_count": 52,
   "id": "ad28dc84-5af7-4a44-a89e-074517f5d24a",
   "metadata": {},
   "outputs": [
    {
     "name": "stdout",
     "output_type": "stream",
     "text": [
      "boolVar는  0.1\n"
     ]
    }
   ],
   "source": [
    "print(\"boolVar는 \", boolVar)"
   ]
  },
  {
   "cell_type": "code",
   "execution_count": 53,
   "id": "169f322f-3fe0-4a59-b36c-f73e8b10f363",
   "metadata": {},
   "outputs": [
    {
     "name": "stdout",
     "output_type": "stream",
     "text": [
      "boolVar는 0.100000\n"
     ]
    }
   ],
   "source": [
    "print(\"boolVar는 %f\" % boolVar)"
   ]
  },
  {
   "cell_type": "markdown",
   "id": "f8e98449-a516-457c-b41f-dac15ef8f0e4",
   "metadata": {},
   "source": [
    "#### **변수이름**\n",
    "\n",
    "- 숫자시작 X\n",
    "- 예약어 X\n",
    "- 대소문자 구분"
   ]
  },
  {
   "cell_type": "code",
   "execution_count": 54,
   "id": "b8cf02ec-497b-4e6f-9eab-cf4765b3a14d",
   "metadata": {},
   "outputs": [
    {
     "ename": "SyntaxError",
     "evalue": "invalid syntax (Temp/ipykernel_6836/2716630727.py, line 1)",
     "output_type": "error",
     "traceback": [
      "\u001b[1;36m  File \u001b[1;32m\"C:\\Users\\BIT\\AppData\\Local\\Temp/ipykernel_6836/2716630727.py\"\u001b[1;36m, line \u001b[1;32m1\u001b[0m\n\u001b[1;33m    2Var = 10\u001b[0m\n\u001b[1;37m     ^\u001b[0m\n\u001b[1;31mSyntaxError\u001b[0m\u001b[1;31m:\u001b[0m invalid syntax\n"
     ]
    }
   ],
   "source": [
    "2Var = 10"
   ]
  },
  {
   "cell_type": "code",
   "execution_count": 55,
   "id": "05c797e7-067f-496d-99f2-4fa3109e27df",
   "metadata": {},
   "outputs": [],
   "source": [
    "_Var = 10"
   ]
  },
  {
   "cell_type": "code",
   "execution_count": 14,
   "id": "9c0364c8-2ec0-462c-bd4a-be79cd61864a",
   "metadata": {},
   "outputs": [
    {
     "data": {
      "text/plain": [
       "(10, 11)"
      ]
     },
     "execution_count": 14,
     "metadata": {},
     "output_type": "execute_result"
    }
   ],
   "source": [
    "myVar =10\n",
    "MyVar = 11\n",
    "myVar, MyVar"
   ]
  },
  {
   "cell_type": "markdown",
   "id": "f4569f7f-e282-4b5c-8a6e-aa50eda4a49d",
   "metadata": {},
   "source": [
    "< 예약어 >"
   ]
  },
  {
   "cell_type": "code",
   "execution_count": 58,
   "id": "c90b10aa-1c15-4411-8a9d-fabf48bc0bc9",
   "metadata": {},
   "outputs": [],
   "source": [
    "import keyword"
   ]
  },
  {
   "cell_type": "code",
   "execution_count": 74,
   "id": "be3a4972-8bb6-437a-9035-2c1b07414372",
   "metadata": {},
   "outputs": [
    {
     "data": {
      "text/plain": [
       "['False',\n",
       " 'None',\n",
       " 'True',\n",
       " '__peg_parser__',\n",
       " 'and',\n",
       " 'as',\n",
       " 'assert',\n",
       " 'async',\n",
       " 'await',\n",
       " 'break',\n",
       " 'class',\n",
       " 'continue',\n",
       " 'def',\n",
       " 'del',\n",
       " 'elif',\n",
       " 'else',\n",
       " 'except',\n",
       " 'finally',\n",
       " 'for',\n",
       " 'from',\n",
       " 'global',\n",
       " 'if',\n",
       " 'import',\n",
       " 'in',\n",
       " 'is',\n",
       " 'lambda',\n",
       " 'nonlocal',\n",
       " 'not',\n",
       " 'or',\n",
       " 'pass',\n",
       " 'raise',\n",
       " 'return',\n",
       " 'try',\n",
       " 'while',\n",
       " 'with',\n",
       " 'yield']"
      ]
     },
     "execution_count": 74,
     "metadata": {},
     "output_type": "execute_result"
    }
   ],
   "source": [
    "keyword.kwlist # keyword.Tab 누르기 -> keyword 외부 연동 함수(예약어)"
   ]
  },
  {
   "cell_type": "markdown",
   "id": "dbe0b366-eaa6-44ed-8019-1e03b0bbc72c",
   "metadata": {},
   "source": [
    "**type() 함수 : 변수의 형태를 알수있음**\n",
    "\n",
    "- bool(불) -> true or false\n",
    "- int(정수)\n",
    "- float(실수)\n",
    "- str(문자열)"
   ]
  },
  {
   "cell_type": "code",
   "execution_count": 15,
   "id": "d11803f1-3821-4e92-aac6-88198d6a1991",
   "metadata": {},
   "outputs": [
    {
     "data": {
      "text/plain": [
       "int"
      ]
     },
     "execution_count": 15,
     "metadata": {},
     "output_type": "execute_result"
    }
   ],
   "source": [
    "type(myVar)"
   ]
  },
  {
   "cell_type": "markdown",
   "id": "9f9838d4-c21f-4f0c-81a4-771ecf45b06c",
   "metadata": {},
   "source": [
    "## Section04 데이터 표현 단위와 진수 변환"
   ]
  },
  {
   "cell_type": "markdown",
   "id": "f483d35c-c75f-457d-94c4-594f6feb766b",
   "metadata": {},
   "source": [
    "#### **비트와 바이트**\n",
    "\n",
    "- 제일 작은 단위는 비트(Bit)\n",
    "- 비트 8개가 모이면 바이트(Byte), 킬로바이트, 메가바이트 ...\n",
    "- 비트는 0과 1만 존재\n",
    "\n",
    "< 진수 변환 >\n",
    "\n",
    "- hex(숫자) -> 숫자를 16진수로 출력\n",
    "- oct(숫자) -> 숫자를 8진수로 출력\n",
    "- bin(숫자) -> 숫자를 2진수로 출력"
   ]
  },
  {
   "cell_type": "code",
   "execution_count": 67,
   "id": "563d361e-375d-4fb5-99b1-ec6f8e9e470a",
   "metadata": {},
   "outputs": [
    {
     "data": {
      "text/plain": [
       "147"
      ]
     },
     "execution_count": 67,
     "metadata": {},
     "output_type": "execute_result"
    }
   ],
   "source": [
    "0b10010011"
   ]
  },
  {
   "cell_type": "code",
   "execution_count": 68,
   "id": "f0b7bc0e-70ca-42ff-866c-752e3427c3d7",
   "metadata": {},
   "outputs": [
    {
     "data": {
      "text/plain": [
       "147"
      ]
     },
     "execution_count": 68,
     "metadata": {},
     "output_type": "execute_result"
    }
   ],
   "source": [
    "a = 0b10010011\n",
    "a"
   ]
  },
  {
   "cell_type": "code",
   "execution_count": 91,
   "id": "7a26cebc-bff9-4bf2-af39-6b25de6a1ee8",
   "metadata": {},
   "outputs": [
    {
     "data": {
      "text/plain": [
       "147"
      ]
     },
     "execution_count": 91,
     "metadata": {},
     "output_type": "execute_result"
    }
   ],
   "source": [
    "int(\"10010011\", 2) # 2 -> 이 숫자가 2진수임을 알려주는 것"
   ]
  },
  {
   "cell_type": "code",
   "execution_count": 85,
   "id": "8c06d213-9304-4916-85a2-5ad59d76d507",
   "metadata": {},
   "outputs": [
    {
     "data": {
      "text/plain": [
       "250"
      ]
     },
     "execution_count": 85,
     "metadata": {},
     "output_type": "execute_result"
    }
   ],
   "source": [
    "int(\"FA\", 16)"
   ]
  },
  {
   "cell_type": "code",
   "execution_count": 115,
   "id": "e833520f-c622-49f9-aae5-5b88c8e4ac02",
   "metadata": {},
   "outputs": [
    {
     "data": {
      "text/plain": [
       "'0b10010011'"
      ]
     },
     "execution_count": 115,
     "metadata": {},
     "output_type": "execute_result"
    }
   ],
   "source": [
    "bin(147) # 정수를 2진수로 변환"
   ]
  },
  {
   "cell_type": "code",
   "execution_count": 116,
   "id": "47a09070-e2e9-4836-ae68-b990f76031cf",
   "metadata": {},
   "outputs": [
    {
     "data": {
      "text/plain": [
       "'0b11111010'"
      ]
     },
     "execution_count": 116,
     "metadata": {},
     "output_type": "execute_result"
    }
   ],
   "source": [
    "bin(0xFA) # 8진수를 2진수로 변환"
   ]
  },
  {
   "cell_type": "markdown",
   "id": "2354d04e-bb60-48f5-86a3-bf8f32e381de",
   "metadata": {},
   "source": [
    "## p.81 3-2 실습해보기!"
   ]
  },
  {
   "cell_type": "code",
   "execution_count": 94,
   "id": "9752bb5d-a696-4fea-8755-9a9740b58f0a",
   "metadata": {},
   "outputs": [
    {
     "name": "stdin",
     "output_type": "stream",
     "text": [
      "입력 진수 결정(16/10/8/2):  10\n",
      "값 입력:  265\n"
     ]
    },
    {
     "name": "stdout",
     "output_type": "stream",
     "text": [
      "16진수 ==>  0x109\n",
      "10진수 ==>  265\n",
      "8진수 ==>  0o411\n",
      "2진수 ==>  0b100001001\n"
     ]
    }
   ],
   "source": [
    "sel = int(input(\"입력 진수 결정(16/10/8/2): \"))\n",
    "num = input(\"값 입력: \")\n",
    "\n",
    "if sel == 16:\n",
    "    num10 = int(num, 16)\n",
    "if sel == 10:\n",
    "    num10 = int(num, 10)\n",
    "if sel == 8:\n",
    "    num10 = int(num, 8)\n",
    "if sel == 2:\n",
    "    num10 = int(num, 2)\n",
    "\n",
    "print(\"16진수 ==> \", hex(num10))\n",
    "print(\"10진수 ==> \", num10)\n",
    "print(\"8진수 ==> \", oct(num10))\n",
    "print(\"2진수 ==> \", bin(num10))"
   ]
  },
  {
   "cell_type": "markdown",
   "id": "ff8dfa12-0bcc-44a1-a6dc-db1a63fcd148",
   "metadata": {},
   "source": [
    "## Section05 기본 데이터형"
   ]
  },
  {
   "cell_type": "markdown",
   "id": "efb669f0-99f1-41c4-b4ac-5f4107d5fa49",
   "metadata": {},
   "source": [
    "**기본형식 -> 하나의 값을 저장하는 방법**"
   ]
  },
  {
   "cell_type": "code",
   "execution_count": 17,
   "id": "6be8afd2-eea4-4c54-846b-0bf31a18c185",
   "metadata": {},
   "outputs": [
    {
     "data": {
      "text/plain": [
       "123"
      ]
     },
     "execution_count": 17,
     "metadata": {},
     "output_type": "execute_result"
    }
   ],
   "source": [
    "a =123 # 정수\n",
    "a"
   ]
  },
  {
   "cell_type": "code",
   "execution_count": 18,
   "id": "545bd637-139d-4b98-b7af-f6a3deb6a76b",
   "metadata": {},
   "outputs": [
    {
     "data": {
      "text/plain": [
       "int"
      ]
     },
     "execution_count": 18,
     "metadata": {},
     "output_type": "execute_result"
    }
   ],
   "source": [
    "type(a)"
   ]
  },
  {
   "cell_type": "code",
   "execution_count": 19,
   "id": "76f2103e-58a7-4dfe-b66f-27f1379494f1",
   "metadata": {},
   "outputs": [
    {
     "data": {
      "text/plain": [
       "123000"
      ]
     },
     "execution_count": 19,
     "metadata": {},
     "output_type": "execute_result"
    }
   ],
   "source": [
    "a = a * 1000\n",
    "a"
   ]
  },
  {
   "cell_type": "code",
   "execution_count": 20,
   "id": "757cb18c-5936-4554-841a-385ab532ef7e",
   "metadata": {},
   "outputs": [
    {
     "data": {
      "text/plain": [
       "100000000000000000000000000000000000000000000000000000000000000000000000000000000000000000000000000000000000000000000000000000000000000000000000000000000000000000000000000000000000000000000000000000000"
      ]
     },
     "execution_count": 20,
     "metadata": {},
     "output_type": "execute_result"
    }
   ],
   "source": [
    "a = 100 ** 100\n",
    "a"
   ]
  },
  {
   "cell_type": "code",
   "execution_count": 21,
   "id": "40bfede9-5d81-43d3-9331-d3fa1cb716d8",
   "metadata": {},
   "outputs": [
    {
     "data": {
      "text/plain": [
       "int"
      ]
     },
     "execution_count": 21,
     "metadata": {},
     "output_type": "execute_result"
    }
   ],
   "source": [
    "type(a)"
   ]
  },
  {
   "cell_type": "code",
   "execution_count": 2,
   "id": "7d5e1ba2-1d4a-4665-8b6c-1299d8e17ecc",
   "metadata": {},
   "outputs": [
    {
     "data": {
      "text/plain": [
       "int"
      ]
     },
     "execution_count": 2,
     "metadata": {},
     "output_type": "execute_result"
    }
   ],
   "source": [
    "a = 0xFF # 8진수\n",
    "type(a)"
   ]
  },
  {
   "cell_type": "code",
   "execution_count": 108,
   "id": "47b9b6cd-85c9-4035-b663-20439721a7cd",
   "metadata": {},
   "outputs": [
    {
     "data": {
      "text/plain": [
       "int"
      ]
     },
     "execution_count": 108,
     "metadata": {},
     "output_type": "execute_result"
    }
   ],
   "source": [
    "type(0b11111) # 2진수"
   ]
  },
  {
   "cell_type": "code",
   "execution_count": 111,
   "id": "5ea4b449-62cd-4d70-8348-e5acb0dd7fc4",
   "metadata": {},
   "outputs": [
    {
     "data": {
      "text/plain": [
       "(3.14, 314000.0)"
      ]
     },
     "execution_count": 111,
     "metadata": {},
     "output_type": "execute_result"
    }
   ],
   "source": [
    "a = 3.14\n",
    "b = 3.14e5 # e=지수 5=0의 개수\n",
    "a, b"
   ]
  },
  {
   "cell_type": "code",
   "execution_count": 112,
   "id": "5a893732-f248-4243-b609-3bea6a64d554",
   "metadata": {},
   "outputs": [
    {
     "data": {
      "text/plain": [
       "110000.0"
      ]
     },
     "execution_count": 112,
     "metadata": {},
     "output_type": "execute_result"
    }
   ],
   "source": [
    "1.1e5"
   ]
  },
  {
   "cell_type": "code",
   "execution_count": 114,
   "id": "ab8f340b-63a0-42fa-9460-59d29274914c",
   "metadata": {},
   "outputs": [
    {
     "data": {
      "text/plain": [
       "101000.0"
      ]
     },
     "execution_count": 114,
     "metadata": {},
     "output_type": "execute_result"
    }
   ],
   "source": [
    "1.01e5"
   ]
  },
  {
   "cell_type": "code",
   "execution_count": 117,
   "id": "5eee0364-9c5f-4637-8e42-06535bb79bde",
   "metadata": {},
   "outputs": [
    {
     "ename": "SyntaxError",
     "evalue": "invalid syntax (Temp/ipykernel_6836/1862721534.py, line 1)",
     "output_type": "error",
     "traceback": [
      "\u001b[1;36m  File \u001b[1;32m\"C:\\Users\\BIT\\AppData\\Local\\Temp/ipykernel_6836/1862721534.py\"\u001b[1;36m, line \u001b[1;32m1\u001b[0m\n\u001b[1;33m    a = 10 b = 10\u001b[0m\n\u001b[1;37m           ^\u001b[0m\n\u001b[1;31mSyntaxError\u001b[0m\u001b[1;31m:\u001b[0m invalid syntax\n"
     ]
    }
   ],
   "source": [
    "a = 10 b = 10 # 나열하면 오류"
   ]
  },
  {
   "cell_type": "code",
   "execution_count": 118,
   "id": "54677672-e20a-426c-a403-b6a37e6f827b",
   "metadata": {},
   "outputs": [],
   "source": [
    "a = 10 ; b = 20"
   ]
  },
  {
   "cell_type": "code",
   "execution_count": 119,
   "id": "ce8aeb31-b0c1-4977-b5a8-7569fc527597",
   "metadata": {},
   "outputs": [
    {
     "data": {
      "text/plain": [
       "30"
      ]
     },
     "execution_count": 119,
     "metadata": {},
     "output_type": "execute_result"
    }
   ],
   "source": [
    "a + b"
   ]
  },
  {
   "cell_type": "code",
   "execution_count": 120,
   "id": "43169407-bc56-4710-a039-62fe4e3287ea",
   "metadata": {},
   "outputs": [
    {
     "data": {
      "text/plain": [
       "-10"
      ]
     },
     "execution_count": 120,
     "metadata": {},
     "output_type": "execute_result"
    }
   ],
   "source": [
    "a - b"
   ]
  },
  {
   "cell_type": "code",
   "execution_count": 121,
   "id": "dab05de9-bdc7-4e9a-a392-969cf728aec6",
   "metadata": {},
   "outputs": [
    {
     "data": {
      "text/plain": [
       "200"
      ]
     },
     "execution_count": 121,
     "metadata": {},
     "output_type": "execute_result"
    }
   ],
   "source": [
    "a * b"
   ]
  },
  {
   "cell_type": "markdown",
   "id": "0538359e-c633-4073-9905-69172d5ea61b",
   "metadata": {},
   "source": [
    "1. 정밀도가 큰 자료형으로 결과가 반환! <-- 1보다 1.0이 정밀도가 더 크다\n",
    "2. 자료 범위가 큰 자료형으로 결과가 반환!"
   ]
  },
  {
   "cell_type": "code",
   "execution_count": 127,
   "id": "ac3b082f-b7be-49e1-a4b5-4e97ad4d3225",
   "metadata": {},
   "outputs": [
    {
     "data": {
      "text/plain": [
       "0.5"
      ]
     },
     "execution_count": 127,
     "metadata": {},
     "output_type": "execute_result"
    }
   ],
   "source": [
    "a / b"
   ]
  },
  {
   "cell_type": "code",
   "execution_count": 125,
   "id": "0ffc52b5-c649-4742-aaff-b9101079b82e",
   "metadata": {},
   "outputs": [
    {
     "data": {
      "text/plain": [
       "10"
      ]
     },
     "execution_count": 125,
     "metadata": {},
     "output_type": "execute_result"
    }
   ],
   "source": [
    "a % b # 나머지"
   ]
  },
  {
   "cell_type": "code",
   "execution_count": 126,
   "id": "96aff24f-3254-4486-89aa-001accc111b4",
   "metadata": {},
   "outputs": [
    {
     "data": {
      "text/plain": [
       "0"
      ]
     },
     "execution_count": 126,
     "metadata": {},
     "output_type": "execute_result"
    }
   ],
   "source": [
    "a // b # 몫"
   ]
  },
  {
   "cell_type": "markdown",
   "id": "fec33f69-ed66-467e-a6dc-f531097cadb4",
   "metadata": {},
   "source": [
    "**bool(불리언)은 참(True)과 거짓(False)으로만 결과 출력 -> 조건문 판단에 주로 사용**"
   ]
  },
  {
   "cell_type": "code",
   "execution_count": 6,
   "id": "ce2341c9-4331-4384-9562-fcbc3a212b19",
   "metadata": {},
   "outputs": [
    {
     "data": {
      "text/plain": [
       "bool"
      ]
     },
     "execution_count": 6,
     "metadata": {},
     "output_type": "execute_result"
    }
   ],
   "source": [
    "type(True)"
   ]
  },
  {
   "cell_type": "code",
   "execution_count": 129,
   "id": "93332fbe-8934-4bee-a3b9-425ff54ba706",
   "metadata": {},
   "outputs": [
    {
     "data": {
      "text/plain": [
       "(False, True)"
      ]
     },
     "execution_count": 129,
     "metadata": {},
     "output_type": "execute_result"
    }
   ],
   "source": [
    "10 == 1, 10 == 10"
   ]
  },
  {
   "cell_type": "markdown",
   "id": "ba86b059-b1e6-4afd-8673-64b9375aacd0",
   "metadata": {},
   "source": [
    "**문자열 : 문자의 집합**"
   ]
  },
  {
   "cell_type": "code",
   "execution_count": 130,
   "id": "9b8f37ab-99c8-4b03-ab3b-450f92b447b0",
   "metadata": {},
   "outputs": [
    {
     "data": {
      "text/plain": [
       "'안녕하세요'"
      ]
     },
     "execution_count": 130,
     "metadata": {},
     "output_type": "execute_result"
    }
   ],
   "source": [
    "\"안녕하세요\""
   ]
  },
  {
   "cell_type": "code",
   "execution_count": 131,
   "id": "367b635f-9e26-4413-9d22-06bdf6082128",
   "metadata": {},
   "outputs": [
    {
     "data": {
      "text/plain": [
       "'안녕하세요'"
      ]
     },
     "execution_count": 131,
     "metadata": {},
     "output_type": "execute_result"
    }
   ],
   "source": [
    "'안녕하세요'"
   ]
  },
  {
   "cell_type": "code",
   "execution_count": 11,
   "id": "812d28e6-3128-46f2-bfae-ec03c804b29c",
   "metadata": {},
   "outputs": [],
   "source": [
    "a = \"안녕하세요\""
   ]
  },
  {
   "cell_type": "code",
   "execution_count": 12,
   "id": "c0dd5609-8297-4589-a28e-67a4fb3effa3",
   "metadata": {},
   "outputs": [
    {
     "data": {
      "text/plain": [
       "'안녕하세요'"
      ]
     },
     "execution_count": 12,
     "metadata": {},
     "output_type": "execute_result"
    }
   ],
   "source": [
    "a"
   ]
  },
  {
   "cell_type": "code",
   "execution_count": 13,
   "id": "57730e5a-b8e9-462d-b063-0dd92ac824a7",
   "metadata": {},
   "outputs": [
    {
     "data": {
      "text/plain": [
       "str"
      ]
     },
     "execution_count": 13,
     "metadata": {},
     "output_type": "execute_result"
    }
   ],
   "source": [
    "type(a)"
   ]
  },
  {
   "cell_type": "code",
   "execution_count": 1,
   "id": "3ef3fd61-d30c-48e0-8d77-d25d9b121afd",
   "metadata": {},
   "outputs": [
    {
     "ename": "SyntaxError",
     "evalue": "EOL while scanning string literal (Temp/ipykernel_4948/775585505.py, line 1)",
     "output_type": "error",
     "traceback": [
      "\u001b[1;36m  File \u001b[1;32m\"C:\\Users\\BIT\\AppData\\Local\\Temp/ipykernel_4948/775585505.py\"\u001b[1;36m, line \u001b[1;32m1\u001b[0m\n\u001b[1;33m    a = \"안녕하세요.\u001b[0m\n\u001b[1;37m               ^\u001b[0m\n\u001b[1;31mSyntaxError\u001b[0m\u001b[1;31m:\u001b[0m EOL while scanning string literal\n"
     ]
    }
   ],
   "source": [
    "a = \"안녕하세요.\n",
    "반갑습니다.\"  \n",
    "# 줄바꾸면 오류"
   ]
  },
  {
   "cell_type": "markdown",
   "id": "c3965667-c296-447d-b814-d01458a35830",
   "metadata": {},
   "source": [
    "**docstrings**"
   ]
  },
  {
   "cell_type": "code",
   "execution_count": 25,
   "id": "d1c9a233-7118-4ae4-ad19-f343e87655dc",
   "metadata": {},
   "outputs": [],
   "source": [
    "a = \"\"\"  \n",
    "안녕하세용\n",
    "반갑습니다.\n",
    "파이썬 교육 수료하였습니다. \n",
    "\"\"\" \n",
    "# \"\"\" 세개 나열하면 줄바꿈 가능"
   ]
  },
  {
   "cell_type": "code",
   "execution_count": 26,
   "id": "8f8fb9a3-80d4-459d-bf3f-c9b84bbdd617",
   "metadata": {},
   "outputs": [
    {
     "name": "stdout",
     "output_type": "stream",
     "text": [
      "  \n",
      "안녕하세용\n",
      "반갑습니다.\n",
      "파이썬 교육 수료하였습니다. \n",
      "\n"
     ]
    }
   ],
   "source": [
    "print(a)"
   ]
  },
  {
   "cell_type": "code",
   "execution_count": 27,
   "id": "ae7c12fc-a3e5-4496-8896-ecd3f7cd82e7",
   "metadata": {},
   "outputs": [],
   "source": [
    "c = \"반갑습니다\""
   ]
  },
  {
   "cell_type": "code",
   "execution_count": 28,
   "id": "830fcf62-d680-49e0-8032-239aaa8e0bc7",
   "metadata": {},
   "outputs": [
    {
     "data": {
      "text/plain": [
       "'반갑습니다'"
      ]
     },
     "execution_count": 28,
     "metadata": {},
     "output_type": "execute_result"
    }
   ],
   "source": [
    "c"
   ]
  },
  {
   "cell_type": "code",
   "execution_count": 29,
   "id": "e8e31e91-2009-4cc5-a847-433425fa5674",
   "metadata": {},
   "outputs": [
    {
     "data": {
      "text/plain": [
       "str"
      ]
     },
     "execution_count": 29,
     "metadata": {},
     "output_type": "execute_result"
    }
   ],
   "source": [
    "type(c)"
   ]
  },
  {
   "cell_type": "code",
   "execution_count": 30,
   "id": "5bb61bf2-2d95-4e2b-b8b5-31266db04835",
   "metadata": {},
   "outputs": [
    {
     "data": {
      "text/plain": [
       "0.5"
      ]
     },
     "execution_count": 30,
     "metadata": {},
     "output_type": "execute_result"
    }
   ],
   "source": [
    "5/10"
   ]
  },
  {
   "cell_type": "code",
   "execution_count": null,
   "id": "c5de8595-5e8e-48d9-b6bb-0889007d26bf",
   "metadata": {},
   "outputs": [],
   "source": []
  }
 ],
 "metadata": {
  "kernelspec": {
   "display_name": "Python 3 (ipykernel)",
   "language": "python",
   "name": "python3"
  },
  "language_info": {
   "codemirror_mode": {
    "name": "ipython",
    "version": 3
   },
   "file_extension": ".py",
   "mimetype": "text/x-python",
   "name": "python",
   "nbconvert_exporter": "python",
   "pygments_lexer": "ipython3",
   "version": "3.9.7"
  }
 },
 "nbformat": 4,
 "nbformat_minor": 5
}
