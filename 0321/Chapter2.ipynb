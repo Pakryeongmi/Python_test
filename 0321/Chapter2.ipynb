{
 "cells": [
  {
   "cell_type": "markdown",
   "id": "9099602e-f44f-4bf9-8c5a-038488368908",
   "metadata": {},
   "source": [
    "a,b > memory 에 각 값 저장"
   ]
  },
  {
   "cell_type": "code",
   "execution_count": 2,
   "id": "707e540b-aaea-48d3-b3d8-968757b84cbe",
   "metadata": {},
   "outputs": [],
   "source": [
    "a = 100\n",
    "b = 50"
   ]
  },
  {
   "cell_type": "code",
   "execution_count": 3,
   "id": "8da5d120-0225-48ed-a3ef-77a21dc5253e",
   "metadata": {},
   "outputs": [
    {
     "data": {
      "text/plain": [
       "100"
      ]
     },
     "execution_count": 3,
     "metadata": {},
     "output_type": "execute_result"
    }
   ],
   "source": [
    "a"
   ]
  },
  {
   "cell_type": "code",
   "execution_count": 4,
   "id": "954af489-09d5-48b4-8d6f-bc9d8a5f7c5c",
   "metadata": {},
   "outputs": [
    {
     "name": "stdout",
     "output_type": "stream",
     "text": [
      "100\n"
     ]
    }
   ],
   "source": [
    "print(a)"
   ]
  },
  {
   "cell_type": "code",
   "execution_count": 5,
   "id": "22671885-3c8a-416f-a659-1e848496d0f8",
   "metadata": {},
   "outputs": [
    {
     "data": {
      "text/plain": [
       "50"
      ]
     },
     "execution_count": 5,
     "metadata": {},
     "output_type": "execute_result"
    }
   ],
   "source": [
    "b"
   ]
  },
  {
   "cell_type": "code",
   "execution_count": 6,
   "id": "6bd6d717-efa5-4860-96ce-7dddd0cebe57",
   "metadata": {},
   "outputs": [
    {
     "name": "stdout",
     "output_type": "stream",
     "text": [
      "50\n"
     ]
    }
   ],
   "source": [
    "print(b)"
   ]
  },
  {
   "cell_type": "code",
   "execution_count": 8,
   "id": "98385541-932a-4841-836f-0616816db517",
   "metadata": {},
   "outputs": [
    {
     "data": {
      "text/plain": [
       "(100, 50)"
      ]
     },
     "execution_count": 8,
     "metadata": {},
     "output_type": "execute_result"
    }
   ],
   "source": [
    "a, b #튜플 반환"
   ]
  },
  {
   "cell_type": "code",
   "execution_count": 9,
   "id": "ddd0fea8-11d1-4761-9855-da2add00ec54",
   "metadata": {},
   "outputs": [
    {
     "data": {
      "text/plain": [
       "150"
      ]
     },
     "execution_count": 9,
     "metadata": {},
     "output_type": "execute_result"
    }
   ],
   "source": [
    "a+b"
   ]
  },
  {
   "cell_type": "code",
   "execution_count": 10,
   "id": "3f16df3c-4ee2-43bb-a1a0-ab2e46157b17",
   "metadata": {},
   "outputs": [
    {
     "data": {
      "text/plain": [
       "50"
      ]
     },
     "execution_count": 10,
     "metadata": {},
     "output_type": "execute_result"
    }
   ],
   "source": [
    "a-b"
   ]
  },
  {
   "cell_type": "code",
   "execution_count": 11,
   "id": "0faca071-8249-4c3a-ad1c-73cd4408f163",
   "metadata": {},
   "outputs": [
    {
     "data": {
      "text/plain": [
       "2.0"
      ]
     },
     "execution_count": 11,
     "metadata": {},
     "output_type": "execute_result"
    }
   ],
   "source": [
    "a/b"
   ]
  },
  {
   "cell_type": "code",
   "execution_count": 12,
   "id": "985eb6c7-5130-4414-bf85-1769dc5d908f",
   "metadata": {},
   "outputs": [
    {
     "data": {
      "text/plain": [
       "5000"
      ]
     },
     "execution_count": 12,
     "metadata": {},
     "output_type": "execute_result"
    }
   ],
   "source": [
    "a*b"
   ]
  },
  {
   "cell_type": "code",
   "execution_count": 14,
   "id": "a0b5273e-08b1-4818-a7a7-c402d56071a0",
   "metadata": {},
   "outputs": [
    {
     "data": {
      "text/plain": [
       "5000"
      ]
     },
     "execution_count": 14,
     "metadata": {},
     "output_type": "execute_result"
    }
   ],
   "source": [
    "result=a*b\n",
    "result"
   ]
  },
  {
   "cell_type": "code",
   "execution_count": 17,
   "id": "72a3f56f-dbda-4b4d-9325-3f03807a06f1",
   "metadata": {},
   "outputs": [
    {
     "data": {
      "text/plain": [
       "100.0"
      ]
     },
     "execution_count": 17,
     "metadata": {},
     "output_type": "execute_result"
    }
   ],
   "source": [
    "math_score=100\n",
    "eng_score=100\n",
    "average=(math_score+eng_score)/2\n",
    "average"
   ]
  },
  {
   "cell_type": "code",
   "execution_count": 18,
   "id": "3a06be9e-408f-4a72-83d1-c7ccf4e052f4",
   "metadata": {},
   "outputs": [
    {
     "data": {
      "text/plain": [
       "'백점'"
      ]
     },
     "execution_count": 18,
     "metadata": {},
     "output_type": "execute_result"
    }
   ],
   "source": [
    "math_score=\"백점\"\n",
    "math_score"
   ]
  },
  {
   "cell_type": "code",
   "execution_count": 19,
   "id": "94bed237-e292-4b4b-9ac1-60b8a3762f6a",
   "metadata": {},
   "outputs": [
    {
     "name": "stdout",
     "output_type": "stream",
     "text": [
      "100 + 50 = 5000\n"
     ]
    }
   ],
   "source": [
    "#결과 출력\n",
    "print(a,'+',b,'=',result)"
   ]
  },
  {
   "cell_type": "code",
   "execution_count": 20,
   "id": "946f5b70-d2a7-454c-b635-94f982267bb9",
   "metadata": {},
   "outputs": [
    {
     "data": {
      "text/plain": [
       "150"
      ]
     },
     "execution_count": 20,
     "metadata": {},
     "output_type": "execute_result"
    }
   ],
   "source": [
    "a=100\n",
    "b=50\n",
    "result=a+b\n",
    "result"
   ]
  },
  {
   "cell_type": "code",
   "execution_count": null,
   "id": "7ce3293c-39c3-4e9c-9cf5-ab0a1f841fd4",
   "metadata": {},
   "outputs": [
    {
     "data": {
      "text/plain": [
       "50"
      ]
     },
     "execution_count": 21,
     "metadata": {},
     "output_type": "execute_result"
    }
   ],
   "source": [
    "result=a-b\n",
    "result"
   ]
  },
  {
   "cell_type": "code",
   "execution_count": null,
   "id": "453cf7b8-1896-497d-85ec-da6949ddd08d",
   "metadata": {},
   "outputs": [
    {
     "data": {
      "text/plain": [
       "2.0"
      ]
     },
     "execution_count": 22,
     "metadata": {},
     "output_type": "execute_result"
    }
   ],
   "source": [
    "result=a/b\n",
    "result"
   ]
  },
  {
   "cell_type": "code",
   "execution_count": null,
   "id": "9e10576d-1f8f-4e7f-af6e-d8c62fd89007",
   "metadata": {},
   "outputs": [
    {
     "data": {
      "text/plain": [
       "5000"
      ]
     },
     "execution_count": 23,
     "metadata": {},
     "output_type": "execute_result"
    }
   ],
   "source": [
    "result=a*b\n",
    "result"
   ]
  },
  {
   "cell_type": "code",
   "execution_count": 24,
   "id": "edbacfb1-df54-4ec8-991a-431dbfac27f8",
   "metadata": {},
   "outputs": [
    {
     "name": "stdout",
     "output_type": "stream",
     "text": [
      "100 * 50 = 5000\n"
     ]
    }
   ],
   "source": [
    "print(a,'*',b,'=',result)"
   ]
  },
  {
   "cell_type": "markdown",
   "id": "c34f8051-f78d-4c8e-8aeb-28ec94fa19f0",
   "metadata": {},
   "source": [
    "사칙연산을 수행합니다"
   ]
  },
  {
   "cell_type": "code",
   "execution_count": 25,
   "id": "81aaef9f-32c5-4670-99c5-ed721ab26741",
   "metadata": {},
   "outputs": [
    {
     "data": {
      "text/plain": [
       "50"
      ]
     },
     "execution_count": 25,
     "metadata": {},
     "output_type": "execute_result"
    }
   ],
   "source": [
    "a=100\n",
    "b=50\n",
    "result=a+b\n",
    "result\n",
    "result=a-b\n",
    "result"
   ]
  },
  {
   "cell_type": "markdown",
   "id": "3f8235ad-cd67-45f5-8dbb-8ec296b0e812",
   "metadata": {},
   "source": [
    "#### 셀병합 Shift + M  되돌리기 Z\n",
    "#### 쉘나누기 Ctrl + Shift + \"-\""
   ]
  },
  {
   "cell_type": "markdown",
   "id": "83baffed-c52a-4ecb-870e-a14c505460f1",
   "metadata": {},
   "source": [
    "## p.60 연습문제 7번\n"
   ]
  },
  {
   "cell_type": "code",
   "execution_count": 7,
   "id": "3e685408-ff82-40f4-b310-3fbe91dfd1b2",
   "metadata": {},
   "outputs": [
    {
     "name": "stdin",
     "output_type": "stream",
     "text": [
      "숫자1 입력:  10\n",
      "숫자2 입력:  20\n",
      "숫자3 입력:  30\n"
     ]
    },
    {
     "name": "stdout",
     "output_type": "stream",
     "text": [
      "10 + 20 + 30 = 60\n",
      "10 * 20 * 30 = 6000\n"
     ]
    }
   ],
   "source": [
    "a = int(input(\"숫자1 입력: \"))  # int : 문자, 숫자  -> 숫자로!\n",
    "b = int(input(\"숫자2 입력: \"))\n",
    "c = int(input(\"숫자3 입력: \"))\n",
    "\n",
    "result = a + b + c\n",
    "print(a, \"+\", b, \"+\", c, \"=\", result)\n",
    "result = a * b * c\n",
    "print(a, \"*\", b, \"*\", c, \"=\", result)"
   ]
  },
  {
   "cell_type": "code",
   "execution_count": null,
   "id": "69ae8401-f204-4837-ab41-3bafec68f28e",
   "metadata": {},
   "outputs": [],
   "source": []
  }
 ],
 "metadata": {
  "kernelspec": {
   "display_name": "Python 3 (ipykernel)",
   "language": "python",
   "name": "python3"
  },
  "language_info": {
   "codemirror_mode": {
    "name": "ipython",
    "version": 3
   },
   "file_extension": ".py",
   "mimetype": "text/x-python",
   "name": "python",
   "nbconvert_exporter": "python",
   "pygments_lexer": "ipython3",
   "version": "3.9.7"
  }
 },
 "nbformat": 4,
 "nbformat_minor": 5
}
