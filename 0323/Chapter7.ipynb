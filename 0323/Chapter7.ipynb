{
 "cells": [
  {
   "cell_type": "markdown",
   "id": "e30ec348-6675-4c16-ab8f-4c9fd910ebdf",
   "metadata": {},
   "source": [
    "## Section02 리스트의 기본"
   ]
  },
  {
   "cell_type": "markdown",
   "id": "6ed1fff7-82b8-470b-b422-3532e5783de2",
   "metadata": {},
   "source": [
    "#### **리스트**\n",
    "- 순서(번호 - >>>> 인덱스, 0부터 순서가 생김)"
   ]
  },
  {
   "cell_type": "code",
   "execution_count": 1,
   "id": "316517eb-a450-4256-836e-e5a9b653fb49",
   "metadata": {},
   "outputs": [
    {
     "name": "stdin",
     "output_type": "stream",
     "text": [
      "1번째 숫자:  10\n",
      "2번째 숫자:  20\n",
      "3번째 숫자:  30\n",
      "4번째 숫자:  40\n"
     ]
    },
    {
     "name": "stdout",
     "output_type": "stream",
     "text": [
      "합계 ==> 100\n"
     ]
    }
   ],
   "source": [
    "a, b, c, d = 0, 0, 0, 0\n",
    "hap = 0\n",
    "\n",
    "a= int(input(\"1번째 숫자: \"))\n",
    "b= int(input(\"2번째 숫자: \"))\n",
    "c= int(input(\"3번째 숫자: \"))\n",
    "d= int(input(\"4번째 숫자: \"))\n",
    "\n",
    "hap = a + b + c + d\n",
    "print(\"합계 ==> %d\" % hap)"
   ]
  },
  {
   "cell_type": "code",
   "execution_count": 2,
   "id": "fa735101-ae11-4fe3-a8b4-90e2218d3a32",
   "metadata": {},
   "outputs": [],
   "source": [
    "a = [\"1\", 1, 1000, \"파\", \"이\", \"썬\"]"
   ]
  },
  {
   "cell_type": "code",
   "execution_count": 3,
   "id": "52bb6817-5c9f-4d2b-91bc-9045dd2be994",
   "metadata": {},
   "outputs": [
    {
     "data": {
      "text/plain": [
       "list"
      ]
     },
     "execution_count": 3,
     "metadata": {},
     "output_type": "execute_result"
    }
   ],
   "source": [
    "type(a)"
   ]
  },
  {
   "cell_type": "code",
   "execution_count": 6,
   "id": "754635b6-a197-4bec-ac5b-051eb140145c",
   "metadata": {},
   "outputs": [
    {
     "data": {
      "text/plain": [
       "'1'"
      ]
     },
     "execution_count": 6,
     "metadata": {},
     "output_type": "execute_result"
    }
   ],
   "source": [
    "# index 번호를 입력\n",
    "a[0] "
   ]
  },
  {
   "cell_type": "code",
   "execution_count": 7,
   "id": "e0ae8299-0f94-40bd-a0ea-7317bcbc0460",
   "metadata": {},
   "outputs": [
    {
     "data": {
      "text/plain": [
       "('이', '썬')"
      ]
     },
     "execution_count": 7,
     "metadata": {},
     "output_type": "execute_result"
    }
   ],
   "source": [
    "a[4], a[5]"
   ]
  },
  {
   "cell_type": "markdown",
   "id": "1539f900-9ef0-4a2a-87e4-e6ef143273c4",
   "metadata": {},
   "source": [
    "**for in 과 함께 사용!**"
   ]
  },
  {
   "cell_type": "code",
   "execution_count": 8,
   "id": "9fa24dcd-9894-4e68-8cac-e14ff8aeb6c4",
   "metadata": {},
   "outputs": [
    {
     "name": "stdout",
     "output_type": "stream",
     "text": [
      "1\n",
      "1\n",
      "1000\n",
      "파\n",
      "이\n",
      "썬\n"
     ]
    }
   ],
   "source": [
    "for i in a:\n",
    "    print(i)"
   ]
  },
  {
   "cell_type": "code",
   "execution_count": 9,
   "id": "1e4e84ea-50a8-47b4-97c4-dbb9752840eb",
   "metadata": {},
   "outputs": [],
   "source": [
    "b = [a, 1, 3, 5, 7, 9]"
   ]
  },
  {
   "cell_type": "code",
   "execution_count": 11,
   "id": "7576d512-ec64-4a29-8098-bb4588fb33bc",
   "metadata": {},
   "outputs": [
    {
     "data": {
      "text/plain": [
       "[['1', 1, 1000, '파', '이', '썬'], 1, 3, 5, 7, 9]"
      ]
     },
     "execution_count": 11,
     "metadata": {},
     "output_type": "execute_result"
    }
   ],
   "source": [
    "b  # list 안에 다른 list 넣을 수 있음"
   ]
  },
  {
   "cell_type": "markdown",
   "id": "997ed26f-6bd7-4992-9abe-407483d6a8f6",
   "metadata": {},
   "source": [
    "**빈 리스트 생성**"
   ]
  },
  {
   "cell_type": "code",
   "execution_count": 27,
   "id": "e0eba4e2-6798-45de-b745-deb3d58170c8",
   "metadata": {},
   "outputs": [],
   "source": [
    "a = []"
   ]
  },
  {
   "cell_type": "code",
   "execution_count": 28,
   "id": "5dd3ca87-3f99-4cc2-a769-9f6e20c17848",
   "metadata": {},
   "outputs": [
    {
     "data": {
      "text/plain": [
       "list"
      ]
     },
     "execution_count": 28,
     "metadata": {},
     "output_type": "execute_result"
    }
   ],
   "source": [
    "type(a)"
   ]
  },
  {
   "cell_type": "code",
   "execution_count": 29,
   "id": "f282d8a8-cb49-4db1-9b04-a899a414a82f",
   "metadata": {},
   "outputs": [],
   "source": [
    "# 빈 리스트에 값 입력(.append 함수 사용)\n",
    "a.append(1)\n",
    "a.append(\"둘\")\n",
    "a.append(3)"
   ]
  },
  {
   "cell_type": "code",
   "execution_count": 30,
   "id": "23aa2383-f40a-43e3-903e-4586a3b38a76",
   "metadata": {},
   "outputs": [
    {
     "data": {
      "text/plain": [
       "[1, '둘', 3]"
      ]
     },
     "execution_count": 30,
     "metadata": {},
     "output_type": "execute_result"
    }
   ],
   "source": [
    "a"
   ]
  },
  {
   "cell_type": "code",
   "execution_count": 31,
   "id": "bbaf5055-4e27-4b23-9244-29229f7bbf0d",
   "metadata": {},
   "outputs": [
    {
     "name": "stdout",
     "output_type": "stream",
     "text": [
      "1\n",
      "둘\n",
      "3\n"
     ]
    }
   ],
   "source": [
    "for i in a:\n",
    "    print(i)"
   ]
  },
  {
   "cell_type": "code",
   "execution_count": 32,
   "id": "3c74363a-4262-4ff6-9344-11395f85fb03",
   "metadata": {},
   "outputs": [
    {
     "data": {
      "text/plain": [
       "1"
      ]
     },
     "execution_count": 32,
     "metadata": {},
     "output_type": "execute_result"
    }
   ],
   "source": [
    "a[0]"
   ]
  },
  {
   "cell_type": "code",
   "execution_count": 33,
   "id": "4221c4b1-0a03-4697-8777-c8f68c3c39ba",
   "metadata": {},
   "outputs": [
    {
     "name": "stdout",
     "output_type": "stream",
     "text": [
      "1\n",
      "둘\n",
      "3\n"
     ]
    }
   ],
   "source": [
    "for i in range(0, 3):\n",
    "    print(a[i])"
   ]
  },
  {
   "cell_type": "code",
   "execution_count": 34,
   "id": "7fa746ec-40af-4e6b-9517-1b4b71dd9e7a",
   "metadata": {},
   "outputs": [
    {
     "data": {
      "text/plain": [
       "3"
      ]
     },
     "execution_count": 34,
     "metadata": {},
     "output_type": "execute_result"
    }
   ],
   "source": [
    "len(a)  # 몇개가 들어있는지 확인하는 함수"
   ]
  },
  {
   "cell_type": "code",
   "execution_count": 38,
   "id": "e8a45035-ee6a-4c5d-8d01-f6a46b2c6ab7",
   "metadata": {},
   "outputs": [
    {
     "name": "stdout",
     "output_type": "stream",
     "text": [
      "1\n",
      "둘\n",
      "3\n"
     ]
    }
   ],
   "source": [
    "for i in range(0, len(a), ):\n",
    "    print(a[i])"
   ]
  },
  {
   "cell_type": "code",
   "execution_count": 51,
   "id": "dd928318-d5a2-4fe3-b529-4fdbb46ff9aa",
   "metadata": {},
   "outputs": [
    {
     "name": "stdin",
     "output_type": "stream",
     "text": [
      "1번째 숫자:  10\n",
      "2번째 숫자:  20\n",
      "3번째 숫자:  30\n",
      "4번째 숫자:  40\n"
     ]
    },
    {
     "name": "stdout",
     "output_type": "stream",
     "text": [
      "합계 ==> 100\n"
     ]
    }
   ],
   "source": [
    "aa = []\n",
    "for i in range(0, 4):\n",
    "    aa.append(0)\n",
    "hap = 0\n",
    "\n",
    "for i in range(0, 4):\n",
    "    aa[i] = int(input(str(i + 1) + \"번째 숫자: \"))\n",
    "    hap = hap + aa[i]\n",
    "          \n",
    "print(\"합계 ==> %d\" % hap)"
   ]
  },
  {
   "cell_type": "markdown",
   "id": "7793d7d3-1f5f-46d8-b564-66379b927ce1",
   "metadata": {},
   "source": [
    "< P.192 실습 - 역순으로 된 인덱스 >"
   ]
  },
  {
   "cell_type": "code",
   "execution_count": 53,
   "id": "b5ff7c96-7fd5-44a4-9ee3-d35f20a845e2",
   "metadata": {},
   "outputs": [
    {
     "name": "stdout",
     "output_type": "stream",
     "text": [
      "bb[0]에는 198이, bb[99]에는 0이 입력됩니다.\n"
     ]
    }
   ],
   "source": [
    "aa = []\n",
    "bb = []\n",
    "value = 0\n",
    "\n",
    "for i in range(0, 100):\n",
    "    aa.append(value)\n",
    "    value += 2\n",
    "    \n",
    "for i in range(0, 100):\n",
    "    bb.append(aa[99 - i])\n",
    "print(\"bb[0]에는 %d이, bb[99]에는 %d이 입력됩니다.\" % (bb[0], bb[99]))    # ?????????"
   ]
  },
  {
   "cell_type": "markdown",
   "id": "a060503c-e741-4064-948a-2f8a1467c8be",
   "metadata": {},
   "source": [
    "### 리스트 인덱싱"
   ]
  },
  {
   "cell_type": "code",
   "execution_count": 54,
   "id": "dde93997-adda-45fc-b5d8-eac4cdda8c2f",
   "metadata": {},
   "outputs": [
    {
     "data": {
      "text/plain": [
       "[10, 20, 30, 40]"
      ]
     },
     "execution_count": 54,
     "metadata": {},
     "output_type": "execute_result"
    }
   ],
   "source": [
    "aa = [10, 20, 30, 40]\n",
    "aa"
   ]
  },
  {
   "cell_type": "code",
   "execution_count": 64,
   "id": "67b78c32-9090-4935-a7f9-2cadb5f6457d",
   "metadata": {},
   "outputs": [
    {
     "data": {
      "text/plain": [
       "(10, 30, 20)"
      ]
     },
     "execution_count": 64,
     "metadata": {},
     "output_type": "execute_result"
    }
   ],
   "source": [
    "aa[0], aa[2], aa[1]  # 인덱스 0부터 시작"
   ]
  },
  {
   "cell_type": "code",
   "execution_count": 65,
   "id": "e90c2a9c-ca8c-4adc-89a1-c45804d3450f",
   "metadata": {},
   "outputs": [
    {
     "data": {
      "text/plain": [
       "(40, 30)"
      ]
     },
     "execution_count": 65,
     "metadata": {},
     "output_type": "execute_result"
    }
   ],
   "source": [
    "aa[-1], aa[-2]  # 역방향"
   ]
  },
  {
   "cell_type": "code",
   "execution_count": 66,
   "id": "01a179f0-736a-40a5-91d7-db650466975a",
   "metadata": {},
   "outputs": [
    {
     "data": {
      "text/plain": [
       "[10]"
      ]
     },
     "execution_count": 66,
     "metadata": {},
     "output_type": "execute_result"
    }
   ],
   "source": [
    "aa[0:1]  # 인덱스 범위 \"start:stop\"  끝은 stop-1"
   ]
  },
  {
   "cell_type": "code",
   "execution_count": 67,
   "id": "1f2ee896-f00b-4597-8a96-7fa024a79ef7",
   "metadata": {},
   "outputs": [
    {
     "data": {
      "text/plain": [
       "[20, 30, 40]"
      ]
     },
     "execution_count": 67,
     "metadata": {},
     "output_type": "execute_result"
    }
   ],
   "source": [
    "aa[1:]  # 1부터 전부"
   ]
  },
  {
   "cell_type": "code",
   "execution_count": 68,
   "id": "1efe4c7f-251f-43ae-9c3e-417c769a2780",
   "metadata": {},
   "outputs": [
    {
     "data": {
      "text/plain": [
       "[10, 20]"
      ]
     },
     "execution_count": 68,
     "metadata": {},
     "output_type": "execute_result"
    }
   ],
   "source": [
    "aa[:2]  # 2전까지 전부"
   ]
  },
  {
   "cell_type": "code",
   "execution_count": 69,
   "id": "7250a4cd-c41e-47f3-8495-643af7a228e4",
   "metadata": {},
   "outputs": [
    {
     "data": {
      "text/plain": [
       "[10, 20, 30, 40]"
      ]
     },
     "execution_count": 69,
     "metadata": {},
     "output_type": "execute_result"
    }
   ],
   "source": [
    "aa[:]  # 전부다"
   ]
  },
  {
   "cell_type": "code",
   "execution_count": 72,
   "id": "92a5aa4d-639c-469f-bf49-7f077af57cd7",
   "metadata": {},
   "outputs": [
    {
     "data": {
      "text/plain": [
       "[10, 20, 30, 40]"
      ]
     },
     "execution_count": 72,
     "metadata": {},
     "output_type": "execute_result"
    }
   ],
   "source": [
    "_ = aa[:]   # copy!!\n",
    "_"
   ]
  },
  {
   "cell_type": "markdown",
   "id": "1983055a-a862-4c27-896e-f05f58ef5d44",
   "metadata": {},
   "source": [
    "#### in, not in"
   ]
  },
  {
   "cell_type": "code",
   "execution_count": 76,
   "id": "d1c6c222-bfbe-439c-912f-09ec7603b1f8",
   "metadata": {},
   "outputs": [
    {
     "data": {
      "text/plain": [
       "False"
      ]
     },
     "execution_count": 76,
     "metadata": {},
     "output_type": "execute_result"
    }
   ],
   "source": [
    "11 in aa  # aa 안에 11이 있는가?"
   ]
  },
  {
   "cell_type": "code",
   "execution_count": 77,
   "id": "cce88a27-5221-4e38-91cd-bfe5063cab73",
   "metadata": {},
   "outputs": [
    {
     "data": {
      "text/plain": [
       "True"
      ]
     },
     "execution_count": 77,
     "metadata": {},
     "output_type": "execute_result"
    }
   ],
   "source": [
    "11 not in aa  # aa 안에 11이 없는가?"
   ]
  },
  {
   "cell_type": "markdown",
   "id": "4d11678e-8f7c-4b6e-bb42-ff7046f0536f",
   "metadata": {},
   "source": [
    "#### broadcasting - 모든 변수에 영향을 미치는 것"
   ]
  },
  {
   "cell_type": "code",
   "execution_count": 86,
   "id": "becc2976-01d7-4388-9031-54ca5c7c9183",
   "metadata": {},
   "outputs": [
    {
     "data": {
      "text/plain": [
       "([10, 20, 30, 40], [50, 60, 70, 80])"
      ]
     },
     "execution_count": 86,
     "metadata": {},
     "output_type": "execute_result"
    }
   ],
   "source": [
    "a = [10, 20, 30, 40]  \n",
    "b = [50, 60, 70, 80]\n",
    "a, b"
   ]
  },
  {
   "cell_type": "code",
   "execution_count": 85,
   "id": "fbbc7d30-a7c7-48e3-a725-9f12f26181bd",
   "metadata": {},
   "outputs": [
    {
     "name": "stdout",
     "output_type": "stream",
     "text": [
      "[10, 20, 30, 40, 10, 20, 30, 40]\n"
     ]
    }
   ],
   "source": [
    "print(a * 2)  # a를 두번 복제"
   ]
  },
  {
   "cell_type": "code",
   "execution_count": 84,
   "id": "fff50042-67ad-449b-8b68-2442b6999d03",
   "metadata": {},
   "outputs": [
    {
     "data": {
      "text/plain": [
       "[10, 20, 30, 40, 50, 60, 70, 80]"
      ]
     },
     "execution_count": 84,
     "metadata": {},
     "output_type": "execute_result"
    }
   ],
   "source": [
    "a + b"
   ]
  },
  {
   "cell_type": "markdown",
   "id": "541d2749-5c31-4b85-baf0-b4d835c90a2f",
   "metadata": {},
   "source": [
    "#### step - 건너뛰어서 출력"
   ]
  },
  {
   "cell_type": "code",
   "execution_count": 89,
   "id": "d62f1782-1f5b-4c46-84a3-3d55e8e2cbf8",
   "metadata": {},
   "outputs": [
    {
     "data": {
      "text/plain": [
       "[10, 30, 50, 70]"
      ]
     },
     "execution_count": 89,
     "metadata": {},
     "output_type": "execute_result"
    }
   ],
   "source": [
    "a = [10, 20, 30, 40, 50, 60, 70, 80]\n",
    "a[::2]   # 처음부터 2칸씩 건너뛰기"
   ]
  },
  {
   "cell_type": "code",
   "execution_count": 92,
   "id": "c5313670-97c8-4ff7-8561-8b0823b5c085",
   "metadata": {},
   "outputs": [
    {
     "data": {
      "text/plain": [
       "[80, 60, 40, 20]"
      ]
     },
     "execution_count": 92,
     "metadata": {},
     "output_type": "execute_result"
    }
   ],
   "source": [
    "a[::-2]  # 뒤에서부터 2칸씩 건너뛰기"
   ]
  },
  {
   "cell_type": "code",
   "execution_count": 95,
   "id": "e5938f46-b7fe-43e9-861e-5b4e94fde9f4",
   "metadata": {},
   "outputs": [
    {
     "data": {
      "text/plain": [
       "[30, 50, 70]"
      ]
     },
     "execution_count": 95,
     "metadata": {},
     "output_type": "execute_result"
    }
   ],
   "source": [
    "a[2::2]  # 두번째자리부터 2칸씩 건너뛰기"
   ]
  },
  {
   "cell_type": "markdown",
   "id": "0ca258b6-d487-4ebc-8d9f-c9b3d9dc04f7",
   "metadata": {},
   "source": [
    "#### < 값의 변경 >\n",
    "- 불변형 자료: string, tuple\n",
    "- 가변형 자료: list, dict"
   ]
  },
  {
   "cell_type": "markdown",
   "id": "7e229b8a-3e19-4905-8a2f-4216abb9f9f2",
   "metadata": {},
   "source": [
    "### list() 함수"
   ]
  },
  {
   "cell_type": "code",
   "execution_count": 98,
   "id": "617e0da3-cc6c-4de5-80a8-c5275e317ef1",
   "metadata": {},
   "outputs": [
    {
     "name": "stdout",
     "output_type": "stream",
     "text": [
      "1\n",
      "2\n",
      "3\n",
      "4\n",
      "5\n",
      "6\n",
      "7\n",
      "8\n",
      "9\n",
      "10\n",
      "11\n",
      "12\n",
      "13\n",
      "14\n",
      "15\n",
      "16\n",
      "17\n",
      "18\n",
      "19\n",
      "20\n",
      "21\n",
      "22\n",
      "23\n",
      "24\n",
      "25\n",
      "26\n",
      "27\n",
      "28\n",
      "29\n",
      "30\n",
      "31\n",
      "32\n",
      "33\n",
      "34\n",
      "35\n",
      "36\n",
      "37\n",
      "38\n",
      "39\n",
      "40\n",
      "41\n",
      "42\n",
      "43\n",
      "44\n",
      "45\n",
      "46\n",
      "47\n",
      "48\n",
      "49\n",
      "50\n",
      "51\n",
      "52\n",
      "53\n",
      "54\n",
      "55\n",
      "56\n",
      "57\n",
      "58\n",
      "59\n",
      "60\n",
      "61\n",
      "62\n",
      "63\n",
      "64\n",
      "65\n",
      "66\n",
      "67\n",
      "68\n",
      "69\n",
      "70\n",
      "71\n",
      "72\n",
      "73\n",
      "74\n",
      "75\n",
      "76\n",
      "77\n",
      "78\n",
      "79\n",
      "80\n",
      "81\n",
      "82\n",
      "83\n",
      "84\n",
      "85\n",
      "86\n",
      "87\n",
      "88\n",
      "89\n",
      "90\n",
      "91\n",
      "92\n",
      "93\n",
      "94\n",
      "95\n",
      "96\n",
      "97\n",
      "98\n",
      "99\n"
     ]
    }
   ],
   "source": [
    "for i in range(1, 100):\n",
    "    print(i) "
   ]
  },
  {
   "cell_type": "code",
   "execution_count": 100,
   "id": "27afe39c-e776-4c75-ac27-a35fceff6473",
   "metadata": {},
   "outputs": [
    {
     "data": {
      "text/plain": [
       "range(1, 100)"
      ]
     },
     "execution_count": 100,
     "metadata": {},
     "output_type": "execute_result"
    }
   ],
   "source": [
    "range(1, 100)"
   ]
  },
  {
   "cell_type": "code",
   "execution_count": 99,
   "id": "0ffefe6d-bcc7-407e-ab37-46b8ff8e11c5",
   "metadata": {},
   "outputs": [
    {
     "data": {
      "text/plain": [
       "[1, 2, 3, 4, 5]"
      ]
     },
     "execution_count": 99,
     "metadata": {},
     "output_type": "execute_result"
    }
   ],
   "source": [
    "nums = list(range(1, 100))\n",
    "nums[:5]"
   ]
  },
  {
   "cell_type": "code",
   "execution_count": null,
   "id": "1fead9c3-2e6e-4772-bbc0-fe99ebe85ae1",
   "metadata": {},
   "outputs": [],
   "source": []
  },
  {
   "cell_type": "code",
   "execution_count": null,
   "id": "1f3e2e97-9ceb-4c34-836a-0715ce92e3f6",
   "metadata": {},
   "outputs": [],
   "source": []
  },
  {
   "cell_type": "code",
   "execution_count": 1,
   "id": "fc06f4c4-e958-4280-b567-954d0bdf872b",
   "metadata": {},
   "outputs": [
    {
     "name": "stdout",
     "output_type": "stream",
     "text": [
      "[1, 2, 3, 4, 5, 6, 7, 8, 9]\n"
     ]
    }
   ],
   "source": [
    "a = list(range(1, 10))\n",
    "print(a)"
   ]
  },
  {
   "cell_type": "code",
   "execution_count": 2,
   "id": "76db4314-3e99-493f-8aab-edcb807a74df",
   "metadata": {},
   "outputs": [
    {
     "data": {
      "text/plain": [
       "9"
      ]
     },
     "execution_count": 2,
     "metadata": {},
     "output_type": "execute_result"
    }
   ],
   "source": [
    "len(a)"
   ]
  },
  {
   "cell_type": "code",
   "execution_count": 3,
   "id": "e966f5d6-7528-4fe3-9012-82aff8af895e",
   "metadata": {},
   "outputs": [
    {
     "name": "stdout",
     "output_type": "stream",
     "text": [
      "[1, 2, 300, 4, 5, 6, 7, 8, 9]\n"
     ]
    }
   ],
   "source": [
    "a[2] = 300  # 2의 자리에 300을 추가해라\n",
    "print(a)"
   ]
  },
  {
   "cell_type": "code",
   "execution_count": 4,
   "id": "f5512f08-3679-4949-ac89-9ae6338dd2d2",
   "metadata": {},
   "outputs": [
    {
     "data": {
      "text/plain": [
       "9"
      ]
     },
     "execution_count": 4,
     "metadata": {},
     "output_type": "execute_result"
    }
   ],
   "source": [
    "len(a)"
   ]
  },
  {
   "cell_type": "code",
   "execution_count": 5,
   "id": "43ad6637-b158-4bfb-b46f-b6046523362c",
   "metadata": {},
   "outputs": [
    {
     "name": "stdout",
     "output_type": "stream",
     "text": [
      "[1, 200, 201, 300, 4, 5, 6, 7, 8, 9]\n"
     ]
    }
   ],
   "source": [
    "a[1:2] = [200, 201]   # [1:2] -> 1의 자리에서 2 - 1개 즉 1사이에 추가해라\n",
    "print(a)"
   ]
  },
  {
   "cell_type": "code",
   "execution_count": 6,
   "id": "e9bb2228-2d3c-4f63-a095-8327d6fb71f7",
   "metadata": {},
   "outputs": [
    {
     "data": {
      "text/plain": [
       "10"
      ]
     },
     "execution_count": 6,
     "metadata": {},
     "output_type": "execute_result"
    }
   ],
   "source": [
    "len(a)"
   ]
  },
  {
   "cell_type": "code",
   "execution_count": 7,
   "id": "487ea512-4b63-4bdc-9d3f-3e65e341a3bb",
   "metadata": {},
   "outputs": [
    {
     "name": "stdout",
     "output_type": "stream",
     "text": [
      "[1, 200, 201, 300, [200, 201], 5, 6, 7, 8, 9]\n"
     ]
    }
   ],
   "source": [
    "a[4] = [200, 201]  # 4번째 자리에 추가해라\n",
    "print(a)"
   ]
  },
  {
   "cell_type": "code",
   "execution_count": 8,
   "id": "045405d5-c3ad-41e8-a140-b4e62c959ad8",
   "metadata": {},
   "outputs": [
    {
     "name": "stdout",
     "output_type": "stream",
     "text": [
      "[1, 200, 201, 300, 5, 6, 7, 8, 9]\n"
     ]
    }
   ],
   "source": [
    "del(a[4])  # a[4] 삭제해라\n",
    "print(a)"
   ]
  },
  {
   "cell_type": "code",
   "execution_count": 9,
   "id": "4c7c571c-4cc4-47cb-8c42-215aab7708fa",
   "metadata": {},
   "outputs": [
    {
     "name": "stdout",
     "output_type": "stream",
     "text": [
      "[1, 200, 201, 6, 7, 8, 9]\n"
     ]
    }
   ],
   "source": [
    "del(a[3:5])  # 3번째 자리부터 4번째 자리까지(5-1) 삭제해라\n",
    "print(a)"
   ]
  },
  {
   "cell_type": "code",
   "execution_count": 10,
   "id": "862c1732-e361-40b0-b550-8af7e870067c",
   "metadata": {},
   "outputs": [
    {
     "name": "stdout",
     "output_type": "stream",
     "text": [
      "[[], 200, 201, 6, 7, 8, 9]\n"
     ]
    }
   ],
   "source": [
    "a[0] = []\n",
    "print(a)"
   ]
  },
  {
   "cell_type": "code",
   "execution_count": 11,
   "id": "1a74aa02-8eb4-439b-8d23-2aaa716d40d4",
   "metadata": {},
   "outputs": [
    {
     "name": "stdout",
     "output_type": "stream",
     "text": [
      "[6, 7, 8, 9]\n"
     ]
    }
   ],
   "source": [
    "a[0:3] = []\n",
    "print(a)"
   ]
  },
  {
   "cell_type": "markdown",
   "id": "9318c3c9-8e59-4dad-8c88-16c35007a533",
   "metadata": {},
   "source": [
    "### **집계 함수**\n",
    "- sum() max() min()\n",
    "- len()"
   ]
  },
  {
   "cell_type": "code",
   "execution_count": 1,
   "id": "4ffdcc73-964c-46e4-8e03-78c602d45a9e",
   "metadata": {},
   "outputs": [],
   "source": [
    "a = [-100, -5, 9, 999, 777, -678]"
   ]
  },
  {
   "cell_type": "code",
   "execution_count": 2,
   "id": "0fef8cba-f383-4b4d-99bb-46bcd766cec2",
   "metadata": {},
   "outputs": [
    {
     "data": {
      "text/plain": [
       "6"
      ]
     },
     "execution_count": 2,
     "metadata": {},
     "output_type": "execute_result"
    }
   ],
   "source": [
    "len(a)"
   ]
  },
  {
   "cell_type": "code",
   "execution_count": 3,
   "id": "e5d80c58-0658-4432-9f88-d1b6679fe78c",
   "metadata": {},
   "outputs": [
    {
     "ename": "NameError",
     "evalue": "name 'sum' is not defined",
     "output_type": "error",
     "traceback": [
      "\u001b[1;31m---------------------------------------------------------------------------\u001b[0m",
      "\u001b[1;31mNameError\u001b[0m                                 Traceback (most recent call last)",
      "\u001b[1;32m~\\AppData\\Local\\Temp/ipykernel_1588/3338714889.py\u001b[0m in \u001b[0;36m<module>\u001b[1;34m\u001b[0m\n\u001b[1;32m----> 1\u001b[1;33m \u001b[1;32mdel\u001b[0m \u001b[0msum\u001b[0m\u001b[1;33m\u001b[0m\u001b[1;33m\u001b[0m\u001b[0m\n\u001b[0m",
      "\u001b[1;31mNameError\u001b[0m: name 'sum' is not defined"
     ]
    }
   ],
   "source": [
    "del sum"
   ]
  },
  {
   "cell_type": "code",
   "execution_count": 4,
   "id": "e2827bf0-e78a-4364-b5e8-ff3540901f2a",
   "metadata": {},
   "outputs": [
    {
     "name": "stdout",
     "output_type": "stream",
     "text": [
      "1002\n"
     ]
    }
   ],
   "source": [
    "# for 써서 합계!\n",
    "hup = 0\n",
    "for i in a:\n",
    "    hup += i\n",
    "print(hup)"
   ]
  },
  {
   "cell_type": "code",
   "execution_count": 5,
   "id": "0ebec06a-e68d-45c7-8358-42ed5203dc97",
   "metadata": {},
   "outputs": [
    {
     "name": "stdout",
     "output_type": "stream",
     "text": [
      "6\n"
     ]
    }
   ],
   "source": [
    "# for 써서 합계!\n",
    "count = 0\n",
    "for i in a:\n",
    "    count += 1\n",
    "print(count)"
   ]
  },
  {
   "cell_type": "code",
   "execution_count": 6,
   "id": "08fe8702-7895-415a-be9c-4c480d16a586",
   "metadata": {},
   "outputs": [
    {
     "data": {
      "text/plain": [
       "1002"
      ]
     },
     "execution_count": 6,
     "metadata": {},
     "output_type": "execute_result"
    }
   ],
   "source": [
    "sum(a)"
   ]
  },
  {
   "cell_type": "code",
   "execution_count": 7,
   "id": "8fa4804e-1bf5-4b96-9200-42341f9f9bd7",
   "metadata": {},
   "outputs": [
    {
     "data": {
      "text/plain": [
       "-678"
      ]
     },
     "execution_count": 7,
     "metadata": {},
     "output_type": "execute_result"
    }
   ],
   "source": [
    "min(a)"
   ]
  },
  {
   "cell_type": "code",
   "execution_count": 8,
   "id": "52af5cbb-6732-43bf-b05b-58ebbc9bacd1",
   "metadata": {},
   "outputs": [
    {
     "data": {
      "text/plain": [
       "999"
      ]
     },
     "execution_count": 8,
     "metadata": {},
     "output_type": "execute_result"
    }
   ],
   "source": [
    "max(a)"
   ]
  },
  {
   "cell_type": "markdown",
   "id": "42982623-7137-4d36-bbfe-17565575ac39",
   "metadata": {},
   "source": [
    "< P.197 실습 >"
   ]
  },
  {
   "cell_type": "code",
   "execution_count": 9,
   "id": "da0e2006-db2d-4682-8306-e934988e5e88",
   "metadata": {},
   "outputs": [
    {
     "name": "stdout",
     "output_type": "stream",
     "text": [
      "현재 리스트: [30, 10, 20]\n"
     ]
    }
   ],
   "source": [
    "myList = [30, 10, 20]\n",
    "print(\"현재 리스트: %s\" % myList)"
   ]
  },
  {
   "cell_type": "code",
   "execution_count": 10,
   "id": "9e506446-1f95-4a47-86ba-684dfc5b8d4a",
   "metadata": {},
   "outputs": [
    {
     "name": "stdout",
     "output_type": "stream",
     "text": [
      "append(40) 후의 리스트: [30, 10, 20, 40]\n"
     ]
    }
   ],
   "source": [
    "myList.append(40)  # 맨 뒤에 항목 추가\n",
    "print(\"append(40) 후의 리스트: %s\" % myList)"
   ]
  },
  {
   "cell_type": "code",
   "execution_count": 11,
   "id": "220951c2-55d9-4996-b90b-d8a49989746a",
   "metadata": {},
   "outputs": [
    {
     "name": "stdout",
     "output_type": "stream",
     "text": [
      "pop() 후의 리스트: [30, 10, 20]\n"
     ]
    }
   ],
   "source": [
    "myList.pop()  # 맨 뒤에 있는 항목 삭제\n",
    "print(\"pop() 후의 리스트: %s\" % myList)"
   ]
  },
  {
   "cell_type": "code",
   "execution_count": 12,
   "id": "e4283e47-426b-4f57-9b0a-05bf754cc90b",
   "metadata": {},
   "outputs": [
    {
     "name": "stdout",
     "output_type": "stream",
     "text": [
      "sort() 후의 리스트: [10, 20, 30]\n"
     ]
    }
   ],
   "source": [
    "myList.sort()  # 항목 정렬\n",
    "print(\"sort() 후의 리스트: %s\" % myList)"
   ]
  },
  {
   "cell_type": "code",
   "execution_count": 13,
   "id": "4b9bf566-fd68-4681-acc5-0fe46c9d0e4f",
   "metadata": {},
   "outputs": [
    {
     "name": "stdout",
     "output_type": "stream",
     "text": [
      "reverse() 후의 리스트: [30, 20, 10]\n"
     ]
    }
   ],
   "source": [
    "myList.reverse()  # 역순으로 정렬\n",
    "print(\"reverse() 후의 리스트: %s\" % myList)"
   ]
  },
  {
   "cell_type": "code",
   "execution_count": 14,
   "id": "2834144c-4b60-4abd-a1ac-d98d90a0cacf",
   "metadata": {},
   "outputs": [
    {
     "name": "stdout",
     "output_type": "stream",
     "text": [
      "insert(2, 222) 후의 리스트: [30, 20, 222, 10]\n"
     ]
    }
   ],
   "source": [
    "myList.insert(2, 222)  # 2번째 자리에 222 추가\n",
    "print(\"insert(2, 222) 후의 리스트: %s\" % myList)"
   ]
  },
  {
   "cell_type": "code",
   "execution_count": 15,
   "id": "b56b34e9-43aa-4b64-97ff-80fb72083e1a",
   "metadata": {},
   "outputs": [
    {
     "name": "stdout",
     "output_type": "stream",
     "text": [
      "extend([77, 88, 77]) 후의 리스트: [30, 20, 222, 10, 77, 88, 77]\n"
     ]
    }
   ],
   "source": [
    "myList.extend([77, 88, 77])  # 맨 뒤에 리스트 추가\n",
    "print(\"extend([77, 88, 77]) 후의 리스트: %s\" % myList)"
   ]
  },
  {
   "cell_type": "code",
   "execution_count": 16,
   "id": "fd8fd143-42ba-4641-878a-374f2a8d6e26",
   "metadata": {},
   "outputs": [
    {
     "name": "stdout",
     "output_type": "stream",
     "text": [
      "remove(222) 후의 리스트: [30, 20, 10, 77, 88, 77]\n"
     ]
    }
   ],
   "source": [
    "myList.remove(222)  # 222 제거(222가 여러개일 경우 첫번째값 삭제)\n",
    "print(\"remove(222) 후의 리스트: %s\" % myList)"
   ]
  },
  {
   "cell_type": "markdown",
   "id": "973216f1-f770-4f36-b810-48f2c5fb002d",
   "metadata": {},
   "source": [
    "#### sorted vs list.sort()\n",
    "- sorted(리스트) : 리스트는 그대로 두고 정렬된 결과만 반환\n",
    "- list.sort() : 리스트 자체를 정렬"
   ]
  },
  {
   "cell_type": "code",
   "execution_count": 17,
   "id": "e14b8fc4-8f9d-4559-90b7-d7024df9ed4c",
   "metadata": {},
   "outputs": [],
   "source": [
    "myList = [30, 10, 20]"
   ]
  },
  {
   "cell_type": "code",
   "execution_count": 18,
   "id": "c300bd8b-69ca-4ed8-947a-3a0bc807b1a1",
   "metadata": {},
   "outputs": [
    {
     "data": {
      "text/plain": [
       "[10, 20, 30]"
      ]
     },
     "execution_count": 18,
     "metadata": {},
     "output_type": "execute_result"
    }
   ],
   "source": [
    "sorted(myList)  # 결과만 반환"
   ]
  },
  {
   "cell_type": "code",
   "execution_count": 19,
   "id": "3fbbe913-68a0-4b9b-a47f-f5757b21fbf3",
   "metadata": {},
   "outputs": [
    {
     "data": {
      "text/plain": [
       "[30, 10, 20]"
      ]
     },
     "execution_count": 19,
     "metadata": {},
     "output_type": "execute_result"
    }
   ],
   "source": [
    "myList"
   ]
  },
  {
   "cell_type": "code",
   "execution_count": 20,
   "id": "252289b2-9089-402d-9034-2a71a277a48f",
   "metadata": {},
   "outputs": [],
   "source": [
    "myList.sort()  # 리스트 정렬"
   ]
  },
  {
   "cell_type": "code",
   "execution_count": 21,
   "id": "1aaca60d-1bee-4446-befe-71fc46aa4f4c",
   "metadata": {},
   "outputs": [
    {
     "data": {
      "text/plain": [
       "[10, 20, 30]"
      ]
     },
     "execution_count": 21,
     "metadata": {},
     "output_type": "execute_result"
    }
   ],
   "source": [
    "myList"
   ]
  },
  {
   "cell_type": "markdown",
   "id": "9233d7fc-00b4-4e27-ba48-e54d4d899473",
   "metadata": {},
   "source": [
    "## Section03 2차원 리스트"
   ]
  },
  {
   "cell_type": "code",
   "execution_count": 22,
   "id": "b6b9820e-c749-413b-abcd-66598ff8ac4c",
   "metadata": {},
   "outputs": [],
   "source": [
    "a = [[1, 2, 3, 4],\n",
    "     [5, 6, 7, 8],\n",
    "     [9, 10, 11, 12]]"
   ]
  },
  {
   "cell_type": "code",
   "execution_count": 23,
   "id": "52876728-1750-43e3-a180-8909abfe1e2d",
   "metadata": {},
   "outputs": [
    {
     "data": {
      "text/plain": [
       "3"
      ]
     },
     "execution_count": 23,
     "metadata": {},
     "output_type": "execute_result"
    }
   ],
   "source": [
    "len(a)"
   ]
  },
  {
   "cell_type": "code",
   "execution_count": 24,
   "id": "de19f9cd-c1c6-4be9-99fd-af142539d7c8",
   "metadata": {},
   "outputs": [
    {
     "data": {
      "text/plain": [
       "([1, 2, 3, 4], [5, 6, 7, 8], [[5, 6, 7, 8], [9, 10, 11, 12]])"
      ]
     },
     "execution_count": 24,
     "metadata": {},
     "output_type": "execute_result"
    }
   ],
   "source": [
    "a[0], a[1], a[1:3]"
   ]
  },
  {
   "cell_type": "code",
   "execution_count": 26,
   "id": "29438394-29ec-422e-83c0-cabb357e7d83",
   "metadata": {},
   "outputs": [
    {
     "data": {
      "text/plain": [
       "2"
      ]
     },
     "execution_count": 26,
     "metadata": {},
     "output_type": "execute_result"
    }
   ],
   "source": [
    "a[0][1]  # 가로 0번째 줄에서 세로 1번째 숫자"
   ]
  },
  {
   "cell_type": "markdown",
   "id": "dbed6584-0662-4561-9f10-3dd93cc57597",
   "metadata": {},
   "source": [
    "**P.200 7-6번**"
   ]
  },
  {
   "cell_type": "code",
   "execution_count": 30,
   "id": "dfc15a03-51f2-4842-823b-021c9e2961b6",
   "metadata": {},
   "outputs": [
    {
     "name": "stdout",
     "output_type": "stream",
     "text": [
      "  1   2   3   4 \n",
      "  5   6   7   8 \n",
      "  9  10  11  12 \n"
     ]
    }
   ],
   "source": [
    "List1 = []\n",
    "List2 = []\n",
    "value = 1\n",
    "for i in range(0, 3):\n",
    "    for k in range(0, 4):\n",
    "        List1.append(value)\n",
    "        value += 1\n",
    "    List2.append(List1)\n",
    "    List1 = []\n",
    "    \n",
    "for i in range(0, 3):\n",
    "    for k in range(0, 4):\n",
    "        print(\"%3d\" % List2[i][k], end=\" \")\n",
    "    print(\"\")"
   ]
  },
  {
   "cell_type": "markdown",
   "id": "3df8005a-5005-4c41-bdee-1fc0d1a533d4",
   "metadata": {},
   "source": [
    "## Section04 튜플\n",
    "- 튜플은 소괄호()로 생성\n",
    "- 불변형이라 값 수정 X, 읽기만 가능"
   ]
  },
  {
   "cell_type": "code",
   "execution_count": 56,
   "id": "6dc0223b-68ec-44b9-8903-fca03cf3cb2b",
   "metadata": {},
   "outputs": [
    {
     "data": {
      "text/plain": [
       "(1, 2, 3, 4, 5)"
      ]
     },
     "execution_count": 56,
     "metadata": {},
     "output_type": "execute_result"
    }
   ],
   "source": [
    "tt1 = (1, 2, 3, 4, 5)\n",
    "tt1"
   ]
  },
  {
   "cell_type": "code",
   "execution_count": 57,
   "id": "e543b575-8830-40ba-a7cf-4ef1da404f10",
   "metadata": {},
   "outputs": [
    {
     "data": {
      "text/plain": [
       "(0, 10, 5)"
      ]
     },
     "execution_count": 57,
     "metadata": {},
     "output_type": "execute_result"
    }
   ],
   "source": [
    "a, b, c = 0, 10, 5\n",
    "a, b, c"
   ]
  },
  {
   "cell_type": "code",
   "execution_count": 58,
   "id": "fb085ddf-2269-42b7-bc4c-4d44de80d9f0",
   "metadata": {},
   "outputs": [
    {
     "data": {
      "text/plain": [
       "tuple"
      ]
     },
     "execution_count": 58,
     "metadata": {},
     "output_type": "execute_result"
    }
   ],
   "source": [
    "type(tt1)"
   ]
  },
  {
   "cell_type": "code",
   "execution_count": 59,
   "id": "8d19cb4f-5f0d-4bb5-8503-6f08e7625f9d",
   "metadata": {},
   "outputs": [
    {
     "data": {
      "text/plain": [
       "()"
      ]
     },
     "execution_count": 59,
     "metadata": {},
     "output_type": "execute_result"
    }
   ],
   "source": [
    "tt1 = ()\n",
    "tt1"
   ]
  },
  {
   "cell_type": "code",
   "execution_count": 60,
   "id": "0681b961-322d-4fd7-9fc0-872bc505e5c1",
   "metadata": {},
   "outputs": [
    {
     "data": {
      "text/plain": [
       "(10, 20, 30)"
      ]
     },
     "execution_count": 60,
     "metadata": {},
     "output_type": "execute_result"
    }
   ],
   "source": [
    "tt2 = 10, 20, 30\n",
    "tt2"
   ]
  },
  {
   "cell_type": "code",
   "execution_count": 61,
   "id": "fed10176-1a9f-4f58-a1ac-2a6a167d3dfc",
   "metadata": {},
   "outputs": [
    {
     "data": {
      "text/plain": [
       "10"
      ]
     },
     "execution_count": 61,
     "metadata": {},
     "output_type": "execute_result"
    }
   ],
   "source": [
    "tt2 = 10  # 값을 변환\n",
    "tt2"
   ]
  },
  {
   "cell_type": "code",
   "execution_count": 62,
   "id": "50585623-d176-4f1c-a2a7-bb8d1d2ef8ec",
   "metadata": {},
   "outputs": [
    {
     "data": {
      "text/plain": [
       "(10,)"
      ]
     },
     "execution_count": 62,
     "metadata": {},
     "output_type": "execute_result"
    }
   ],
   "source": [
    "tt2 = 10,  # 튜플이 됨\n",
    "tt2"
   ]
  },
  {
   "cell_type": "code",
   "execution_count": 63,
   "id": "87282637-8088-41fc-9d21-a8bbb65e849a",
   "metadata": {},
   "outputs": [
    {
     "data": {
      "text/plain": [
       "(10, 20, 30, 40, 50, 60, 70)"
      ]
     },
     "execution_count": 63,
     "metadata": {},
     "output_type": "execute_result"
    }
   ],
   "source": [
    "tt2 = 10, 20, 30, 40, 50, 60, 70\n",
    "tt2"
   ]
  },
  {
   "cell_type": "code",
   "execution_count": 64,
   "id": "700b87ff-c3a3-4a5d-87c3-4135c7184d28",
   "metadata": {},
   "outputs": [
    {
     "data": {
      "text/plain": [
       "(10, 30)"
      ]
     },
     "execution_count": 64,
     "metadata": {},
     "output_type": "execute_result"
    }
   ],
   "source": [
    "tt2[0], tt2[2] "
   ]
  },
  {
   "cell_type": "code",
   "execution_count": 65,
   "id": "6da9eea9-d1fb-4589-b30e-9505345ce390",
   "metadata": {},
   "outputs": [
    {
     "data": {
      "text/plain": [
       "(30, 40, 50)"
      ]
     },
     "execution_count": 65,
     "metadata": {},
     "output_type": "execute_result"
    }
   ],
   "source": [
    "tt2[2:5]"
   ]
  },
  {
   "cell_type": "code",
   "execution_count": 66,
   "id": "43b01199-f153-44da-94a4-be566c2b47a3",
   "metadata": {},
   "outputs": [
    {
     "data": {
      "text/plain": [
       "50"
      ]
     },
     "execution_count": 66,
     "metadata": {},
     "output_type": "execute_result"
    }
   ],
   "source": [
    "tt2[-3]  # 뒤에서 3번째"
   ]
  },
  {
   "cell_type": "code",
   "execution_count": 67,
   "id": "df3ec9c5-708d-41b2-853f-faf2385d5bb1",
   "metadata": {},
   "outputs": [
    {
     "data": {
      "text/plain": [
       "(60, 70)"
      ]
     },
     "execution_count": 67,
     "metadata": {},
     "output_type": "execute_result"
    }
   ],
   "source": [
    "tt2[-2:]"
   ]
  },
  {
   "cell_type": "code",
   "execution_count": 48,
   "id": "918a49e5-6d8a-417f-a9b9-f7b9eb9cf760",
   "metadata": {},
   "outputs": [
    {
     "ename": "TypeError",
     "evalue": "'tuple' object does not support item assignment",
     "output_type": "error",
     "traceback": [
      "\u001b[1;31m---------------------------------------------------------------------------\u001b[0m",
      "\u001b[1;31mTypeError\u001b[0m                                 Traceback (most recent call last)",
      "\u001b[1;32m~\\AppData\\Local\\Temp/ipykernel_1588/2823416975.py\u001b[0m in \u001b[0;36m<module>\u001b[1;34m\u001b[0m\n\u001b[1;32m----> 1\u001b[1;33m \u001b[0mtt2\u001b[0m\u001b[1;33m[\u001b[0m\u001b[1;36m0\u001b[0m\u001b[1;33m]\u001b[0m \u001b[1;33m=\u001b[0m \u001b[1;36m1000\u001b[0m\u001b[1;33m\u001b[0m\u001b[1;33m\u001b[0m\u001b[0m\n\u001b[0m\u001b[0;32m      2\u001b[0m \u001b[0mtt2\u001b[0m\u001b[1;33m\u001b[0m\u001b[1;33m\u001b[0m\u001b[0m\n",
      "\u001b[1;31mTypeError\u001b[0m: 'tuple' object does not support item assignment"
     ]
    }
   ],
   "source": [
    "tt2[0] = 1000   #불변항이라 추가 안됨!\n",
    "tt2  "
   ]
  },
  {
   "cell_type": "code",
   "execution_count": 46,
   "id": "8537cbbe-d1b9-4d88-89c5-f289ad60de8b",
   "metadata": {},
   "outputs": [
    {
     "ename": "TypeError",
     "evalue": "'tuple' object does not support item assignment",
     "output_type": "error",
     "traceback": [
      "\u001b[1;31m---------------------------------------------------------------------------\u001b[0m",
      "\u001b[1;31mTypeError\u001b[0m                                 Traceback (most recent call last)",
      "\u001b[1;32m~\\AppData\\Local\\Temp/ipykernel_1588/236188005.py\u001b[0m in \u001b[0;36m<module>\u001b[1;34m\u001b[0m\n\u001b[1;32m----> 1\u001b[1;33m \u001b[0mtt2\u001b[0m\u001b[1;33m[\u001b[0m\u001b[1;36m1\u001b[0m\u001b[1;33m:\u001b[0m\u001b[1;36m2\u001b[0m\u001b[1;33m]\u001b[0m \u001b[1;33m=\u001b[0m \u001b[1;33m(\u001b[0m\u001b[1;36m10\u001b[0m\u001b[1;33m,\u001b[0m \u001b[1;36m20\u001b[0m\u001b[1;33m)\u001b[0m\u001b[1;33m\u001b[0m\u001b[1;33m\u001b[0m\u001b[0m\n\u001b[0m\u001b[0;32m      2\u001b[0m \u001b[0mtt2\u001b[0m\u001b[1;33m\u001b[0m\u001b[1;33m\u001b[0m\u001b[0m\n",
      "\u001b[1;31mTypeError\u001b[0m: 'tuple' object does not support item assignment"
     ]
    }
   ],
   "source": [
    "tt2[1:2] = (10, 20)\n",
    "tt2"
   ]
  },
  {
   "cell_type": "markdown",
   "id": "78aabe14-5f6c-451c-8f77-34a7cf8ad836",
   "metadata": {},
   "source": [
    "#### **브로드캐스팅!**"
   ]
  },
  {
   "cell_type": "code",
   "execution_count": 52,
   "id": "d9ec3d5c-6564-4643-89fb-3ebb212ee0e9",
   "metadata": {},
   "outputs": [],
   "source": [
    "tt2 = ('A', 'B')\n",
    "tt1 = (10, 20, 30, 40)"
   ]
  },
  {
   "cell_type": "code",
   "execution_count": 53,
   "id": "58a9713e-86d0-4b53-b36e-9be35adc3815",
   "metadata": {},
   "outputs": [
    {
     "data": {
      "text/plain": [
       "('A', 'B', 'A', 'B')"
      ]
     },
     "execution_count": 53,
     "metadata": {},
     "output_type": "execute_result"
    }
   ],
   "source": [
    "tt2 * 2"
   ]
  },
  {
   "cell_type": "code",
   "execution_count": 54,
   "id": "9a0983d9-47eb-4597-b941-b0c2550ac85f",
   "metadata": {},
   "outputs": [
    {
     "data": {
      "text/plain": [
       "('A', 'B', 10, 20, 30, 40)"
      ]
     },
     "execution_count": 54,
     "metadata": {},
     "output_type": "execute_result"
    }
   ],
   "source": [
    "tt2 + tt1"
   ]
  },
  {
   "cell_type": "code",
   "execution_count": 69,
   "id": "c96dc1b5-9289-41d2-9087-dfce1bade199",
   "metadata": {},
   "outputs": [
    {
     "data": {
      "text/plain": [
       "(1, 2, 3, 4, 5, 6, 7, 8, 9)"
      ]
     },
     "execution_count": 69,
     "metadata": {},
     "output_type": "execute_result"
    }
   ],
   "source": [
    "tt2 = tuple(range(1, 10))\n",
    "tt2"
   ]
  },
  {
   "cell_type": "markdown",
   "id": "c5d4b2bf-9166-43ab-9721-eb5efca92be2",
   "metadata": {},
   "source": [
    "### **리스트 <-> 튜플 변환**\n",
    "- list()\n",
    "- tuple()"
   ]
  },
  {
   "cell_type": "code",
   "execution_count": 70,
   "id": "fb4d281a-dc39-4e8b-833d-f8b77598f9b9",
   "metadata": {},
   "outputs": [],
   "source": [
    "li = [1,2,3,4,5]\n",
    "t1 = (-9, -8, -7, -6)"
   ]
  },
  {
   "cell_type": "code",
   "execution_count": 74,
   "id": "e04ed7ad-3848-44d6-9e89-2c3d538a71ff",
   "metadata": {},
   "outputs": [
    {
     "data": {
      "text/plain": [
       "(1, 2, 3, 4, 5)"
      ]
     },
     "execution_count": 74,
     "metadata": {},
     "output_type": "execute_result"
    }
   ],
   "source": [
    "tuple(li)  # list를 tuple로 변환"
   ]
  },
  {
   "cell_type": "code",
   "execution_count": 75,
   "id": "67114a0f-d765-412c-8c9e-63e78f5b31db",
   "metadata": {},
   "outputs": [
    {
     "data": {
      "text/plain": [
       "[-9, -8, -7, -6]"
      ]
     },
     "execution_count": 75,
     "metadata": {},
     "output_type": "execute_result"
    }
   ],
   "source": [
    "list(t1)  # tuple를 list로 변환"
   ]
  },
  {
   "cell_type": "markdown",
   "id": "01dd9f0d-bd93-492c-9d47-7435296bc22d",
   "metadata": {},
   "source": [
    "## Section05 딕셔너리\n",
    "- 쌍 2개가 하나로 묶인 자료구조(ex \"apple:사과\" 처럼 의미 있는 두 값)\n",
    "- 키(key) 와 값(value) 자료\n",
    "- key 값으로 찾기 때문에 순서 상관없음\n",
    "- 딕셔너리변수 = {키1:값1, 키2:값2, 키3:값3, ...}"
   ]
  },
  {
   "cell_type": "code",
   "execution_count": 76,
   "id": "87bf1dfc-8b6c-4b5c-a304-b60249065387",
   "metadata": {},
   "outputs": [
    {
     "data": {
      "text/plain": [
       "(list, tuple)"
      ]
     },
     "execution_count": 76,
     "metadata": {},
     "output_type": "execute_result"
    }
   ],
   "source": [
    "li = []\n",
    "t1 = ()\n",
    "type(li), type(t1)"
   ]
  },
  {
   "cell_type": "code",
   "execution_count": 77,
   "id": "7f5f94d7-eef0-4a55-a81c-5de9bc79a4e9",
   "metadata": {},
   "outputs": [
    {
     "data": {
      "text/plain": [
       "dict"
      ]
     },
     "execution_count": 77,
     "metadata": {},
     "output_type": "execute_result"
    }
   ],
   "source": [
    "dic1 = {}\n",
    "type(dic1)"
   ]
  },
  {
   "cell_type": "code",
   "execution_count": 79,
   "id": "9e240ac3-2a25-43c3-8220-16fa8d82d898",
   "metadata": {},
   "outputs": [
    {
     "data": {
      "text/plain": [
       "{1: 'a', 2: 'b', 3: 'c'}"
      ]
     },
     "execution_count": 79,
     "metadata": {},
     "output_type": "execute_result"
    }
   ],
   "source": [
    "dic1 = {1:\"a\", 2:\"b\", 3:\"c\"}\n",
    "dic1"
   ]
  },
  {
   "cell_type": "code",
   "execution_count": 80,
   "id": "061d2f83-8623-4dd8-8c9b-8b0c5954fd45",
   "metadata": {},
   "outputs": [
    {
     "data": {
      "text/plain": [
       "'a'"
      ]
     },
     "execution_count": 80,
     "metadata": {},
     "output_type": "execute_result"
    }
   ],
   "source": [
    "dic1[1]"
   ]
  },
  {
   "cell_type": "code",
   "execution_count": 81,
   "id": "f816d429-92d0-4578-b03e-174d3492de17",
   "metadata": {},
   "outputs": [
    {
     "data": {
      "text/plain": [
       "{'a': 1, 'b': 2, 'c': 3}"
      ]
     },
     "execution_count": 81,
     "metadata": {},
     "output_type": "execute_result"
    }
   ],
   "source": [
    "dic1 = {\"a\":1, \"b\":2, \"c\":3}\n",
    "dic1"
   ]
  },
  {
   "cell_type": "code",
   "execution_count": 84,
   "id": "acf7718b-d141-4823-9f82-b8d557079808",
   "metadata": {},
   "outputs": [
    {
     "data": {
      "text/plain": [
       "3"
      ]
     },
     "execution_count": 84,
     "metadata": {},
     "output_type": "execute_result"
    }
   ],
   "source": [
    "dic1[\"c\"]"
   ]
  },
  {
   "cell_type": "code",
   "execution_count": 85,
   "id": "fa17ae30-d84b-41f9-93b0-a7b506882962",
   "metadata": {},
   "outputs": [
    {
     "data": {
      "text/plain": [
       "{'학번': 1000, '이름': '홍길동', '학과': '컴퓨터학과'}"
      ]
     },
     "execution_count": 85,
     "metadata": {},
     "output_type": "execute_result"
    }
   ],
   "source": [
    "student1 = {\"학번\":1000, \"이름\":\"홍길동\", \"학과\":\"컴퓨터학과\"}\n",
    "student1"
   ]
  },
  {
   "cell_type": "code",
   "execution_count": 86,
   "id": "24be24b2-320c-438f-8f4e-d15e01653735",
   "metadata": {},
   "outputs": [
    {
     "data": {
      "text/plain": [
       "'컴퓨터학과'"
      ]
     },
     "execution_count": 86,
     "metadata": {},
     "output_type": "execute_result"
    }
   ],
   "source": [
    "student1[\"학과\"]"
   ]
  },
  {
   "cell_type": "code",
   "execution_count": 90,
   "id": "a9834e3d-5570-43ef-9ba9-9b249e39e1a8",
   "metadata": {},
   "outputs": [
    {
     "data": {
      "text/plain": [
       "{'학번': 1000, '이름': '홍길동', '학과': '컴퓨터학과', '연락처': '010-1111-2222'}"
      ]
     },
     "execution_count": 90,
     "metadata": {},
     "output_type": "execute_result"
    }
   ],
   "source": [
    "student1[\"연락처\"] = \"010-1111-2222\"   # 추가할때 딕셔너리명[키]= 값 형식으로 추가\n",
    "student1"
   ]
  },
  {
   "cell_type": "code",
   "execution_count": 99,
   "id": "56c4d02c-aef3-4759-b48b-f90dab3713c7",
   "metadata": {},
   "outputs": [
    {
     "data": {
      "text/plain": [
       "{'학번': 1000, '이름': '홍길동', '학과': '컴퓨터학과', '연락처': ''}"
      ]
     },
     "execution_count": 99,
     "metadata": {},
     "output_type": "execute_result"
    }
   ],
   "source": [
    "student1[\"연락처\"] = \"\"\n",
    "student1"
   ]
  },
  {
   "cell_type": "code",
   "execution_count": 100,
   "id": "dc3bf21e-7eb0-4fc6-962c-5cd034cb4f27",
   "metadata": {},
   "outputs": [
    {
     "data": {
      "text/plain": [
       "{'학번': 1000, '이름': '홍길동', '학과': '컴퓨터학과'}"
      ]
     },
     "execution_count": 100,
     "metadata": {},
     "output_type": "execute_result"
    }
   ],
   "source": [
    "del student1[\"연락처\"]\n",
    "student1"
   ]
  },
  {
   "cell_type": "code",
   "execution_count": 101,
   "id": "bb8f1038-374a-4aa4-821e-73de09319fcb",
   "metadata": {},
   "outputs": [
    {
     "data": {
      "text/plain": [
       "'컴퓨터학과'"
      ]
     },
     "execution_count": 101,
     "metadata": {},
     "output_type": "execute_result"
    }
   ],
   "source": [
    "student1[\"학번\"]\n",
    "student1[\"이름\"]\n",
    "student1[\"학과\"]"
   ]
  },
  {
   "cell_type": "code",
   "execution_count": 102,
   "id": "03ac847f-1a54-4089-967e-d825e9a05f71",
   "metadata": {},
   "outputs": [
    {
     "data": {
      "text/plain": [
       "'홍길동'"
      ]
     },
     "execution_count": 102,
     "metadata": {},
     "output_type": "execute_result"
    }
   ],
   "source": [
    "student1.get(\"이름\")"
   ]
  },
  {
   "cell_type": "code",
   "execution_count": 117,
   "id": "62d95e23-cf32-4128-b9a6-8d69d60e5162",
   "metadata": {},
   "outputs": [
    {
     "ename": "KeyError",
     "evalue": "'주소'",
     "output_type": "error",
     "traceback": [
      "\u001b[1;31m---------------------------------------------------------------------------\u001b[0m",
      "\u001b[1;31mKeyError\u001b[0m                                  Traceback (most recent call last)",
      "\u001b[1;32m~\\AppData\\Local\\Temp/ipykernel_1588/615885504.py\u001b[0m in \u001b[0;36m<module>\u001b[1;34m\u001b[0m\n\u001b[1;32m----> 1\u001b[1;33m \u001b[0mstudent1\u001b[0m\u001b[1;33m[\u001b[0m\u001b[1;34m\"주소\"\u001b[0m\u001b[1;33m]\u001b[0m  \u001b[1;31m# 딕셔너리안에 주소가 없어서 오류\u001b[0m\u001b[1;33m\u001b[0m\u001b[1;33m\u001b[0m\u001b[0m\n\u001b[0m",
      "\u001b[1;31mKeyError\u001b[0m: '주소'"
     ]
    }
   ],
   "source": [
    "student1[\"주소\"]  # 딕셔너리안에 주소가 없어서 오류"
   ]
  },
  {
   "cell_type": "code",
   "execution_count": 118,
   "id": "0c427abc-df5a-41ba-a31a-7c5b970b5269",
   "metadata": {},
   "outputs": [],
   "source": [
    "student1.get(\"주소\")  # get함수를 쓰면 오류대신 결과값 없음"
   ]
  },
  {
   "cell_type": "code",
   "execution_count": 119,
   "id": "3917d1e3-633f-4495-b615-7425071aa5ca",
   "metadata": {},
   "outputs": [
    {
     "data": {
      "text/plain": [
       "dict_keys(['학번', '이름', '학과'])"
      ]
     },
     "execution_count": 119,
     "metadata": {},
     "output_type": "execute_result"
    }
   ],
   "source": [
    "student1.keys()  # 딕셔너리의 모든 키를 반환"
   ]
  },
  {
   "cell_type": "code",
   "execution_count": 120,
   "id": "972f2350-e92b-4587-8209-5092693e59fe",
   "metadata": {},
   "outputs": [
    {
     "data": {
      "text/plain": [
       "dict_values([1000, '홍길동', '컴퓨터학과'])"
      ]
     },
     "execution_count": 120,
     "metadata": {},
     "output_type": "execute_result"
    }
   ],
   "source": [
    "student1.values()  # 딕셔너리의 모든 값을 리스트로 반환"
   ]
  },
  {
   "cell_type": "code",
   "execution_count": 121,
   "id": "13a5dbe1-ca96-48bd-91fd-8037c6387681",
   "metadata": {},
   "outputs": [
    {
     "data": {
      "text/plain": [
       "dict_items([('학번', 1000), ('이름', '홍길동'), ('학과', '컴퓨터학과')])"
      ]
     },
     "execution_count": 121,
     "metadata": {},
     "output_type": "execute_result"
    }
   ],
   "source": [
    "student1.items()  # 딕셔너리의 모든 값을 튜플 형태로 반환"
   ]
  },
  {
   "cell_type": "code",
   "execution_count": 122,
   "id": "2fa14c10-a518-40cb-bab2-dd0c0d81dc9d",
   "metadata": {},
   "outputs": [
    {
     "data": {
      "text/plain": [
       "False"
      ]
     },
     "execution_count": 122,
     "metadata": {},
     "output_type": "execute_result"
    }
   ],
   "source": [
    "\"홍길동\" in student1  # 딕셔너리 안에 \"홍길동\"이 있는가"
   ]
  },
  {
   "cell_type": "code",
   "execution_count": 123,
   "id": "c9710bc7-77f8-4d84-965d-58f6ee3b9321",
   "metadata": {},
   "outputs": [
    {
     "data": {
      "text/plain": [
       "True"
      ]
     },
     "execution_count": 123,
     "metadata": {},
     "output_type": "execute_result"
    }
   ],
   "source": [
    "\"이름\" in student1  # 딕셔너리 안에 \"이름\"이 있는가"
   ]
  },
  {
   "cell_type": "code",
   "execution_count": 124,
   "id": "7f78fc79-649d-464c-a935-5b7862ed648c",
   "metadata": {},
   "outputs": [
    {
     "name": "stdout",
     "output_type": "stream",
     "text": [
      "1000\n",
      "홍길동\n",
      "컴퓨터학과\n"
     ]
    }
   ],
   "source": [
    "for key in student1.keys():\n",
    "    print(student1[key])"
   ]
  },
  {
   "cell_type": "code",
   "execution_count": 125,
   "id": "c4600842-ccd9-4672-9d27-5300ca617dfb",
   "metadata": {},
   "outputs": [
    {
     "name": "stdout",
     "output_type": "stream",
     "text": [
      "학번 1000\n",
      "이름 홍길동\n",
      "학과 컴퓨터학과\n"
     ]
    }
   ],
   "source": [
    "for k, v in student1.items():\n",
    "    # print(student1[k])\n",
    "    print(k, v)"
   ]
  },
  {
   "cell_type": "markdown",
   "id": "66b779f7-cd6c-48e4-b09a-579e9519966c",
   "metadata": {},
   "source": [
    "**P.212 7-10번**"
   ]
  },
  {
   "cell_type": "code",
   "execution_count": 130,
   "id": "604eb78c-ec8a-4f18-9196-c02689377468",
   "metadata": {},
   "outputs": [
    {
     "name": "stdin",
     "output_type": "stream",
     "text": [
      "['떡볶이', '짜장면', '라면', '피자', '맥주', '치킨', '삼겹살']중 좋아하는 음식은? 삼겹살\n"
     ]
    },
    {
     "name": "stdout",
     "output_type": "stream",
     "text": [
      "<삼겹살> 궁합 음식은 <상추>입니다.\n"
     ]
    },
    {
     "name": "stdin",
     "output_type": "stream",
     "text": [
      "['떡볶이', '짜장면', '라면', '피자', '맥주', '치킨', '삼겹살']중 좋아하는 음식은? 짬뽕\n"
     ]
    },
    {
     "name": "stdout",
     "output_type": "stream",
     "text": [
      "그런 음식이 없습니다. 확인해보세요!\n"
     ]
    },
    {
     "name": "stdin",
     "output_type": "stream",
     "text": [
      "['떡볶이', '짜장면', '라면', '피자', '맥주', '치킨', '삼겹살']중 좋아하는 음식은? 끝\n"
     ]
    }
   ],
   "source": [
    "foods = {\"떡볶이\":\"오뎅\",\n",
    "         \"짜장면\":\"단무지\",\n",
    "         \"라면\":\"김치\",\n",
    "         \"피자\":\"피클\",\n",
    "         \"맥주\":\"땅콩\",\n",
    "         \"치킨\":\"치킨무\",\n",
    "         \"삼겹살\":\"상추\"};\n",
    "\n",
    "while True:\n",
    "    myfood = input(str(list(foods.keys())) + \"중 좋아하는 음식은?\")\n",
    "    if myfood in foods:\n",
    "        print(\"<%s> 궁합 음식은 <%s>입니다.\" % (myfood, foods.get(myfood)))\n",
    "    elif myfood == \"끝\":\n",
    "        break\n",
    "    else:\n",
    "        print(\"그런 음식이 없습니다. 확인해보세요!\")"
   ]
  },
  {
   "cell_type": "code",
   "execution_count": null,
   "id": "0deeb851-a0fe-420f-89d9-1984a7bc7bc2",
   "metadata": {},
   "outputs": [],
   "source": []
  },
  {
   "cell_type": "markdown",
   "id": "bcaabfbd-f249-47f8-acc1-a71f9590e25c",
   "metadata": {},
   "source": [
    "## Section06 심화 내용"
   ]
  },
  {
   "cell_type": "markdown",
   "id": "a7db19d0-9a96-4bf4-9ff4-9f00ebd96d05",
   "metadata": {},
   "source": [
    "#### 세트\n",
    "- 키만 모아 놓은 딕셔너리의 특수한 형태\n",
    "- {} 사용하지만 : 없이 값을 입력\n",
    "- 중복된 키는 자동으로 하나만 남음"
   ]
  },
  {
   "cell_type": "code",
   "execution_count": 131,
   "id": "e257cafb-3f90-41b0-9bf2-9acf78dc098e",
   "metadata": {},
   "outputs": [
    {
     "data": {
      "text/plain": [
       "{1, 2, 3, 4}"
      ]
     },
     "execution_count": 131,
     "metadata": {},
     "output_type": "execute_result"
    }
   ],
   "source": [
    "mySet1 = {1, 2, 3, 3, 3, 4}\n",
    "mySet1"
   ]
  },
  {
   "cell_type": "code",
   "execution_count": 134,
   "id": "ff15e732-105d-4b8d-9e3d-4b50175ef242",
   "metadata": {},
   "outputs": [
    {
     "name": "stdout",
     "output_type": "stream",
     "text": [
      "{4, 5}\n",
      "{1, 2, 3, 4, 5, 6, 7}\n",
      "{1, 2, 3}\n",
      "{1, 2, 3, 6, 7}\n"
     ]
    }
   ],
   "source": [
    "mySet1 = {1, 2, 3, 4, 5}\n",
    "mySet2 = {4, 5, 6, 7}\n",
    "\n",
    "print(mySet1 & mySet2)  # 교집합\n",
    "print(mySet1 | mySet2)  # 합집합\n",
    "print(mySet1 - mySet2)  # 차집합\n",
    "print(mySet1 ^ mySet2)  # 대칭 차집합"
   ]
  },
  {
   "cell_type": "markdown",
   "id": "9632e15b-703d-4db9-bc2e-06222251e6ad",
   "metadata": {},
   "source": [
    "#### 컴프리헨션\n",
    "- 값이 순차적인 리스트를 한 줄로 만드는 방법"
   ]
  },
  {
   "cell_type": "code",
   "execution_count": 135,
   "id": "432bc186-e5d6-44b1-b101-247c4701a654",
   "metadata": {},
   "outputs": [
    {
     "data": {
      "text/plain": [
       "[2, 4, 6, 8, 10]"
      ]
     },
     "execution_count": 135,
     "metadata": {},
     "output_type": "execute_result"
    }
   ],
   "source": [
    "numlist = [num * 2 for num in range(1, 6)]\n",
    "numlist"
   ]
  },
  {
   "cell_type": "code",
   "execution_count": 136,
   "id": "e1b90256-e21f-46ba-affe-447fa71007de",
   "metadata": {},
   "outputs": [
    {
     "data": {
      "text/plain": [
       "[3, 6, 9, 12, 15, 18]"
      ]
     },
     "execution_count": 136,
     "metadata": {},
     "output_type": "execute_result"
    }
   ],
   "source": [
    "numlist = [num for num in range(1, 21) if num % 3 == 0]\n",
    "numlist"
   ]
  },
  {
   "cell_type": "markdown",
   "id": "97c82190-c9ab-4b25-ac1c-100f258fdfb4",
   "metadata": {},
   "source": [
    "#### zip 함수\n",
    "- 동시에 여러 리스트 접근"
   ]
  },
  {
   "cell_type": "code",
   "execution_count": 137,
   "id": "d45dd94d-b6cf-4d55-8f9b-542aa3da9989",
   "metadata": {},
   "outputs": [
    {
     "name": "stdout",
     "output_type": "stream",
     "text": [
      "떡볶이 --> 오뎅\n",
      "짜장면 --> 단무지\n",
      "라면 --> 김치\n"
     ]
    }
   ],
   "source": [
    "foods = [\"떡볶이\", \"짜장면\", \"라면\", \"피자\", \"맥주\", \"치킨\", \"삼겹살\"]\n",
    "sides = [\"오뎅\", \"단무지\", \"김치\"]\n",
    "for food, side in zip(foods, sides):\n",
    "    print(food, \"-->\", side)"
   ]
  },
  {
   "cell_type": "code",
   "execution_count": 139,
   "id": "0fc4689c-ff9c-4552-adeb-5063bba77cb8",
   "metadata": {},
   "outputs": [
    {
     "name": "stdout",
     "output_type": "stream",
     "text": [
      "[('떡볶이', '오뎅'), ('짜장면', '단무지'), ('라면', '김치')]\n",
      "{'떡볶이': '오뎅', '짜장면': '단무지', '라면': '김치'}\n"
     ]
    }
   ],
   "source": [
    "foods = [\"떡볶이\", \"짜장면\", \"라면\", \"피자\", \"맥주\", \"치킨\", \"삼겹살\"]\n",
    "sides = [\"오뎅\", \"단무지\", \"김치\"]\n",
    "tupList = list(zip(foods, sides))\n",
    "dic = dict(zip(foods, sides))\n",
    "print(tupList)\n",
    "print(dic)"
   ]
  },
  {
   "cell_type": "markdown",
   "id": "52c3f6c6-91dd-454a-8efa-eed24ba2c414",
   "metadata": {},
   "source": [
    "#### **리스트 복사 : 얕은 복사 / 깊은 복사**\n",
    "- copy by value(깊은 복사) -> 새로운 메모리 공간을 복사\n",
    "- copy by reference(얕은 복사) -> 동일한 메모리 공간 공유"
   ]
  },
  {
   "cell_type": "code",
   "execution_count": 140,
   "id": "29475103-dbf1-4679-8d46-e03f98fc38b4",
   "metadata": {},
   "outputs": [],
   "source": [
    "li = [1, 2, 3, 4]\n",
    "li2 = li"
   ]
  },
  {
   "cell_type": "code",
   "execution_count": 141,
   "id": "c4c6625f-38f7-4c83-87ce-8d18adedd209",
   "metadata": {},
   "outputs": [
    {
     "data": {
      "text/plain": [
       "[1, 2, 3, 4]"
      ]
     },
     "execution_count": 141,
     "metadata": {},
     "output_type": "execute_result"
    }
   ],
   "source": [
    "li"
   ]
  },
  {
   "cell_type": "code",
   "execution_count": 142,
   "id": "95851950-50a8-4ce5-a571-b9982723f7b4",
   "metadata": {},
   "outputs": [
    {
     "data": {
      "text/plain": [
       "[1, 2, 3, 4]"
      ]
     },
     "execution_count": 142,
     "metadata": {},
     "output_type": "execute_result"
    }
   ],
   "source": [
    "li2"
   ]
  },
  {
   "cell_type": "code",
   "execution_count": 145,
   "id": "6328fee5-8ebd-4fd5-9cfd-39a0a85631b6",
   "metadata": {},
   "outputs": [
    {
     "data": {
      "text/plain": [
       "1197872011648"
      ]
     },
     "execution_count": 145,
     "metadata": {},
     "output_type": "execute_result"
    }
   ],
   "source": [
    "id(li)  # id -> 메모리 주소"
   ]
  },
  {
   "cell_type": "code",
   "execution_count": 146,
   "id": "4764e5db-d537-4b0c-af28-d63b1f5742af",
   "metadata": {},
   "outputs": [
    {
     "data": {
      "text/plain": [
       "1197872011648"
      ]
     },
     "execution_count": 146,
     "metadata": {},
     "output_type": "execute_result"
    }
   ],
   "source": [
    "id(li2)"
   ]
  },
  {
   "cell_type": "code",
   "execution_count": 149,
   "id": "ae0bff34-5eda-42ed-a63a-ebd293ccdedd",
   "metadata": {},
   "outputs": [
    {
     "name": "stdout",
     "output_type": "stream",
     "text": [
      "['짜장면', '탕수육', '군만두']\n",
      "['짬뽕', '탕수육', '군만두', '깐풍기']\n",
      "['짬뽕', '탕수육', '군만두', '깐풍기']\n"
     ]
    }
   ],
   "source": [
    "# 얕은 복사\n",
    "oldList = [\"짜장면\", \"탕수육\", \"군만두\"]\n",
    "newList = oldList\n",
    "print(newList)\n",
    "oldList[0] = \"짬뽕\"\n",
    "oldList.append(\"깐풍기\")\n",
    "print(newList)\n",
    "print(oldList)"
   ]
  },
  {
   "cell_type": "code",
   "execution_count": 152,
   "id": "280f1156-4cb7-4f49-9f84-a9cd3ba92f96",
   "metadata": {},
   "outputs": [
    {
     "name": "stdout",
     "output_type": "stream",
     "text": [
      "['짜장면', '탕수육', '군만두']\n",
      "['짜장면', '탕수육', '군만두']\n",
      "['짬뽕', '탕수육', '군만두', '깐풍기']\n"
     ]
    }
   ],
   "source": [
    "# 깊은 복사\n",
    "oldList = [\"짜장면\", \"탕수육\", \"군만두\"]\n",
    "newList = oldList[:]\n",
    "print(newList)\n",
    "oldList[0] = \"짬뽕\"\n",
    "oldList.append(\"깐풍기\")\n",
    "print(newList)\n",
    "print(oldList)"
   ]
  },
  {
   "cell_type": "code",
   "execution_count": null,
   "id": "640fae13-e03f-4547-8764-b22e6733680d",
   "metadata": {},
   "outputs": [],
   "source": []
  }
 ],
 "metadata": {
  "kernelspec": {
   "display_name": "Python 3 (ipykernel)",
   "language": "python",
   "name": "python3"
  },
  "language_info": {
   "codemirror_mode": {
    "name": "ipython",
    "version": 3
   },
   "file_extension": ".py",
   "mimetype": "text/x-python",
   "name": "python",
   "nbconvert_exporter": "python",
   "pygments_lexer": "ipython3",
   "version": "3.9.7"
  }
 },
 "nbformat": 4,
 "nbformat_minor": 5
}
