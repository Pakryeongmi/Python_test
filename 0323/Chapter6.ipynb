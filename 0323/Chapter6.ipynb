{
 "cells": [
  {
   "cell_type": "code",
   "execution_count": 37,
   "id": "49a09b25-2dd9-42f7-8d78-9a0532c6ef73",
   "metadata": {},
   "outputs": [],
   "source": [
    "import sys # 내장함수"
   ]
  },
  {
   "cell_type": "code",
   "execution_count": 38,
   "id": "251633ef-b2eb-416b-8663-8e3697e91fed",
   "metadata": {},
   "outputs": [
    {
     "data": {
      "text/plain": [
       "\u001b[1;31mDocstring:\u001b[0m\n",
       "getsizeof(object [, default]) -> int\n",
       "\n",
       "Return the size of object in bytes.\n",
       "\u001b[1;31mType:\u001b[0m      builtin_function_or_method\n"
      ]
     },
     "metadata": {},
     "output_type": "display_data"
    }
   ],
   "source": [
    "sys.getsizeof?  # ? -> 함수에 대한 설명을 출력"
   ]
  },
  {
   "cell_type": "code",
   "execution_count": 41,
   "id": "16229172-add0-4b0b-a477-058eb4e2faac",
   "metadata": {},
   "outputs": [
    {
     "name": "stdout",
     "output_type": "stream",
     "text": [
      "Help on built-in function getsizeof in module sys:\n",
      "\n",
      "getsizeof(...)\n",
      "    getsizeof(object [, default]) -> int\n",
      "    \n",
      "    Return the size of object in bytes.\n",
      "\n"
     ]
    }
   ],
   "source": [
    "help(sys.getsizeof)  # help -> ?랑 같은 의미의 함수"
   ]
  },
  {
   "cell_type": "code",
   "execution_count": 43,
   "id": "98eb2b07-79b8-4b5a-86ff-b1a18dcf91e1",
   "metadata": {},
   "outputs": [
    {
     "data": {
      "text/plain": [
       "78"
      ]
     },
     "execution_count": 43,
     "metadata": {},
     "output_type": "execute_result"
    }
   ],
   "source": [
    "sys.getsizeof(\"하나\")  # getsizeof -> 데이터가 차지하는 크기를 설명해주는 함수"
   ]
  },
  {
   "cell_type": "markdown",
   "id": "063172c3-9e79-49e4-8d2a-9591618b1263",
   "metadata": {},
   "source": [
    "## Section02 기본 for문\n",
    "#### - 반복\n",
    "```\n",
    "for 변수 in range(시작값, 끝값+1, 증가값):\n",
    "    print(\"반복할 문장\")\n",
    "````"
   ]
  },
  {
   "cell_type": "code",
   "execution_count": 1,
   "id": "133f3f0a-405a-494e-b634-a82c00a52968",
   "metadata": {},
   "outputs": [
    {
     "name": "stdout",
     "output_type": "stream",
     "text": [
      "안녕하세요.... 0\n",
      "안녕하세요.... 1\n",
      "안녕하세요.... 2\n"
     ]
    }
   ],
   "source": [
    "for i in range(0, 3, 1):         \n",
    "    print(\"안녕하세요....\", i)"
   ]
  },
  {
   "cell_type": "code",
   "execution_count": 2,
   "id": "94f12126-0dc5-47d9-85e5-2be979b64980",
   "metadata": {},
   "outputs": [
    {
     "name": "stdout",
     "output_type": "stream",
     "text": [
      "안녕하세요! 20\n",
      "안녕하세요! 22\n",
      "안녕하세요! 24\n",
      "안녕하세요! 26\n",
      "안녕하세요! 28\n",
      "안녕하세요! 30\n",
      "안녕하세요! 32\n",
      "안녕하세요! 34\n",
      "안녕하세요! 36\n",
      "안녕하세요! 38\n",
      "안녕하세요! 40\n",
      "안녕하세요! 42\n",
      "안녕하세요! 44\n",
      "안녕하세요! 46\n",
      "안녕하세요! 48\n"
     ]
    }
   ],
   "source": [
    "for i in range(20, 50, 2):\n",
    "    print(\"안녕하세요!\", i)"
   ]
  },
  {
   "cell_type": "markdown",
   "id": "97368ded-3a1e-442b-aa4c-020ff7bcc64f",
   "metadata": {},
   "source": [
    "**< range() 내장 함수 > - 숫자만 담을 수 있음**"
   ]
  },
  {
   "cell_type": "code",
   "execution_count": 3,
   "id": "d02a05c8-354d-43cf-a77f-8298869a79eb",
   "metadata": {},
   "outputs": [
    {
     "data": {
      "text/plain": [
       "range(0, 5)"
      ]
     },
     "execution_count": 3,
     "metadata": {},
     "output_type": "execute_result"
    }
   ],
   "source": [
    "range(0, 5, 1)"
   ]
  },
  {
   "cell_type": "code",
   "execution_count": 4,
   "id": "79342219-d032-4106-84d3-e08ac15152c2",
   "metadata": {},
   "outputs": [
    {
     "data": {
      "text/plain": [
       "range"
      ]
     },
     "execution_count": 4,
     "metadata": {},
     "output_type": "execute_result"
    }
   ],
   "source": [
    "type(range(0, 5, 1))"
   ]
  },
  {
   "cell_type": "markdown",
   "id": "36ddbc7e-c8f3-42d8-840e-0d02c126cada",
   "metadata": {},
   "source": [
    "**< list() 내장 함수 > - 문자 포함 담을 수 있음**"
   ]
  },
  {
   "cell_type": "code",
   "execution_count": 6,
   "id": "c3d0a784-8454-4e3c-a1eb-bd7e162053bb",
   "metadata": {},
   "outputs": [
    {
     "data": {
      "text/plain": [
       "list"
      ]
     },
     "execution_count": 6,
     "metadata": {},
     "output_type": "execute_result"
    }
   ],
   "source": [
    "type([0, 1, 3, 5, 9, 10])"
   ]
  },
  {
   "cell_type": "code",
   "execution_count": 7,
   "id": "ba0f4cc5-fedd-4e0c-9a90-666d6e240d0b",
   "metadata": {},
   "outputs": [
    {
     "data": {
      "text/plain": [
       "list"
      ]
     },
     "execution_count": 7,
     "metadata": {},
     "output_type": "execute_result"
    }
   ],
   "source": [
    "type([\"하나\", 100, -0.934, range(1, 3, 1)])"
   ]
  },
  {
   "cell_type": "code",
   "execution_count": 8,
   "id": "578ee7e9-8d2c-48fa-b050-8f6fc6535bd5",
   "metadata": {},
   "outputs": [
    {
     "name": "stdout",
     "output_type": "stream",
     "text": [
      "0\n",
      "1\n",
      "3\n",
      "5\n",
      "9\n",
      "10\n"
     ]
    }
   ],
   "source": [
    "for i in [0, 1, 3, 5, 9, 10]:\n",
    "    print(i)"
   ]
  },
  {
   "cell_type": "code",
   "execution_count": 9,
   "id": "4c40e066-8a3b-4931-bc3d-808d8107a977",
   "metadata": {},
   "outputs": [
    {
     "name": "stdout",
     "output_type": "stream",
     "text": [
      "하나\n",
      "100\n",
      "-0.934\n",
      "range(1, 3)\n"
     ]
    }
   ],
   "source": [
    "for i in [\"하나\", 100, -0.934, range(1, 3, 1)]:\n",
    "    print(i)"
   ]
  },
  {
   "cell_type": "code",
   "execution_count": 11,
   "id": "7ffcde1f-747a-4eea-a9d7-de7e6ac0db5f",
   "metadata": {},
   "outputs": [
    {
     "name": "stdout",
     "output_type": "stream",
     "text": [
      "0 : 안녕하세요? for 문을 공부 중입니다.\n",
      "1 : 안녕하세요? for 문을 공부 중입니다.\n",
      "2 : 안녕하세요? for 문을 공부 중입니다.\n"
     ]
    }
   ],
   "source": [
    "for i in range(0, 3, 1):\n",
    "    print(\"%d : 안녕하세요? for 문을 공부 중입니다.\" % i)"
   ]
  },
  {
   "cell_type": "code",
   "execution_count": 14,
   "id": "be1438e5-4894-476d-be8c-e02c8b284947",
   "metadata": {},
   "outputs": [
    {
     "name": "stdout",
     "output_type": "stream",
     "text": [
      "안녕하세요? for 문을 공부 중입니다.\n",
      "안녕하세요? for 문을 공부 중입니다.\n",
      "안녕하세요? for 문을 공부 중입니다.\n"
     ]
    }
   ],
   "source": [
    "for _ in range(0, 3, 1):       # i 대신 _ 사용해도 됨(파이썬에서 언더바는 임시 변수)\n",
    "    print(\"안녕하세요? for 문을 공부 중입니다.\")"
   ]
  },
  {
   "cell_type": "markdown",
   "id": "0b3b5905-1d2b-43de-99a2-f50754268146",
   "metadata": {},
   "source": [
    "**< 내림차순 >**"
   ]
  },
  {
   "cell_type": "code",
   "execution_count": 16,
   "id": "a90fd76e-e09c-4c57-b7fc-e079ba1ecd15",
   "metadata": {},
   "outputs": [
    {
     "name": "stdout",
     "output_type": "stream",
     "text": [
      "안녕하세요 5\n",
      "안녕하세요 4\n",
      "안녕하세요 3\n",
      "안녕하세요 2\n",
      "안녕하세요 1\n",
      "안녕하세요 0\n",
      "안녕하세요 -1\n",
      "안녕하세요 -2\n",
      "안녕하세요 -3\n",
      "안녕하세요 -4\n"
     ]
    }
   ],
   "source": [
    "for i in range(5, -5, -1):\n",
    "    print(\"안녕하세요\", i)"
   ]
  },
  {
   "cell_type": "markdown",
   "id": "2b8e6e51-46dc-4ad0-ae28-6316b04a3968",
   "metadata": {},
   "source": [
    "**줄바꿈(carrage return, line feed)**\n",
    "- \\n : 줄바꿈이 임의로 지정되있어 출력하면 항상 한줄씩 나옴\n",
    "- end = '' : 한줄로 붙여쓰고 싶을때 사용"
   ]
  },
  {
   "cell_type": "code",
   "execution_count": 20,
   "id": "c0c6b70f-14ca-4d83-98b5-3ed629f5f5ec",
   "metadata": {},
   "outputs": [
    {
     "name": "stdout",
     "output_type": "stream",
     "text": [
      "3 \n",
      "2 \n",
      "1 \n",
      "0 \n",
      "-1 \n"
     ]
    }
   ],
   "source": [
    "for i in range(3, -2, -1):\n",
    "    print(\"%d \" % i)"
   ]
  },
  {
   "cell_type": "code",
   "execution_count": 21,
   "id": "d0c3f9e1-d19a-47f6-ab3a-23c95400d145",
   "metadata": {},
   "outputs": [
    {
     "name": "stdout",
     "output_type": "stream",
     "text": [
      "3 2 1 0 -1 "
     ]
    }
   ],
   "source": [
    "for i in range(3, -2, -1):\n",
    "    print(\"%d \" % i, end='')"
   ]
  },
  {
   "cell_type": "code",
   "execution_count": 24,
   "id": "ca8f7a1c-f0b0-44c1-bd99-abc26ba003c6",
   "metadata": {},
   "outputs": [
    {
     "name": "stdout",
     "output_type": "stream",
     "text": [
      "3 \t2 \t1 \t0 \t-1 \t"
     ]
    }
   ],
   "source": [
    "for i in range(3, -2, -1):\n",
    "    print(\"%d \" % i, end='\\t')"
   ]
  },
  {
   "cell_type": "markdown",
   "id": "6ea79ff7-68aa-43f6-9eb9-df490b99f1ed",
   "metadata": {},
   "source": [
    "**합계 구하기**"
   ]
  },
  {
   "cell_type": "code",
   "execution_count": 29,
   "id": "8927497e-3c8b-4355-b46a-7466a56b8dfd",
   "metadata": {},
   "outputs": [
    {
     "name": "stdout",
     "output_type": "stream",
     "text": [
      "1에서 10까지의 합계: 55\n"
     ]
    }
   ],
   "source": [
    "i = 0\n",
    "hap = 0\n",
    "\n",
    "for i in range(1, 11, 1):\n",
    "    hap = hap + i\n",
    "print(\"1에서 10까지의 합계: %d\" % hap)"
   ]
  },
  {
   "cell_type": "code",
   "execution_count": 34,
   "id": "c114bfbe-f696-4533-8473-55769a96322d",
   "metadata": {},
   "outputs": [
    {
     "name": "stdout",
     "output_type": "stream",
     "text": [
      "500과 1000 사이에 있는 홀수의 합계: 187500\n"
     ]
    }
   ],
   "source": [
    "i, hap = 0, 0\n",
    "\n",
    "for i in range(501, 1001, 2):\n",
    "    hap = hap + i\n",
    "    \n",
    "print(\"500과 1000 사이에 있는 홀수의 합계: %d\" % hap)"
   ]
  },
  {
   "cell_type": "code",
   "execution_count": 36,
   "id": "bd8b26f5-00cf-4450-9d65-a40e44b4e15a",
   "metadata": {},
   "outputs": [
    {
     "name": "stdout",
     "output_type": "stream",
     "text": [
      "0과 100 사이에 있는 7의 배수 합계: 735\n"
     ]
    }
   ],
   "source": [
    "# p.155 6-1번\n",
    "i = 0\n",
    "hap = 0\n",
    "\n",
    "for i in range(0, 101, 7):\n",
    "    hap = hap + i\n",
    "print(\"0과 100 사이에 있는 7의 배수 합계: %d\" % hap)"
   ]
  },
  {
   "cell_type": "code",
   "execution_count": 46,
   "id": "0f9d29f4-6d40-4298-b7e9-8e5256db7ead",
   "metadata": {},
   "outputs": [
    {
     "name": "stdin",
     "output_type": "stream",
     "text": [
      "값을 입력하세요:  100\n"
     ]
    },
    {
     "name": "stdout",
     "output_type": "stream",
     "text": [
      "1에서 100까지의 합계: 5050\n"
     ]
    }
   ],
   "source": [
    "i, hap = 0, 0\n",
    "num = 0\n",
    "\n",
    "num = int(input(\"값을 입력하세요: \"))\n",
    "\n",
    "for i in range(1, num+1, 1):\n",
    "    hap = hap + i\n",
    "    \n",
    "print(\"1에서 %d까지의 합계: %d\" % (num, hap))"
   ]
  },
  {
   "cell_type": "code",
   "execution_count": 48,
   "id": "e7fc8ab7-edbd-41ff-bef7-291db716304f",
   "metadata": {},
   "outputs": [
    {
     "name": "stdin",
     "output_type": "stream",
     "text": [
      "시작값을 입력하세요:  2\n",
      "끝값을 입력하세요:  300\n",
      "증가값을 입력하세요:  3\n"
     ]
    },
    {
     "name": "stdout",
     "output_type": "stream",
     "text": [
      "2에서 300까지의 합계: 15050\n"
     ]
    }
   ],
   "source": [
    "i, hap = 0, 0\n",
    "num1, num2, num3 = 0, 0, 0\n",
    "\n",
    "num1 = int(input(\"시작값을 입력하세요: \"))\n",
    "num2 = int(input(\"끝값을 입력하세요: \"))\n",
    "num3 = int(input(\"증가값을 입력하세요: \"))\n",
    "\n",
    "for i in range(num1, num2, num3):\n",
    "    hap = hap + i\n",
    "    \n",
    "print(\"%d에서 %d까지의 합계: %d\" % (num1, num2, hap))"
   ]
  },
  {
   "cell_type": "code",
   "execution_count": 20,
   "id": "f77afbe5-3210-4643-b4cc-47400db31fda",
   "metadata": {},
   "outputs": [
    {
     "name": "stdin",
     "output_type": "stream",
     "text": [
      "단을 입력하세요:  7\n"
     ]
    },
    {
     "name": "stdout",
     "output_type": "stream",
     "text": [
      "7 X 1 =  7\n",
      "7 X 2 = 14\n",
      "7 X 3 = 21\n",
      "7 X 4 = 28\n",
      "7 X 5 = 35\n",
      "7 X 6 = 42\n",
      "7 X 7 = 49\n",
      "7 X 8 = 56\n",
      "7 X 9 = 63\n"
     ]
    }
   ],
   "source": [
    "# 구구단\n",
    "i, dan = 0, 0\n",
    "dan = int(input(\"단을 입력하세요: \"))\n",
    "\n",
    "for i in range(1, 10, 1):\n",
    "    print(\"%d X %d = %2d\" % (dan, i, dan * i))"
   ]
  },
  {
   "cell_type": "code",
   "execution_count": 21,
   "id": "aad5e664-cf63-4c5b-b56d-c0d9112cac99",
   "metadata": {},
   "outputs": [
    {
     "name": "stdin",
     "output_type": "stream",
     "text": [
      "단을 입력하세요:  7\n"
     ]
    },
    {
     "name": "stdout",
     "output_type": "stream",
     "text": [
      "9 X 7 = 63\n",
      "8 X 7 = 56\n",
      "7 X 7 = 49\n",
      "6 X 7 = 42\n",
      "5 X 7 = 35\n",
      "4 X 7 = 28\n",
      "3 X 7 = 21\n",
      "2 X 7 = 14\n",
      "1 X 7 =  7\n"
     ]
    }
   ],
   "source": [
    "# 구구단 거꾸로\n",
    "i, dan = 0, 0\n",
    "dan = int(input(\"단을 입력하세요: \"))\n",
    "\n",
    "for i in range(9, 0, -1):\n",
    "    print(\"%d X %d = %2d\" % (i, dan, dan * i))"
   ]
  },
  {
   "cell_type": "markdown",
   "id": "7c855a4d-25c6-4779-b668-ca4c6ad61520",
   "metadata": {},
   "source": [
    "## Section03 중첩 for문"
   ]
  },
  {
   "cell_type": "code",
   "execution_count": 50,
   "id": "5a8534c1-2627-4bf5-8e38-392cda15dc79",
   "metadata": {},
   "outputs": [
    {
     "name": "stdout",
     "output_type": "stream",
     "text": [
      "안녕하세요:  1 11\n",
      "안녕하세요:  1 12\n",
      "안녕하세요:  1 13\n",
      "안녕하세요:  1 14\n",
      "안녕하세요:  1 15\n",
      "안녕하세요:  2 11\n",
      "안녕하세요:  2 12\n",
      "안녕하세요:  2 13\n",
      "안녕하세요:  2 14\n",
      "안녕하세요:  2 15\n",
      "안녕하세요:  3 11\n",
      "안녕하세요:  3 12\n",
      "안녕하세요:  3 13\n",
      "안녕하세요:  3 14\n",
      "안녕하세요:  3 15\n",
      "안녕하세요:  4 11\n",
      "안녕하세요:  4 12\n",
      "안녕하세요:  4 13\n",
      "안녕하세요:  4 14\n",
      "안녕하세요:  4 15\n"
     ]
    }
   ],
   "source": [
    "for i in range(1, 5, 1):\n",
    "    for j in range(11, 16, 1):\n",
    "        print(\"안녕하세요: \", i, j)"
   ]
  },
  {
   "cell_type": "code",
   "execution_count": 51,
   "id": "5a9970ed-bd11-4ada-8a93-c8ac9de65551",
   "metadata": {},
   "outputs": [
    {
     "name": "stdout",
     "output_type": "stream",
     "text": [
      "파이썬은 꿀잼입니다! (i값 : 0, k값 : 0)\n",
      "파이썬은 꿀잼입니다! (i값 : 0, k값 : 1)\n",
      "파이썬은 꿀잼입니다! (i값 : 1, k값 : 0)\n",
      "파이썬은 꿀잼입니다! (i값 : 1, k값 : 1)\n",
      "파이썬은 꿀잼입니다! (i값 : 2, k값 : 0)\n",
      "파이썬은 꿀잼입니다! (i값 : 2, k값 : 1)\n"
     ]
    }
   ],
   "source": [
    "for i in range(0, 3, 1):\n",
    "    for k in range(0, 2 ,1):\n",
    "        print(\"파이썬은 꿀잼입니다! (i값 : %d, k값 : %d)\" % (i, k))"
   ]
  },
  {
   "cell_type": "code",
   "execution_count": 55,
   "id": "f6c7d3cd-5e40-4402-89c8-f24c7cdb3c44",
   "metadata": {},
   "outputs": [
    {
     "name": "stdout",
     "output_type": "stream",
     "text": [
      "2 X 1 = 2\n",
      "2 X 2 = 4\n",
      "2 X 3 = 6\n",
      "2 X 4 = 8\n",
      "2 X 5 = 10\n",
      "2 X 6 = 12\n",
      "2 X 7 = 14\n",
      "2 X 8 = 16\n",
      "2 X 9 = 18\n",
      "\n",
      "3 X 1 = 3\n",
      "3 X 2 = 6\n",
      "3 X 3 = 9\n",
      "3 X 4 = 12\n",
      "3 X 5 = 15\n",
      "3 X 6 = 18\n",
      "3 X 7 = 21\n",
      "3 X 8 = 24\n",
      "3 X 9 = 27\n",
      "\n",
      "4 X 1 = 4\n",
      "4 X 2 = 8\n",
      "4 X 3 = 12\n",
      "4 X 4 = 16\n",
      "4 X 5 = 20\n",
      "4 X 6 = 24\n",
      "4 X 7 = 28\n",
      "4 X 8 = 32\n",
      "4 X 9 = 36\n",
      "\n",
      "5 X 1 = 5\n",
      "5 X 2 = 10\n",
      "5 X 3 = 15\n",
      "5 X 4 = 20\n",
      "5 X 5 = 25\n",
      "5 X 6 = 30\n",
      "5 X 7 = 35\n",
      "5 X 8 = 40\n",
      "5 X 9 = 45\n",
      "\n",
      "6 X 1 = 6\n",
      "6 X 2 = 12\n",
      "6 X 3 = 18\n",
      "6 X 4 = 24\n",
      "6 X 5 = 30\n",
      "6 X 6 = 36\n",
      "6 X 7 = 42\n",
      "6 X 8 = 48\n",
      "6 X 9 = 54\n",
      "\n",
      "7 X 1 = 7\n",
      "7 X 2 = 14\n",
      "7 X 3 = 21\n",
      "7 X 4 = 28\n",
      "7 X 5 = 35\n",
      "7 X 6 = 42\n",
      "7 X 7 = 49\n",
      "7 X 8 = 56\n",
      "7 X 9 = 63\n",
      "\n",
      "8 X 1 = 8\n",
      "8 X 2 = 16\n",
      "8 X 3 = 24\n",
      "8 X 4 = 32\n",
      "8 X 5 = 40\n",
      "8 X 6 = 48\n",
      "8 X 7 = 56\n",
      "8 X 8 = 64\n",
      "8 X 9 = 72\n",
      "\n",
      "9 X 1 = 9\n",
      "9 X 2 = 18\n",
      "9 X 3 = 27\n",
      "9 X 4 = 36\n",
      "9 X 5 = 45\n",
      "9 X 6 = 54\n",
      "9 X 7 = 63\n",
      "9 X 8 = 72\n",
      "9 X 9 = 81\n",
      "\n"
     ]
    }
   ],
   "source": [
    "i, j = 0, 0\n",
    "\n",
    "for i in range(2, 10, 1):\n",
    "    for j in range(1, 10, 1):\n",
    "        print(\"%d X %d = %d\" % (i, j, i*j))\n",
    "    print(\"\")   # 각 단이 끝나면 한 줄 띄우기 위해"
   ]
  },
  {
   "cell_type": "code",
   "execution_count": 27,
   "id": "d380db77-8be6-40e8-a445-994edc306f1a",
   "metadata": {},
   "outputs": [
    {
     "name": "stdout",
     "output_type": "stream",
     "text": [
      "\n",
      "## 2단 ##\n",
      "2 X 1 = 2\n",
      "2 X 2 = 4\n",
      "2 X 3 = 6\n",
      "2 X 4 = 8\n",
      "2 X 5 = 10\n",
      "2 X 6 = 12\n",
      "2 X 7 = 14\n",
      "2 X 8 = 16\n",
      "2 X 9 = 18\n",
      "\n",
      "## 3단 ##\n",
      "3 X 1 = 3\n",
      "3 X 2 = 6\n",
      "3 X 3 = 9\n",
      "3 X 4 = 12\n",
      "3 X 5 = 15\n",
      "3 X 6 = 18\n",
      "3 X 7 = 21\n",
      "3 X 8 = 24\n",
      "3 X 9 = 27\n",
      "\n",
      "## 4단 ##\n",
      "4 X 1 = 4\n",
      "4 X 2 = 8\n",
      "4 X 3 = 12\n",
      "4 X 4 = 16\n",
      "4 X 5 = 20\n",
      "4 X 6 = 24\n",
      "4 X 7 = 28\n",
      "4 X 8 = 32\n",
      "4 X 9 = 36\n",
      "\n",
      "## 5단 ##\n",
      "5 X 1 = 5\n",
      "5 X 2 = 10\n",
      "5 X 3 = 15\n",
      "5 X 4 = 20\n",
      "5 X 5 = 25\n",
      "5 X 6 = 30\n",
      "5 X 7 = 35\n",
      "5 X 8 = 40\n",
      "5 X 9 = 45\n",
      "\n",
      "## 6단 ##\n",
      "6 X 1 = 6\n",
      "6 X 2 = 12\n",
      "6 X 3 = 18\n",
      "6 X 4 = 24\n",
      "6 X 5 = 30\n",
      "6 X 6 = 36\n",
      "6 X 7 = 42\n",
      "6 X 8 = 48\n",
      "6 X 9 = 54\n",
      "\n",
      "## 7단 ##\n",
      "7 X 1 = 7\n",
      "7 X 2 = 14\n",
      "7 X 3 = 21\n",
      "7 X 4 = 28\n",
      "7 X 5 = 35\n",
      "7 X 6 = 42\n",
      "7 X 7 = 49\n",
      "7 X 8 = 56\n",
      "7 X 9 = 63\n",
      "\n",
      "## 8단 ##\n",
      "8 X 1 = 8\n",
      "8 X 2 = 16\n",
      "8 X 3 = 24\n",
      "8 X 4 = 32\n",
      "8 X 5 = 40\n",
      "8 X 6 = 48\n",
      "8 X 7 = 56\n",
      "8 X 8 = 64\n",
      "8 X 9 = 72\n",
      "\n",
      "## 9단 ##\n",
      "9 X 1 = 9\n",
      "9 X 2 = 18\n",
      "9 X 3 = 27\n",
      "9 X 4 = 36\n",
      "9 X 5 = 45\n",
      "9 X 6 = 54\n",
      "9 X 7 = 63\n",
      "9 X 8 = 72\n",
      "9 X 9 = 81\n"
     ]
    }
   ],
   "source": [
    "# p.161 6-3번\n",
    "i, j = 0, 0\n",
    "\n",
    "for i in range(2, 10, 1):\n",
    "    print(\"\")\n",
    "    print(\"## %d단 ##\" % i)    \n",
    "    for j in range(1, 10, 1):\n",
    "        print(\"%d X %d = %d\" % (i, j, i*j))\n",
    "\n",
    "    "
   ]
  },
  {
   "cell_type": "code",
   "execution_count": 58,
   "id": "19b9b8b6-230e-437e-8b98-47005d0739da",
   "metadata": {},
   "outputs": [],
   "source": [
    "# p.161 프로그램1 해보기\n",
    "i, j = 0, 0\n",
    "\n"
   ]
  },
  {
   "cell_type": "markdown",
   "id": "2483b871-5dbe-4b93-a049-db3778dc428c",
   "metadata": {},
   "source": [
    "#### 별 그리기!!\n",
    "- for 반복문으로 피라미드(삼각형) 그려보시오"
   ]
  },
  {
   "cell_type": "code",
   "execution_count": 32,
   "id": "2f55558d-1a68-4d11-b3f7-bfecdf39b1cf",
   "metadata": {},
   "outputs": [
    {
     "name": "stdout",
     "output_type": "stream",
     "text": [
      "*\n",
      "**\n",
      "***\n",
      "****\n",
      "*****\n"
     ]
    }
   ],
   "source": [
    "i, j = 0, 0\n",
    "\n",
    "for i in range(1, 6):\n",
    "    for k in range(1, i+1):\n",
    "        print(\"*\", end='')\n",
    "    print(\"\")    # ?????????????????"
   ]
  },
  {
   "cell_type": "markdown",
   "id": "bd3ba0c8-11b3-462f-a31f-c3b2a38fbfc8",
   "metadata": {},
   "source": [
    "## Section04 while문\n",
    "```\n",
    "변수 = 시작값\n",
    "while 변수 < 끝값+1:\n",
    "    print(\"반복할 내용\")\n",
    "    변수 = 변수 + 증가값\n",
    "```"
   ]
  },
  {
   "cell_type": "code",
   "execution_count": 68,
   "id": "33e5f10c-a7e9-49ce-8daa-2c457f63a187",
   "metadata": {},
   "outputs": [
    {
     "name": "stdout",
     "output_type": "stream",
     "text": [
      "0 : 안녕하세요? while 문을 공부 중입니다.\n",
      "1 : 안녕하세요? while 문을 공부 중입니다.\n",
      "2 : 안녕하세요? while 문을 공부 중입니다.\n"
     ]
    }
   ],
   "source": [
    "i = 0\n",
    "while i < 3:\n",
    "    print(\"%d : 안녕하세요? while 문을 공부 중입니다.\" % i)\n",
    "    i = i + 1"
   ]
  },
  {
   "cell_type": "code",
   "execution_count": 75,
   "id": "0b5706ae-3423-43aa-bad4-ed1a834a0fbe",
   "metadata": {},
   "outputs": [
    {
     "name": "stdout",
     "output_type": "stream",
     "text": [
      "1에서 10까지의 합계: 55\n"
     ]
    }
   ],
   "source": [
    "i, hap = 0, 0\n",
    "i = 1\n",
    "while i < 11: \n",
    "    hap = hap + i\n",
    "    i = i + 1\n",
    "     \n",
    "print(\"1에서 10까지의 합계: %d\" % hap)"
   ]
  },
  {
   "cell_type": "markdown",
   "id": "cfd73678-cdbe-4436-abd7-2d7b5c12510e",
   "metadata": {},
   "source": [
    "#### 무한루프 while문\n",
    "- while 뒤에 조건식 대신 True로 지정"
   ]
  },
  {
   "cell_type": "code",
   "execution_count": null,
   "id": "0331fb62-2fbf-45cd-b80d-472b96bfc12a",
   "metadata": {},
   "outputs": [
    {
     "name": "stdin",
     "output_type": "stream",
     "text": [
      "더할 첫 번째 수를 입력하세요:  55\n",
      "더할 두 번째 수를 입력하세요:  22\n"
     ]
    },
    {
     "name": "stdout",
     "output_type": "stream",
     "text": [
      "55 + 22 = 77\n"
     ]
    },
    {
     "name": "stdin",
     "output_type": "stream",
     "text": [
      "더할 첫 번째 수를 입력하세요:  55\n",
      "더할 두 번째 수를 입력하세요:  44\n"
     ]
    },
    {
     "name": "stdout",
     "output_type": "stream",
     "text": [
      "55 + 44 = 99\n"
     ]
    },
    {
     "name": "stdin",
     "output_type": "stream",
     "text": [
      "더할 첫 번째 수를 입력하세요:  00\n",
      "더할 두 번째 수를 입력하세요:  00\n"
     ]
    },
    {
     "name": "stdout",
     "output_type": "stream",
     "text": [
      "0 + 0 = 0\n"
     ]
    },
    {
     "name": "stdin",
     "output_type": "stream",
     "text": [
      "더할 첫 번째 수를 입력하세요:  00\n",
      "더할 두 번째 수를 입력하세요:  11111\n"
     ]
    },
    {
     "name": "stdout",
     "output_type": "stream",
     "text": [
      "0 + 11111 = 11111\n"
     ]
    }
   ],
   "source": [
    "hap = 0\n",
    "a, b = 0, 0\n",
    "\n",
    "while True:\n",
    "    a = int(input(\"더할 첫 번째 수를 입력하세요: \"))\n",
    "    b = int(input(\"더할 두 번째 수를 입력하세요: \"))\n",
    "    hap = a + b\n",
    "    print(\"%d + %d = %d\" % (a, b, hap))\n",
    "    "
   ]
  },
  {
   "cell_type": "code",
   "execution_count": null,
   "id": "0f7a95e6-c2d5-495c-87ee-6806694c4fdf",
   "metadata": {},
   "outputs": [],
   "source": [
    "# P.167 6-11\n",
    "ch = \"\"\n",
    "a, b = 0, 0\n",
    "\n",
    "while True:\n",
    "    a = int(input(\"계산할 첫 번째 수를 입력하세요: \"))"
   ]
  },
  {
   "cell_type": "markdown",
   "id": "60ce36e4-5ea4-4ac5-b3ab-cb42a821c5c2",
   "metadata": {},
   "source": [
    "### Section05 break문 과 continue문"
   ]
  },
  {
   "cell_type": "code",
   "execution_count": 3,
   "id": "be2669a9-23e7-4654-bbe3-a39e68a0e175",
   "metadata": {},
   "outputs": [
    {
     "name": "stdout",
     "output_type": "stream",
     "text": [
      "for 1 times: \n"
     ]
    }
   ],
   "source": [
    "for i in range(1, 100):\n",
    "    \n",
    "    print(\"for %d times: \" % i)\n",
    "    \n",
    "    break"
   ]
  },
  {
   "cell_type": "code",
   "execution_count": 4,
   "id": "3f0b75c9-3618-4526-9467-7b713d3c507f",
   "metadata": {},
   "outputs": [
    {
     "name": "stdout",
     "output_type": "stream",
     "text": [
      "while ...\n"
     ]
    }
   ],
   "source": [
    "while True:\n",
    "    \n",
    "    print(\"while ...\")\n",
    "    \n",
    "    break"
   ]
  },
  {
   "cell_type": "code",
   "execution_count": 18,
   "id": "65e4225c-1a64-4ad8-a0e1-0e1a6772a564",
   "metadata": {},
   "outputs": [
    {
     "name": "stdin",
     "output_type": "stream",
     "text": [
      "더할 첫 번째 수를 입력하세요:  55\n",
      "더할 두 번째 수를 입력하세요:  22\n"
     ]
    },
    {
     "name": "stdout",
     "output_type": "stream",
     "text": [
      "55 + 22 = 77\n"
     ]
    },
    {
     "name": "stdin",
     "output_type": "stream",
     "text": [
      "더할 첫 번째 수를 입력하세요:  0\n"
     ]
    },
    {
     "name": "stdout",
     "output_type": "stream",
     "text": [
      "0을 입력해 반복문을 탈출했습니다.\n"
     ]
    }
   ],
   "source": [
    "hap = 0\n",
    "a, b =0, 0\n",
    "\n",
    "while True:\n",
    "    a = int(input(\"더할 첫 번째 수를 입력하세요: \"))\n",
    "    if a == 0:\n",
    "        break\n",
    "    b = int(input(\"더할 두 번째 수를 입력하세요: \"))\n",
    "    hap = a + b\n",
    "    print(\"%d + %d = %d\" % (a, b, hap))\n",
    "    \n",
    "print(\"0을 입력해 반복문을 탈출했습니다.\")\n",
    "    "
   ]
  },
  {
   "cell_type": "markdown",
   "id": "0a04743e-dee2-4148-9507-6195ee0e137a",
   "metadata": {},
   "source": [
    "주석:\n",
    "- 한 줄 주석 : ' # '\n",
    "- 블럭(범위, 여러 줄) 주석 X\n",
    "      - 대체 : \"\"\" \"\"\"\""
   ]
  },
  {
   "cell_type": "code",
   "execution_count": 8,
   "id": "738aaee2-a4a3-49cb-9c71-13ee42290d0f",
   "metadata": {},
   "outputs": [
    {
     "name": "stdin",
     "output_type": "stream",
     "text": [
      "더할 첫 번째 수를 입력하세요:  4\n"
     ]
    },
    {
     "name": "stdout",
     "output_type": "stream",
     "text": [
      "문자가 입력됐습니다. 끝냈습니다.\n",
      "0을 입력해 반복문을 탈출했습니다.\n"
     ]
    }
   ],
   "source": [
    "hap = 0\n",
    "a, b =0, 0\n",
    "\n",
    "while True:\n",
    "    a = input(\"더할 첫 번째 수를 입력하세요: \")\n",
    "    if type(a) == str:\n",
    "        print(\"문자가 입력됐습니다. 끝냈습니다.\")\n",
    "        break\n",
    "        \n",
    "    a = int(a)\n",
    "    if a == 0:\n",
    "        print(\"0이 입력됐습니다. 끝냈습니다.\")\n",
    "    b = int(input(\"더할 두 번째 수를 입력하세요: \"))\n",
    "    hap = a + b\n",
    "    print(\"%d + %d = %d\" % (a, b, hap))\n",
    "    \n",
    "print(\"0을 입력해 반복문을 탈출했습니다.\")    # ????"
   ]
  },
  {
   "cell_type": "code",
   "execution_count": 9,
   "id": "370f69c0-74ee-4258-b995-881d6404cba1",
   "metadata": {},
   "outputs": [
    {
     "name": "stdout",
     "output_type": "stream",
     "text": [
      "안녕하세요:  11 1\n",
      "안녕하세요:  12 1\n",
      "안녕하세요:  13 1\n",
      "안녕하세요:  14 1\n",
      "안녕하세요:  11 2\n",
      "안녕하세요:  12 2\n",
      "안녕하세요:  13 2\n",
      "안녕하세요:  14 2\n",
      "안녕하세요:  11 3\n",
      "안녕하세요:  12 3\n",
      "안녕하세요:  13 3\n",
      "안녕하세요:  14 3\n",
      "안녕하세요:  11 4\n",
      "안녕하세요:  12 4\n",
      "안녕하세요:  13 4\n",
      "안녕하세요:  14 4\n"
     ]
    }
   ],
   "source": [
    "# 중첩반복문과 break\n",
    "\n",
    "for i in range(1, 5, 1):\n",
    "    for j in range(11, 16, 1):\n",
    "        print(\"안녕하세요: \", j, i)\n",
    "        if j == 14:\n",
    "            break"
   ]
  },
  {
   "cell_type": "markdown",
   "id": "a688f63a-29bd-46d4-bbc2-e0bd2c07241b",
   "metadata": {},
   "source": [
    "### **continue문**"
   ]
  },
  {
   "cell_type": "code",
   "execution_count": 10,
   "id": "66266dba-aca8-4b19-8a9c-b0f7216e6928",
   "metadata": {},
   "outputs": [
    {
     "name": "stdout",
     "output_type": "stream",
     "text": [
      "1~100의 합계(3의 배수 제외): 3367\n"
     ]
    }
   ],
   "source": [
    "hap, i = 0, 0\n",
    "\n",
    "for i in range(1, 101, 1):\n",
    "    if i % 3 == 0:\n",
    "        continue\n",
    "        \n",
    "    hap += i\n",
    "print(\"1~100의 합계(3의 배수 제외): %d\" % hap) "
   ]
  },
  {
   "cell_type": "markdown",
   "id": "bde1f72b-5f9a-43f3-bece-222c6218d110",
   "metadata": {},
   "source": [
    "## P.177 연습문제 6번, 8번"
   ]
  },
  {
   "cell_type": "code",
   "execution_count": 11,
   "id": "423c82a5-9b96-44dc-85d2-b85fb638a192",
   "metadata": {},
   "outputs": [
    {
     "name": "stdout",
     "output_type": "stream",
     "text": [
      "쿡북~\n",
      "쿡북~\n",
      "쿡북~\n",
      "쿡북~\n",
      "쿡북~\n",
      "쿡북~\n",
      "쿡북~\n",
      "쿡북~\n",
      "쿡북~\n",
      "쿡북~\n",
      "쿡북~\n",
      "쿡북~\n",
      "쿡북~\n",
      "쿡북~\n",
      "쿡북~\n",
      "쿡북~\n",
      "쿡북~\n",
      "쿡북~\n",
      "쿡북~\n",
      "쿡북~\n",
      "쿡북~\n",
      "쿡북~\n",
      "쿡북~\n",
      "쿡북~\n"
     ]
    }
   ],
   "source": [
    "for i in range(4):\n",
    "    for j in range(3):\n",
    "        for k in range(2):\n",
    "            print(\"쿡북~\")"
   ]
  },
  {
   "cell_type": "code",
   "execution_count": 17,
   "id": "d14003bc-e3f4-4c14-81f2-fd7d6e9893bc",
   "metadata": {},
   "outputs": [
    {
     "name": "stdout",
     "output_type": "stream",
     "text": [
      "23088\n"
     ]
    }
   ],
   "source": [
    "hap = 0\n",
    "n = 0\n",
    "\n",
    "n = 1234\n",
    "while n < 4568:\n",
    "    if n % 444 == 0:\n",
    "        hap = hap + n  # => hap += n\n",
    "    n += 1  # => n = n + 1\n",
    "    \n",
    "print(hap)\n",
    "    \n",
    "    "
   ]
  },
  {
   "cell_type": "code",
   "execution_count": null,
   "id": "2abb737d-762a-4a44-ab38-d7c77e77d8f6",
   "metadata": {},
   "outputs": [],
   "source": []
  }
 ],
 "metadata": {
  "kernelspec": {
   "display_name": "Python 3 (ipykernel)",
   "language": "python",
   "name": "python3"
  },
  "language_info": {
   "codemirror_mode": {
    "name": "ipython",
    "version": 3
   },
   "file_extension": ".py",
   "mimetype": "text/x-python",
   "name": "python",
   "nbconvert_exporter": "python",
   "pygments_lexer": "ipython3",
   "version": "3.9.7"
  }
 },
 "nbformat": 4,
 "nbformat_minor": 5
}
