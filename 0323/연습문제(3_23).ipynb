{
 "cells": [
  {
   "cell_type": "markdown",
   "id": "f809c30d-d1d7-425b-9beb-d08bc0bf33ee",
   "metadata": {},
   "source": [
    "### P. 178 연습문제 9번, 10번"
   ]
  },
  {
   "cell_type": "code",
   "execution_count": 19,
   "id": "647101f6-089a-4f52-8eab-62ca54398cdf",
   "metadata": {},
   "outputs": [
    {
     "name": "stdout",
     "output_type": "stream",
     "text": [
      "40722\n"
     ]
    }
   ],
   "source": [
    "hap, i = 0, 0\n",
    "\n",
    "for i in range(3333, 10000):\n",
    "    if i % 1234 == 0:   \n",
    "        hap += i\n",
    "        continue\n",
    "        \n",
    "       \n",
    "        if hap >= 100000:\n",
    "            \n",
    "            break\n",
    "\n",
    "print(hap)"
   ]
  },
  {
   "cell_type": "code",
   "execution_count": 24,
   "id": "b1b023d2-1e25-4a01-90cb-73ff9fccecaf",
   "metadata": {},
   "outputs": [
    {
     "name": "stdin",
     "output_type": "stream",
     "text": [
      "숫자를 여러 개 입력하세요:  5914\n"
     ]
    },
    {
     "name": "stdout",
     "output_type": "stream",
     "text": [
      "\n",
      "★★★★★★★★★★\n",
      "★★★★★★★★★★★★★★★★★★\n",
      "★★\n",
      "★★★★★★★★\n"
     ]
    }
   ],
   "source": [
    "i, k, starNum = 0, 0, 0\n",
    "numStr, ch, starStr = \"\",\"\",\"\"\n",
    "\n",
    "if __name__ == \"__main__\":\n",
    "    numStr = input(\"숫자를 여러 개 입력하세요: \")\n",
    "    print(\"\")\n",
    "    i = 0\n",
    "    ch = numStr[i]\n",
    "    while True:\n",
    "        starNum = int(ch)\n",
    "        \n",
    "        starStr = \"\"\n",
    "        for k in range(0, starNum):\n",
    "            starStr += \"\\u2605\"\n",
    "            k += 1\n",
    "        \n",
    "        print(starStr*2)\n",
    "        \n",
    "        i += 1\n",
    "        if (i > len(numStr) -1):\n",
    "            break\n",
    "        ch = numStr[i]"
   ]
  },
  {
   "cell_type": "code",
   "execution_count": null,
   "id": "176b5017-3eee-44f5-ae32-8f74bde9ce6e",
   "metadata": {},
   "outputs": [],
   "source": []
  },
  {
   "cell_type": "code",
   "execution_count": null,
   "id": "39e28a67-94f4-466c-bd34-6bf2c7af8360",
   "metadata": {},
   "outputs": [],
   "source": []
  },
  {
   "cell_type": "code",
   "execution_count": null,
   "id": "a5e9b682-2628-4522-9125-2a4ea23b2bd2",
   "metadata": {},
   "outputs": [],
   "source": []
  },
  {
   "cell_type": "code",
   "execution_count": null,
   "id": "f7313d27-d4af-45c9-a69f-f702d3ed5972",
   "metadata": {},
   "outputs": [],
   "source": []
  },
  {
   "cell_type": "markdown",
   "id": "c7da644a-3e56-4f0a-985e-d52b3248453c",
   "metadata": {},
   "source": [
    "## P. 218"
   ]
  },
  {
   "cell_type": "code",
   "execution_count": 48,
   "id": "1a1597d4-0a3d-4e1a-bb18-fbbd95fff8f8",
   "metadata": {},
   "outputs": [
    {
     "data": {
      "text/plain": [
       "[]"
      ]
     },
     "execution_count": 48,
     "metadata": {},
     "output_type": "execute_result"
    }
   ],
   "source": [
    "parking = []\n",
    "top = 0\n",
    "parking"
   ]
  },
  {
   "cell_type": "code",
   "execution_count": 49,
   "id": "15324f57-f171-45f8-920c-8cd81cabd63e",
   "metadata": {},
   "outputs": [
    {
     "data": {
      "text/plain": [
       "['자동차 A']"
      ]
     },
     "execution_count": 49,
     "metadata": {},
     "output_type": "execute_result"
    }
   ],
   "source": [
    "parking.append(\"자동차 A\")\n",
    "top += 1\n",
    "parking"
   ]
  },
  {
   "cell_type": "code",
   "execution_count": 50,
   "id": "4860d465-319a-4af6-9858-a7bf1d53c4bb",
   "metadata": {},
   "outputs": [
    {
     "data": {
      "text/plain": [
       "['자동차 A', '자동차 B', '자동차 C']"
      ]
     },
     "execution_count": 50,
     "metadata": {},
     "output_type": "execute_result"
    }
   ],
   "source": [
    "parking.append(\"자동차 B\")\n",
    "top += 1\n",
    "parking.append(\"자동차 C\")\n",
    "top += 1\n",
    "parking"
   ]
  },
  {
   "cell_type": "code",
   "execution_count": 51,
   "id": "1e936ad3-fb7f-43cd-8824-61e92430d5f8",
   "metadata": {},
   "outputs": [
    {
     "name": "stdout",
     "output_type": "stream",
     "text": [
      "자동차 C\n"
     ]
    }
   ],
   "source": [
    "top -= 1\n",
    "outCar = parking.pop()\n",
    "print(outCar)"
   ]
  },
  {
   "cell_type": "code",
   "execution_count": 52,
   "id": "bac0cc2a-a8c7-40bb-9376-082a3e5efa2a",
   "metadata": {},
   "outputs": [
    {
     "data": {
      "text/plain": [
       "['자동차 A', '자동차 B']"
      ]
     },
     "execution_count": 52,
     "metadata": {},
     "output_type": "execute_result"
    }
   ],
   "source": [
    "parking"
   ]
  },
  {
   "cell_type": "code",
   "execution_count": 53,
   "id": "ddb48b10-065e-4aa9-96a8-7a23f07f443d",
   "metadata": {},
   "outputs": [
    {
     "data": {
      "text/plain": [
       "['자동차 A', '자동차 B', '자동차 C']"
      ]
     },
     "execution_count": 53,
     "metadata": {},
     "output_type": "execute_result"
    }
   ],
   "source": [
    "parking.append(\"자동차 C\")\n",
    "top += 1\n",
    "parking"
   ]
  },
  {
   "cell_type": "code",
   "execution_count": 54,
   "id": "527ce038-6e1a-4aad-a85d-1b51f6dea77d",
   "metadata": {},
   "outputs": [
    {
     "data": {
      "text/plain": [
       "['자동차 A', '자동차 B', '자동차 C', '자동차 D', '자동차 E']"
      ]
     },
     "execution_count": 54,
     "metadata": {},
     "output_type": "execute_result"
    }
   ],
   "source": [
    "parking.append(\"자동차 D\")\n",
    "parking.append(\"자동차 E\")\n",
    "top += 2\n",
    "parking"
   ]
  },
  {
   "cell_type": "code",
   "execution_count": 55,
   "id": "e8c70691-5cf3-4bdd-8dda-ebb291550b62",
   "metadata": {},
   "outputs": [
    {
     "data": {
      "text/plain": [
       "5"
      ]
     },
     "execution_count": 55,
     "metadata": {},
     "output_type": "execute_result"
    }
   ],
   "source": [
    "top"
   ]
  },
  {
   "cell_type": "code",
   "execution_count": 56,
   "id": "c136aadf-f4ac-440d-a3ac-cfd923642094",
   "metadata": {},
   "outputs": [
    {
     "name": "stdout",
     "output_type": "stream",
     "text": [
      "자동차 E\n"
     ]
    }
   ],
   "source": [
    "top -= 2\n",
    "outCar = parking.pop()\n",
    "print(outCar)"
   ]
  },
  {
   "cell_type": "code",
   "execution_count": 57,
   "id": "b40d62f3-fc3a-482d-b36d-d464555c03f3",
   "metadata": {},
   "outputs": [
    {
     "data": {
      "text/plain": [
       "3"
      ]
     },
     "execution_count": 57,
     "metadata": {},
     "output_type": "execute_result"
    }
   ],
   "source": [
    "top"
   ]
  },
  {
   "cell_type": "markdown",
   "id": "303a7cae-69f2-4524-bd0d-cfb58dbf9d06",
   "metadata": {},
   "source": [
    "### P. 224 연습문제 "
   ]
  },
  {
   "cell_type": "code",
   "execution_count": null,
   "id": "b4376805-e1dd-462f-ad1c-c0ddadb2332d",
   "metadata": {},
   "outputs": [],
   "source": []
  },
  {
   "cell_type": "code",
   "execution_count": null,
   "id": "d84c0661-06fc-4e1a-a752-78bba5f90728",
   "metadata": {},
   "outputs": [],
   "source": []
  }
 ],
 "metadata": {
  "kernelspec": {
   "display_name": "Python 3 (ipykernel)",
   "language": "python",
   "name": "python3"
  },
  "language_info": {
   "codemirror_mode": {
    "name": "ipython",
    "version": 3
   },
   "file_extension": ".py",
   "mimetype": "text/x-python",
   "name": "python",
   "nbconvert_exporter": "python",
   "pygments_lexer": "ipython3",
   "version": "3.9.7"
  }
 },
 "nbformat": 4,
 "nbformat_minor": 5
}
