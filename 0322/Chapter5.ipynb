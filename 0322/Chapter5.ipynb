{
 "cells": [
  {
   "cell_type": "markdown",
   "id": "46b9cca7-3257-43c9-af77-9a1cae2df61b",
   "metadata": {},
   "source": [
    "## Section02 if 조건식"
   ]
  },
  {
   "cell_type": "markdown",
   "id": "63ebdbd1-fd85-4a9b-9859-165092cc9d7a",
   "metadata": {},
   "source": [
    "**코드블럭: \":\"**\n",
    "\n",
    "- 들여쓰기!!\n",
    "- if, for, while, 함수 def, 클래스 class"
   ]
  },
  {
   "cell_type": "code",
   "execution_count": 9,
   "id": "9181eae7-7b11-4364-afa4-0f39c9d41ed3",
   "metadata": {},
   "outputs": [
    {
     "name": "stdout",
     "output_type": "stream",
     "text": [
      "작다\n"
     ]
    }
   ],
   "source": [
    "a = 99\n",
    "if a < 100:\n",
    "    print(\"작다\") # 들여쓰기 : tab 키(띄어쓰기 4칸)"
   ]
  },
  {
   "cell_type": "code",
   "execution_count": 4,
   "id": "cdb9818f-8f4e-461e-8053-b4fcf4de3b75",
   "metadata": {},
   "outputs": [
    {
     "name": "stdout",
     "output_type": "stream",
     "text": [
      "작다\n",
      "....\n"
     ]
    }
   ],
   "source": [
    "a = 99\n",
    "if a < 100:\n",
    "    print(\"작다\")\n",
    "    print(\"....\")"
   ]
  },
  {
   "cell_type": "code",
   "execution_count": 8,
   "id": "cc893beb-e717-44e4-8c42-9907d6104bf0",
   "metadata": {},
   "outputs": [
    {
     "name": "stdout",
     "output_type": "stream",
     "text": [
      "끝....\n"
     ]
    }
   ],
   "source": [
    "a = 200\n",
    "if a < 100:\n",
    "    print(\"작다\")\n",
    "    \n",
    "print(\"끝....\")   # 들여쓰기를 안했기 때문에 if조건문이 아니므로 항상 출력"
   ]
  },
  {
   "cell_type": "markdown",
   "id": "48d0431c-1984-45e4-9eb5-f80138ceca1e",
   "metadata": {},
   "source": [
    "## if~else 문\n",
    "```\n",
    "if 조건식:\n",
    "    실행할 문장 1\n",
    "else:\n",
    "    실행할 문장 2\n",
    "```"
   ]
  },
  {
   "cell_type": "code",
   "execution_count": 12,
   "id": "f30becbf-6ab8-4190-bb1c-5a58c033ae7b",
   "metadata": {},
   "outputs": [
    {
     "name": "stdout",
     "output_type": "stream",
     "text": [
      "작다\n",
      "끝....\n"
     ]
    }
   ],
   "source": [
    "a = 20\n",
    "if a < 100:\n",
    "    print(\"작다\")\n",
    "else:\n",
    "    print(\"좀 더 힘내세요!\")\n",
    "    \n",
    "print(\"끝....\")"
   ]
  },
  {
   "cell_type": "markdown",
   "id": "4e979465-cbee-4bbc-9f47-6474f01625f6",
   "metadata": {},
   "source": [
    "#### P.129 5-5 연습문제"
   ]
  },
  {
   "cell_type": "code",
   "execution_count": 14,
   "id": "c0d41f19-b283-49cd-b5c5-39653a084ca1",
   "metadata": {},
   "outputs": [
    {
     "name": "stdin",
     "output_type": "stream",
     "text": [
      "정수를 입력하세요:  122\n"
     ]
    },
    {
     "name": "stdout",
     "output_type": "stream",
     "text": [
      "짝수를 입력했군요.\n"
     ]
    }
   ],
   "source": [
    "a = int(input(\"정수를 입력하세요: \"))\n",
    "\n",
    "if a % 2 == 0:\n",
    "    print(\"짝수를 입력했군요.\")\n",
    "else:\n",
    "    print(\"홀수를 입력했군요.\")"
   ]
  },
  {
   "cell_type": "markdown",
   "id": "d1f4f769-5d48-4852-8ab1-bd6d2be0e42e",
   "metadata": {
    "tags": []
   },
   "source": [
    "## 중첩 if 문\n",
    "```\n",
    "if 조건식1:\n",
    "    if 조건식2:\n",
    "        실행할 문장1\n",
    "    else:\n",
    "        실행할 문장2\n",
    "else:\n",
    "    실행할 문장3\n",
    "````"
   ]
  },
  {
   "cell_type": "code",
   "execution_count": 17,
   "id": "602e21a7-0a34-4e9e-be9e-5354b741930c",
   "metadata": {},
   "outputs": [
    {
     "name": "stdout",
     "output_type": "stream",
     "text": [
      "50보다 작군요.\n"
     ]
    }
   ],
   "source": [
    "# 50보다 크고 100보다 작은 경우\n",
    "\n",
    "a = 45\n",
    "\n",
    "if a > 50:\n",
    "    if a < 100:\n",
    "        print(\"50보다 크고 100보다 작군요.\")\n",
    "    else:\n",
    "        print(\"100보다 크군요.\")\n",
    "else:\n",
    "    print(\"50보다 작군요.\")"
   ]
  },
  {
   "cell_type": "markdown",
   "id": "64c9eba4-f9c8-40c6-858c-c0f13cb19e8d",
   "metadata": {},
   "source": [
    "## if-elif-else 문"
   ]
  },
  {
   "cell_type": "code",
   "execution_count": 20,
   "id": "b76605e6-c5ee-4497-93ee-97cfa1665919",
   "metadata": {},
   "outputs": [
    {
     "name": "stdin",
     "output_type": "stream",
     "text": [
      "점수를 입력하세요:  95\n"
     ]
    },
    {
     "name": "stdout",
     "output_type": "stream",
     "text": [
      "A\n",
      "학점입니다.\n"
     ]
    }
   ],
   "source": [
    "score = int(input(\"점수를 입력하세요: \"))\n",
    "\n",
    "if score >= 90:\n",
    "    print(\"A\")\n",
    "elif score >= 80:\n",
    "    print(\"B\")\n",
    "elif score >= 70:\n",
    "    print(\"C\")\n",
    "elif score >= 60:\n",
    "    print(\"D\")\n",
    "else:\n",
    "    print(\"F\")\n",
    "    \n",
    "print(\"학점입니다.\")"
   ]
  },
  {
   "cell_type": "markdown",
   "id": "06f6289f-aa0d-4231-a157-e34ab88440ee",
   "metadata": {},
   "source": [
    "### **삼항식을 사용한 if 문**\n",
    "\n",
    "60점 이상이면 합격, 60점 미만이면 불합격"
   ]
  },
  {
   "cell_type": "code",
   "execution_count": 30,
   "id": "271f4b29-a76d-4896-ab5d-b9a1e729b63f",
   "metadata": {},
   "outputs": [
    {
     "name": "stdout",
     "output_type": "stream",
     "text": [
      "불합격\n"
     ]
    }
   ],
   "source": [
    "jumsu = 55\n",
    "res = \"\"\n",
    "if jumsu >= 60:\n",
    "    res = \"합격\"\n",
    "else:\n",
    "    res = \"불합격\"\n",
    "print(res)"
   ]
  },
  {
   "cell_type": "code",
   "execution_count": 31,
   "id": "d367c538-9c81-4ac9-b1e9-b0eef058b13f",
   "metadata": {},
   "outputs": [],
   "source": [
    "res = \"합격\" if jumsu >=60 else \"불합격\"  # 3~6행을 삼항식을 사용해 한줄로 줄임"
   ]
  },
  {
   "cell_type": "code",
   "execution_count": 12,
   "id": "1f0e0b2f-26a0-401d-9b56-afa73b7940a8",
   "metadata": {},
   "outputs": [
    {
     "name": "stdout",
     "output_type": "stream",
     "text": [
      "불합격\n"
     ]
    }
   ],
   "source": [
    "jumsu = 55\n",
    "res = \"\"\n",
    "res = \"합격\" if jumsu >=60 else \"불합격\"\n",
    "print(res)"
   ]
  },
  {
   "cell_type": "code",
   "execution_count": 17,
   "id": "9dabcd56-bbcb-42e0-900f-75f5dad9f74c",
   "metadata": {},
   "outputs": [
    {
     "name": "stdout",
     "output_type": "stream",
     "text": [
      "입력 진수 결정(16/10/8/2) : 1\n",
      "값 입력 : 15\n",
      "숫자 16,10,8,2를 입력하세요:\n"
     ]
    }
   ],
   "source": [
    "sel = int(input(\"입력 진수 결정(16/10/8/2) : \"))\n",
    "num = input(\"값 입력 : \")\n",
    "\n",
    "if sel == 16 :\n",
    "    num10 = int(num, 16)\n",
    "elif sel == 10 :\n",
    "    num10 = int(num, 10)\n",
    "elif sel == 8 :\n",
    "    num10 = int(num, 8)\n",
    "elif sel == 2 :\n",
    "    num10 = int(num, 2)\n",
    "else:\n",
    "    print(\"숫자 16,10,8,2를 입력하세요:\")\n",
    "    \n",
    "\n",
    "    "
   ]
  },
  {
   "cell_type": "code",
   "execution_count": 18,
   "id": "85f814d2",
   "metadata": {},
   "outputs": [
    {
     "name": "stdout",
     "output_type": "stream",
     "text": [
      "16진수==> 0x15\n",
      "10진수==> 21\n",
      "8진수==> 0o25\n",
      "2진수==> 0b10101\n"
     ]
    }
   ],
   "source": [
    "print(\"16진수==>\",hex(num10))\n",
    "print(\"10진수==>\", num10)\n",
    "print(\"8진수==>\",oct(num10))\n",
    "print(\"2진수==>\",bin(num10))"
   ]
  },
  {
   "cell_type": "code",
   "execution_count": 34,
   "id": "4503fdcb",
   "metadata": {},
   "outputs": [
    {
     "name": "stdout",
     "output_type": "stream",
     "text": [
      "입력 진수 결정(16/10/8/2):\n"
     ]
    }
   ],
   "source": [
    "sel = input(\"입력 진수 결정(16/10/8/2):\")"
   ]
  },
  {
   "cell_type": "code",
   "execution_count": 24,
   "id": "44acb7c7",
   "metadata": {},
   "outputs": [
    {
     "data": {
      "text/plain": [
       "float"
      ]
     },
     "execution_count": 24,
     "metadata": {},
     "output_type": "execute_result"
    }
   ],
   "source": [
    "type(100.0)"
   ]
  },
  {
   "cell_type": "code",
   "execution_count": 35,
   "id": "322044af",
   "metadata": {},
   "outputs": [
    {
     "name": "stdout",
     "output_type": "stream",
     "text": [
      "문자열입니다. 다시 입력하세요....\n"
     ]
    }
   ],
   "source": [
    "if type(sel) == str:\n",
    "    print(\"문자열입니다. 다시 입력하세요....\")"
   ]
  },
  {
   "cell_type": "code",
   "execution_count": null,
   "id": "dccd2b29",
   "metadata": {},
   "outputs": [],
   "source": [
    "sel = int(sel)"
   ]
  }
 ],
 "metadata": {
  "kernelspec": {
   "display_name": "Python 3 (ipykernel)",
   "language": "python",
   "name": "python3"
  },
  "language_info": {
   "codemirror_mode": {
    "name": "ipython",
    "version": 3
   },
   "file_extension": ".py",
   "mimetype": "text/x-python",
   "name": "python",
   "nbconvert_exporter": "python",
   "pygments_lexer": "ipython3",
   "version": "3.9.7"
  }
 },
 "nbformat": 4,
 "nbformat_minor": 5
}
