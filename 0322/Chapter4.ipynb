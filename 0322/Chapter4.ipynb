{
 "cells": [
  {
   "cell_type": "markdown",
   "id": "3e8373fa-2225-42b4-84da-5bb33e791b69",
   "metadata": {},
   "source": [
    "## Section02 산술 연산자"
   ]
  },
  {
   "cell_type": "code",
   "execution_count": 6,
   "id": "04b16464-75c2-4be2-bdbd-8a20dcc91820",
   "metadata": {},
   "outputs": [],
   "source": [
    "a = 3; b = 5"
   ]
  },
  {
   "cell_type": "code",
   "execution_count": 7,
   "id": "41090dfc-76bd-4ff1-8f78-6d33400a3741",
   "metadata": {},
   "outputs": [
    {
     "data": {
      "text/plain": [
       "8"
      ]
     },
     "execution_count": 7,
     "metadata": {},
     "output_type": "execute_result"
    }
   ],
   "source": [
    "a + b"
   ]
  },
  {
   "cell_type": "code",
   "execution_count": 8,
   "id": "56fb3dbe-21e3-462a-ad78-dbb6f5425b21",
   "metadata": {},
   "outputs": [
    {
     "data": {
      "text/plain": [
       "-2"
      ]
     },
     "execution_count": 8,
     "metadata": {},
     "output_type": "execute_result"
    }
   ],
   "source": [
    "a - b"
   ]
  },
  {
   "cell_type": "code",
   "execution_count": 9,
   "id": "08ad3113-f02e-4a84-a91d-e4a597e431bb",
   "metadata": {},
   "outputs": [
    {
     "data": {
      "text/plain": [
       "0.6"
      ]
     },
     "execution_count": 9,
     "metadata": {},
     "output_type": "execute_result"
    }
   ],
   "source": [
    "a / b"
   ]
  },
  {
   "cell_type": "code",
   "execution_count": 10,
   "id": "1cc97e46-a1e6-48da-8d8b-47a96058927b",
   "metadata": {},
   "outputs": [
    {
     "data": {
      "text/plain": [
       "15"
      ]
     },
     "execution_count": 10,
     "metadata": {},
     "output_type": "execute_result"
    }
   ],
   "source": [
    "a * b"
   ]
  },
  {
   "cell_type": "code",
   "execution_count": 11,
   "id": "ca345578-3a21-4c86-8994-9186124b0571",
   "metadata": {},
   "outputs": [
    {
     "data": {
      "text/plain": [
       "3"
      ]
     },
     "execution_count": 11,
     "metadata": {},
     "output_type": "execute_result"
    }
   ],
   "source": [
    "a % b"
   ]
  },
  {
   "cell_type": "code",
   "execution_count": 12,
   "id": "a8ae0e14-52b7-459d-917b-69f5f5d40e35",
   "metadata": {},
   "outputs": [
    {
     "data": {
      "text/plain": [
       "0"
      ]
     },
     "execution_count": 12,
     "metadata": {},
     "output_type": "execute_result"
    }
   ],
   "source": [
    "a // b"
   ]
  },
  {
   "cell_type": "code",
   "execution_count": 13,
   "id": "0e703183-38fd-4201-b6ba-3f579a0e2dfa",
   "metadata": {},
   "outputs": [
    {
     "data": {
      "text/plain": [
       "243"
      ]
     },
     "execution_count": 13,
     "metadata": {},
     "output_type": "execute_result"
    }
   ],
   "source": [
    "a ** b"
   ]
  },
  {
   "cell_type": "markdown",
   "id": "0d3045c8-0a07-4094-b269-951c4eecd5ce",
   "metadata": {},
   "source": [
    "< 우선순위 >\n",
    "괄호를 지정해주기"
   ]
  },
  {
   "cell_type": "code",
   "execution_count": 14,
   "id": "f1690f3b-d10f-4a62-bb07-adf1a789b208",
   "metadata": {},
   "outputs": [],
   "source": [
    "a, b, c = 2, 3, 4"
   ]
  },
  {
   "cell_type": "code",
   "execution_count": 15,
   "id": "7867c0b3-3646-4cf1-bc5f-34cacf7b7037",
   "metadata": {},
   "outputs": [
    {
     "data": {
      "text/plain": [
       "1"
      ]
     },
     "execution_count": 15,
     "metadata": {},
     "output_type": "execute_result"
    }
   ],
   "source": [
    "a + b - c"
   ]
  },
  {
   "cell_type": "code",
   "execution_count": 16,
   "id": "71a1f8e7-1722-41f6-bfc3-782888b0acc0",
   "metadata": {},
   "outputs": [
    {
     "data": {
      "text/plain": [
       "1"
      ]
     },
     "execution_count": 16,
     "metadata": {},
     "output_type": "execute_result"
    }
   ],
   "source": [
    "(a + b) - c"
   ]
  },
  {
   "cell_type": "code",
   "execution_count": 17,
   "id": "5c903562-5084-4d6e-8c16-20ef2dd6d891",
   "metadata": {},
   "outputs": [
    {
     "data": {
      "text/plain": [
       "1"
      ]
     },
     "execution_count": 17,
     "metadata": {},
     "output_type": "execute_result"
    }
   ],
   "source": [
    "a + (b - c)"
   ]
  },
  {
   "cell_type": "code",
   "execution_count": 18,
   "id": "ce4381c5-6cbe-4afa-b22d-7cc244f3b11f",
   "metadata": {},
   "outputs": [
    {
     "data": {
      "text/plain": [
       "20"
      ]
     },
     "execution_count": 18,
     "metadata": {},
     "output_type": "execute_result"
    }
   ],
   "source": [
    "(a + b) * c"
   ]
  },
  {
   "cell_type": "code",
   "execution_count": 19,
   "id": "185707e3-267a-48fb-b31e-a1d7457b4f19",
   "metadata": {},
   "outputs": [
    {
     "data": {
      "text/plain": [
       "14"
      ]
     },
     "execution_count": 19,
     "metadata": {},
     "output_type": "execute_result"
    }
   ],
   "source": [
    "a + (b * c)"
   ]
  },
  {
   "cell_type": "markdown",
   "id": "cd4ab56b-f273-47e1-b1de-8116788de828",
   "metadata": {},
   "source": [
    "#### 내장 자료형 함수\n",
    "\n",
    "- int()\n",
    "- bin()\n",
    "- oct()\n",
    "- hex()\n",
    "- float()\n",
    "\n",
    "#### 문자 자료형 함수\n",
    "\n",
    "- str()"
   ]
  },
  {
   "cell_type": "code",
   "execution_count": 20,
   "id": "af538cf8-1d65-47a1-b837-988e0a200198",
   "metadata": {},
   "outputs": [
    {
     "ename": "TypeError",
     "evalue": "can only concatenate str (not \"int\") to str",
     "output_type": "error",
     "traceback": [
      "\u001b[1;31m---------------------------------------------------------------------------\u001b[0m",
      "\u001b[1;31mTypeError\u001b[0m                                 Traceback (most recent call last)",
      "\u001b[1;32m~\\AppData\\Local\\Temp/ipykernel_8456/1072888783.py\u001b[0m in \u001b[0;36m<module>\u001b[1;34m\u001b[0m\n\u001b[0;32m      1\u001b[0m \u001b[0ma\u001b[0m \u001b[1;33m=\u001b[0m \u001b[1;36m100\u001b[0m\u001b[1;33m\u001b[0m\u001b[1;33m\u001b[0m\u001b[0m\n\u001b[1;32m----> 2\u001b[1;33m \u001b[0mprint\u001b[0m\u001b[1;33m(\u001b[0m\u001b[1;34m\"안녕 난 \"\u001b[0m \u001b[1;33m+\u001b[0m \u001b[0ma\u001b[0m \u001b[1;33m+\u001b[0m \u001b[1;34m\"야!\"\u001b[0m\u001b[1;33m)\u001b[0m \u001b[1;31m# 숫자형과 문자형은 수식 안됨\u001b[0m\u001b[1;33m\u001b[0m\u001b[1;33m\u001b[0m\u001b[0m\n\u001b[0m",
      "\u001b[1;31mTypeError\u001b[0m: can only concatenate str (not \"int\") to str"
     ]
    }
   ],
   "source": [
    "a = 100\n",
    "print(\"안녕 난 \" + a + \"야!\") # 숫자형과 문자형은 수식 안됨"
   ]
  },
  {
   "cell_type": "code",
   "execution_count": 21,
   "id": "7c619307-3245-4d78-8e42-6b5c0fbca6e3",
   "metadata": {},
   "outputs": [
    {
     "name": "stdout",
     "output_type": "stream",
     "text": [
      "안녕 난 100야!\n"
     ]
    }
   ],
   "source": [
    "print(\"안녕 난 \" + str(a) + \"야!\")"
   ]
  },
  {
   "cell_type": "markdown",
   "id": "ec0ad8e2-2321-4c9a-a3a9-7b3dc8487ffb",
   "metadata": {},
   "source": [
    "#### **복합대입 연산자**\n",
    "\n",
    "- += : a+=3 -> a = a+3과 동일\n",
    "- -= : a-=3 -> a = a-3과 동일\n",
    "- *= : a*=3 -> a = a*3과 동일\n",
    "- /= : a/=3 -> a = a/3과 동일\n",
    "- //= : a//=3 -> a = a//3과 동일(나눗셈 몫)\n",
    "- %= : a%=3 -> a = a%3과 동일(나눗셈 나머지)\n",
    "- ** = : a**=3 -> a = a**3과 동일(제곱)"
   ]
  },
  {
   "cell_type": "code",
   "execution_count": 22,
   "id": "1e0d0c9e-14bd-42c9-aeee-4126406d6d34",
   "metadata": {},
   "outputs": [],
   "source": [
    "a = 10"
   ]
  },
  {
   "cell_type": "code",
   "execution_count": 23,
   "id": "c9440a72-c70b-4a37-8f6c-30c8b68f9940",
   "metadata": {},
   "outputs": [
    {
     "data": {
      "text/plain": [
       "13"
      ]
     },
     "execution_count": 23,
     "metadata": {},
     "output_type": "execute_result"
    }
   ],
   "source": [
    "a = a + 3\n",
    "a"
   ]
  },
  {
   "cell_type": "code",
   "execution_count": 24,
   "id": "f862f5af-945e-487a-b872-6cba3d2ac5b4",
   "metadata": {},
   "outputs": [
    {
     "data": {
      "text/plain": [
       "16"
      ]
     },
     "execution_count": 24,
     "metadata": {},
     "output_type": "execute_result"
    }
   ],
   "source": [
    "a += 3\n",
    "a"
   ]
  },
  {
   "cell_type": "code",
   "execution_count": 25,
   "id": "f293ac7e-979b-4d28-9c8f-e846a0767059",
   "metadata": {},
   "outputs": [
    {
     "data": {
      "text/plain": [
       "4096"
      ]
     },
     "execution_count": 25,
     "metadata": {},
     "output_type": "execute_result"
    }
   ],
   "source": [
    "a **= 3\n",
    "a"
   ]
  },
  {
   "cell_type": "markdown",
   "id": "5e4e6114-3955-42d3-953a-29f5231bc56d",
   "metadata": {},
   "source": [
    "### P.100 5번"
   ]
  },
  {
   "cell_type": "code",
   "execution_count": 31,
   "id": "390cfaec-181b-4e74-873b-14d51b779933",
   "metadata": {},
   "outputs": [
    {
     "name": "stdin",
     "output_type": "stream",
     "text": [
      "교환할 돈은 얼마?  7352\n"
     ]
    },
    {
     "name": "stdout",
     "output_type": "stream",
     "text": [
      "\n",
      "500원짜리 ==> 14개\n",
      "100원짜리 ==> 3개\n",
      "50원짜리 ==> 1개\n",
      "10원짜리 ==> 0개\n",
      "바꾸지 못한 잔돈 ==> 2원\n"
     ]
    }
   ],
   "source": [
    "money, c500, c100, c50, c10 = 0,0,0,0,0\n",
    "\n",
    "money = int(input(\"교환할 돈은 얼마? \"))\n",
    "\n",
    "c500 = money // 500\n",
    "money %= 500\n",
    "\n",
    "c100 = money // 100\n",
    "money %= 100\n",
    "\n",
    "c50 = money // 50\n",
    "money %= 50\n",
    "\n",
    "c10 = money // 10\n",
    "money %= 10\n",
    "\n",
    "print(\"\\n500원짜리 ==> %d개\" % c500)\n",
    "print(\"100원짜리 ==> %d개\" % c100)\n",
    "print(\"50원짜리 ==> %d개\" % c50)\n",
    "print(\"10원짜리 ==> %d개\" % c10)\n",
    "print(\"바꾸지 못한 잔돈 ==> %d원\" % money)"
   ]
  },
  {
   "cell_type": "code",
   "execution_count": 32,
   "id": "c24e3a8b-87fe-4b3b-8094-7da44bb0e8bc",
   "metadata": {},
   "outputs": [
    {
     "name": "stdin",
     "output_type": "stream",
     "text": [
      "지폐로 교환할 돈은 얼마?  777777\n"
     ]
    },
    {
     "name": "stdout",
     "output_type": "stream",
     "text": [
      "\n",
      "50000원짜리 ==> 15장\n",
      "10000원짜리 ==> 2장\n",
      "5000원짜리 ==> 1장\n",
      "1000원짜리 ==> 2장\n",
      "지폐로 바꾸지 못한 돈 ==> 777원\n",
      "\n"
     ]
    }
   ],
   "source": [
    "money, c50000, c10000, c5000, c1000 = 0, 0, 0, 0, 0\n",
    "money = int(input(\"지폐로 교환할 돈은 얼마? \"))\n",
    "\n",
    "c50000 = money // 50000\n",
    "money %= 50000\n",
    "c10000 = money // 10000\n",
    "money %= 10000\n",
    "c5000 = money // 5000\n",
    "money %= 5000\n",
    "c1000 = money // 1000\n",
    "money %= 1000\n",
    "\n",
    "print(\"\\n50000원짜리 ==> %d장\" % c50000)\n",
    "print(\"10000원짜리 ==> %d장\" % c10000)\n",
    "print(\"5000원짜리 ==> %d장\" % c5000)\n",
    "print(\"1000원짜리 ==> %d장\" % c1000)\n",
    "print(\"지폐로 바꾸지 못한 돈 ==> %d원\\n\" % money) "
   ]
  },
  {
   "cell_type": "markdown",
   "id": "619b967e-5f85-4372-b3af-526c30edc0c0",
   "metadata": {},
   "source": [
    "## **Section03 관계 연산자**\n",
    "\n",
    "- == : 같다   != : 같지않다\n",
    "- < : 작다   > : 크다\n",
    "- <= : 작거나 크다   >= : 크거나 같다"
   ]
  },
  {
   "cell_type": "code",
   "execution_count": 2,
   "id": "39cbe000-9d53-41ce-9c00-3d5a0e071d20",
   "metadata": {},
   "outputs": [
    {
     "data": {
      "text/plain": [
       "True"
      ]
     },
     "execution_count": 2,
     "metadata": {},
     "output_type": "execute_result"
    }
   ],
   "source": [
    "10 == 10"
   ]
  },
  {
   "cell_type": "code",
   "execution_count": 3,
   "id": "c8d02ffd-c269-4e6b-81d1-40d79ef762d4",
   "metadata": {},
   "outputs": [
    {
     "data": {
      "text/plain": [
       "True"
      ]
     },
     "execution_count": 3,
     "metadata": {},
     "output_type": "execute_result"
    }
   ],
   "source": [
    "10 > 5"
   ]
  },
  {
   "cell_type": "code",
   "execution_count": 4,
   "id": "15429089-cfa9-4906-99fc-d01a704238bc",
   "metadata": {},
   "outputs": [
    {
     "data": {
      "text/plain": [
       "False"
      ]
     },
     "execution_count": 4,
     "metadata": {},
     "output_type": "execute_result"
    }
   ],
   "source": [
    "10 < 5"
   ]
  },
  {
   "cell_type": "code",
   "execution_count": 5,
   "id": "b2a64c75-dbbe-4952-acae-1f86e0afc94c",
   "metadata": {},
   "outputs": [
    {
     "name": "stdout",
     "output_type": "stream",
     "text": [
      "5보다 크다\n"
     ]
    }
   ],
   "source": [
    "if 10 > 5:\n",
    "    print(\"5보다 크다\")"
   ]
  },
  {
   "cell_type": "code",
   "execution_count": 28,
   "id": "bcca6081-416c-4e7a-ae1b-6630f9d9cf78",
   "metadata": {},
   "outputs": [
    {
     "data": {
      "text/plain": [
       "True"
      ]
     },
     "execution_count": 28,
     "metadata": {},
     "output_type": "execute_result"
    }
   ],
   "source": [
    "10 != 5"
   ]
  },
  {
   "cell_type": "code",
   "execution_count": 29,
   "id": "2371f2d5-b634-487e-b6da-30fb5122fba7",
   "metadata": {},
   "outputs": [
    {
     "data": {
      "text/plain": [
       "False"
      ]
     },
     "execution_count": 29,
     "metadata": {},
     "output_type": "execute_result"
    }
   ],
   "source": [
    "10 != 10"
   ]
  },
  {
   "cell_type": "markdown",
   "id": "cc3c2084-05da-4e49-bd85-3b14da06735f",
   "metadata": {},
   "source": [
    "## **Section04 논리 연산자**\n",
    "\n",
    "- and : ~이고, 그리고(둘 다 참이어야 참)\n",
    "- or : ~이거나, 또는(둘 중 하나만 참이어도 참)\n",
    "- not : ~아니다, 부정(참이면 거짓, 거짓이면 참)"
   ]
  },
  {
   "cell_type": "code",
   "execution_count": 33,
   "id": "da90f023-5af9-496c-862f-3c5fe29d6bef",
   "metadata": {},
   "outputs": [],
   "source": [
    "a = 99"
   ]
  },
  {
   "cell_type": "code",
   "execution_count": 41,
   "id": "e1a7b1d4-10f9-4350-a10b-375bfc32c72e",
   "metadata": {},
   "outputs": [
    {
     "data": {
      "text/plain": [
       "False"
      ]
     },
     "execution_count": 41,
     "metadata": {},
     "output_type": "execute_result"
    }
   ],
   "source": [
    "(a > 100) and (a < 200) # 논리곱: a가 100보다 크고 200보다 작은거 -> 둘 중 하나만 참이므로 F"
   ]
  },
  {
   "cell_type": "code",
   "execution_count": 42,
   "id": "a71bbf0e-6819-41fd-a452-5d9a42f5dccf",
   "metadata": {},
   "outputs": [
    {
     "data": {
      "text/plain": [
       "True"
      ]
     },
     "execution_count": 42,
     "metadata": {},
     "output_type": "execute_result"
    }
   ],
   "source": [
    "(a > 100) or (a < 200) # 논리합: a가 100보다 크거나 200보다 작은거 -> 둘 중 하나만 참이어도 되므로 T"
   ]
  },
  {
   "cell_type": "code",
   "execution_count": 45,
   "id": "8e70bf8a-0abc-49fa-85d2-11478c9ddcb4",
   "metadata": {},
   "outputs": [
    {
     "data": {
      "text/plain": [
       "True"
      ]
     },
     "execution_count": 45,
     "metadata": {},
     "output_type": "execute_result"
    }
   ],
   "source": [
    "not(a == 100) # 거짓: a는 100이다."
   ]
  },
  {
   "cell_type": "code",
   "execution_count": 46,
   "id": "86ce70c6-52ce-47ff-b3a8-4f270663d31c",
   "metadata": {},
   "outputs": [
    {
     "data": {
      "text/plain": [
       "False"
      ]
     },
     "execution_count": 46,
     "metadata": {},
     "output_type": "execute_result"
    }
   ],
   "source": [
    "not(a != 100) # 참: a는 100이 아니다."
   ]
  },
  {
   "cell_type": "code",
   "execution_count": 44,
   "id": "396b3d97-1383-4f9f-a5e5-145c8ff4f593",
   "metadata": {},
   "outputs": [
    {
     "data": {
      "text/plain": [
       "False"
      ]
     },
     "execution_count": 44,
     "metadata": {},
     "output_type": "execute_result"
    }
   ],
   "source": [
    "not True"
   ]
  },
  {
   "cell_type": "markdown",
   "id": "38bd092c-0c50-415d-93c1-8710897e4fff",
   "metadata": {},
   "source": [
    "## Section05 비트 연산자\n",
    "\n",
    "- & : 비트 논리곱(and) -> 둘 다 1이면 1\n",
    "- | : 비트 논리합(or) -> 둘 중 하나만 1이면 1\n",
    "- ^ : 비트 논리적 배타합(xor) -> 둘이 같으면 0, 다르면 1\n",
    "- ~ : 비트 부정(noy) -> 1은 0으로, 0은 1로 변경\n",
    "- << : 비트 이동(왼쪽) -> 비트를 왼쪽으로 시프트 >> : 비트 이동(오른쪽) -> 비트를 오른쪽으로 시프트"
   ]
  },
  {
   "cell_type": "markdown",
   "id": "0517ef3c-ddca-4dfd-9c4d-0678d8e9e2f6",
   "metadata": {},
   "source": [
    "< 비트 논리곱 >"
   ]
  },
  {
   "cell_type": "code",
   "execution_count": 49,
   "id": "0501308f-886c-4eca-a551-0a988b96b3a2",
   "metadata": {},
   "outputs": [
    {
     "data": {
      "text/plain": [
       "2"
      ]
     },
     "execution_count": 49,
     "metadata": {},
     "output_type": "execute_result"
    }
   ],
   "source": [
    "10 & 7"
   ]
  },
  {
   "cell_type": "code",
   "execution_count": 68,
   "id": "c8eeec00-a177-4c11-ada1-fc9e2022d2a5",
   "metadata": {},
   "outputs": [
    {
     "data": {
      "text/plain": [
       "'0b10'"
      ]
     },
     "execution_count": 68,
     "metadata": {},
     "output_type": "execute_result"
    }
   ],
   "source": [
    "bin(2)"
   ]
  },
  {
   "cell_type": "code",
   "execution_count": 50,
   "id": "036aa2f7-bcea-4a54-a385-d0323150857a",
   "metadata": {},
   "outputs": [
    {
     "data": {
      "text/plain": [
       "('0b1010', '0b111')"
      ]
     },
     "execution_count": 50,
     "metadata": {},
     "output_type": "execute_result"
    }
   ],
   "source": [
    "bin(10), bin(7)"
   ]
  },
  {
   "cell_type": "markdown",
   "id": "f820ebba-7df0-4715-ae29-5fc3f374a0ac",
   "metadata": {},
   "source": [
    "```\n",
    "  0b1010\n",
    "   0b111\n",
    "---------\n",
    "  000010      둘 다 1이어야 1\n",
    "```"
   ]
  },
  {
   "cell_type": "code",
   "execution_count": 70,
   "id": "911bf1f7-a4d1-487a-894b-723442b30462",
   "metadata": {},
   "outputs": [
    {
     "data": {
      "text/plain": [
       "2"
      ]
     },
     "execution_count": 70,
     "metadata": {},
     "output_type": "execute_result"
    }
   ],
   "source": [
    "int(\"0b10\", 2)"
   ]
  },
  {
   "cell_type": "markdown",
   "id": "d256ef57-99ec-4e95-8982-9f2aa50f042e",
   "metadata": {},
   "source": [
    "< 비트 부정 >"
   ]
  },
  {
   "cell_type": "code",
   "execution_count": 53,
   "id": "4936c9bc-4098-430b-9ed4-bc646333ff29",
   "metadata": {},
   "outputs": [
    {
     "data": {
      "text/plain": [
       "-3"
      ]
     },
     "execution_count": 53,
     "metadata": {},
     "output_type": "execute_result"
    }
   ],
   "source": [
    "~2"
   ]
  },
  {
   "cell_type": "code",
   "execution_count": 54,
   "id": "c0025238-e12e-4521-a9c6-923e2331791d",
   "metadata": {},
   "outputs": [
    {
     "data": {
      "text/plain": [
       "'-0b11'"
      ]
     },
     "execution_count": 54,
     "metadata": {},
     "output_type": "execute_result"
    }
   ],
   "source": [
    "bin(~2)"
   ]
  },
  {
   "cell_type": "code",
   "execution_count": 59,
   "id": "82b41486-092a-4389-957e-722c407ced43",
   "metadata": {},
   "outputs": [
    {
     "data": {
      "text/plain": [
       "'-0b11'"
      ]
     },
     "execution_count": 59,
     "metadata": {},
     "output_type": "execute_result"
    }
   ],
   "source": [
    "bin(-3)"
   ]
  },
  {
   "cell_type": "markdown",
   "id": "e615a18c-2afe-4cb9-84a0-7507298f53a0",
   "metadata": {},
   "source": [
    "< 비트 논리합 >"
   ]
  },
  {
   "cell_type": "code",
   "execution_count": 62,
   "id": "6011724d-d493-41d0-93d0-4406a9a8f8b8",
   "metadata": {},
   "outputs": [
    {
     "data": {
      "text/plain": [
       "15"
      ]
     },
     "execution_count": 62,
     "metadata": {},
     "output_type": "execute_result"
    }
   ],
   "source": [
    "10 | 7"
   ]
  },
  {
   "cell_type": "code",
   "execution_count": 63,
   "id": "76b4b071-5808-4b29-a6f8-08903191c463",
   "metadata": {},
   "outputs": [
    {
     "data": {
      "text/plain": [
       "'0b1111'"
      ]
     },
     "execution_count": 63,
     "metadata": {},
     "output_type": "execute_result"
    }
   ],
   "source": [
    "bin(15)"
   ]
  },
  {
   "cell_type": "code",
   "execution_count": 60,
   "id": "8c9a73c7-6607-422b-a618-3356c776387e",
   "metadata": {},
   "outputs": [
    {
     "data": {
      "text/plain": [
       "('0b1010', '0b111')"
      ]
     },
     "execution_count": 60,
     "metadata": {},
     "output_type": "execute_result"
    }
   ],
   "source": [
    "bin(10), bin(7)"
   ]
  },
  {
   "cell_type": "markdown",
   "id": "a097318a-1c74-432d-aa67-2b99b1d40d67",
   "metadata": {},
   "source": [
    "```\n",
    "  0b1010      \n",
    "|  0b111\n",
    "---------\n",
    "  001111       둘 중 하나만 1이어도 1\n",
    "```"
   ]
  },
  {
   "cell_type": "code",
   "execution_count": 67,
   "id": "3fe5ed09-45c7-4523-a89c-130cc83ea991",
   "metadata": {},
   "outputs": [
    {
     "data": {
      "text/plain": [
       "15"
      ]
     },
     "execution_count": 67,
     "metadata": {},
     "output_type": "execute_result"
    }
   ],
   "source": [
    "int(\"0b1111\", 2)"
   ]
  },
  {
   "cell_type": "markdown",
   "id": "f0762f15-b42c-472e-82aa-728bddbb6051",
   "metadata": {},
   "source": [
    "< 배타적 논리합 >"
   ]
  },
  {
   "cell_type": "code",
   "execution_count": 56,
   "id": "d8d0f992-cbd1-4992-963e-6708ed53540f",
   "metadata": {},
   "outputs": [
    {
     "data": {
      "text/plain": [
       "13"
      ]
     },
     "execution_count": 56,
     "metadata": {},
     "output_type": "execute_result"
    }
   ],
   "source": [
    "10 ^ 7"
   ]
  },
  {
   "cell_type": "code",
   "execution_count": 71,
   "id": "5f64111e-df76-4660-9da4-e46f69a05bc8",
   "metadata": {},
   "outputs": [
    {
     "data": {
      "text/plain": [
       "'0b1101'"
      ]
     },
     "execution_count": 71,
     "metadata": {},
     "output_type": "execute_result"
    }
   ],
   "source": [
    "bin(13)"
   ]
  },
  {
   "cell_type": "code",
   "execution_count": 57,
   "id": "b65d0e52-e71f-466c-be3b-4a5daefe2822",
   "metadata": {},
   "outputs": [
    {
     "data": {
      "text/plain": [
       "('0b1010', '0b111')"
      ]
     },
     "execution_count": 57,
     "metadata": {},
     "output_type": "execute_result"
    }
   ],
   "source": [
    "bin(10), bin(7)"
   ]
  },
  {
   "cell_type": "markdown",
   "id": "db7e46b8-94a0-4999-b02b-526991413514",
   "metadata": {},
   "source": [
    "```\n",
    "   0b1010\n",
    "^   0b111\n",
    "----------\n",
    "   001101    두 값이 다르면 1, 같으면 0\n",
    "```"
   ]
  },
  {
   "cell_type": "code",
   "execution_count": 72,
   "id": "dea2c3b7-3699-41a1-acbb-c5365d4f12e1",
   "metadata": {},
   "outputs": [
    {
     "data": {
      "text/plain": [
       "13"
      ]
     },
     "execution_count": 72,
     "metadata": {},
     "output_type": "execute_result"
    }
   ],
   "source": [
    "int(\"0b1101\", 2)"
   ]
  },
  {
   "cell_type": "markdown",
   "id": "8bec3e73-617e-4346-a5af-68d70e528309",
   "metadata": {},
   "source": [
    "#### **Masking 기법 : 비트 기반 연산**"
   ]
  },
  {
   "cell_type": "markdown",
   "id": "da176244-1c59-4171-bd93-fb1c39c6a5c1",
   "metadata": {},
   "source": [
    "< 시프트 연산자 >"
   ]
  },
  {
   "cell_type": "code",
   "execution_count": 84,
   "id": "9ea211ac-51f8-467f-80f4-5615b4e9363e",
   "metadata": {},
   "outputs": [
    {
     "data": {
      "text/plain": [
       "'0b11010'"
      ]
     },
     "execution_count": 84,
     "metadata": {},
     "output_type": "execute_result"
    }
   ],
   "source": [
    "a = 26\n",
    "bin(a)"
   ]
  },
  {
   "cell_type": "code",
   "execution_count": 86,
   "id": "2aec5b2e-7072-4dd4-a2c7-d48bcfe677f6",
   "metadata": {},
   "outputs": [
    {
     "data": {
      "text/plain": [
       "104"
      ]
     },
     "execution_count": 86,
     "metadata": {},
     "output_type": "execute_result"
    }
   ],
   "source": [
    "a << 2"
   ]
  },
  {
   "cell_type": "code",
   "execution_count": 87,
   "id": "7c040e40-85d1-4d45-8848-cb0aae0e0477",
   "metadata": {},
   "outputs": [
    {
     "data": {
      "text/plain": [
       "'0b1101000'"
      ]
     },
     "execution_count": 87,
     "metadata": {},
     "output_type": "execute_result"
    }
   ],
   "source": [
    "bin(104)"
   ]
  },
  {
   "cell_type": "markdown",
   "id": "4ec8308d-4b12-40fc-8d4e-6d2db6f9c4dd",
   "metadata": {},
   "source": [
    "```\n",
    "      00b11010    < 왼쪽 시프트 2 >\n",
    "<<  00b1101000    왼쪽으로 2칸 이동, 뒤에 2칸 0으로 채움\n",
    "---------------\n",
    "      01101000    앞에 0 두개 사라지고 뒤에 0 두개 생김\n",
    "                  -> 0b1101000 = 104(십진수)\n",
    "```"
   ]
  },
  {
   "cell_type": "code",
   "execution_count": 89,
   "id": "de8e0d59-6b6a-46dd-a489-5e0c98ca752a",
   "metadata": {},
   "outputs": [
    {
     "data": {
      "text/plain": [
       "'0b11010'"
      ]
     },
     "execution_count": 89,
     "metadata": {},
     "output_type": "execute_result"
    }
   ],
   "source": [
    "a = 26\n",
    "bin(a)"
   ]
  },
  {
   "cell_type": "code",
   "execution_count": 91,
   "id": "d24a3604-bad7-46f3-b73b-2b6df74fdebc",
   "metadata": {},
   "outputs": [
    {
     "data": {
      "text/plain": [
       "6"
      ]
     },
     "execution_count": 91,
     "metadata": {},
     "output_type": "execute_result"
    }
   ],
   "source": [
    "a >> 2"
   ]
  },
  {
   "cell_type": "code",
   "execution_count": 92,
   "id": "6f5507e4-7e10-4c5c-ac7e-42974c6e4ed1",
   "metadata": {},
   "outputs": [
    {
     "data": {
      "text/plain": [
       "'0b110'"
      ]
     },
     "execution_count": 92,
     "metadata": {},
     "output_type": "execute_result"
    }
   ],
   "source": [
    "bin(6)"
   ]
  },
  {
   "cell_type": "markdown",
   "id": "b349df9d-4f2a-4964-807d-291017aed681",
   "metadata": {},
   "source": [
    "```\n",
    "      00b11010      < 오른쪽 시프트 2 >\n",
    ">>    0000b11010    오른쪽으로 2칸 이동, 앞에 2칸 0으로 채움\n",
    "---------------\n",
    "      00000110    뒤에 1,0 사라지고 앞에 0 두개 생김\n",
    "                  -> 0b110 = 6(십진수)\n",
    "```"
   ]
  },
  {
   "cell_type": "markdown",
   "id": "841d8eba-8727-43b3-8883-585795fbcc4f",
   "metadata": {},
   "source": [
    "## P.119 응용예제1 - 윤년 계산하기"
   ]
  },
  {
   "cell_type": "markdown",
   "id": "e854bd90-54c3-48aa-8bc6-992b22ce638a",
   "metadata": {},
   "source": [
    "윤년은  -> if 함수\n",
    "\n",
    "- 4로 나누어 떨어지고, 100으로 나누어 떨어지지 않으면 윤년이다.  -> and 함수\n",
    "- 400으로 나누어 떨어지는 해도 윤년에 포함된다.  -> or 함수\n",
    "- 그렇지 않으면 윤년이 아니다.  -> if else 함수"
   ]
  },
  {
   "cell_type": "code",
   "execution_count": 75,
   "id": "dff12303-00fe-45c4-be56-b926f15af5dd",
   "metadata": {},
   "outputs": [
    {
     "name": "stdin",
     "output_type": "stream",
     "text": [
      "연도를 입력하세요:  2020\n"
     ]
    },
    {
     "name": "stdout",
     "output_type": "stream",
     "text": [
      "2020년은 윤년입니다.\n"
     ]
    }
   ],
   "source": [
    "year = 0\n",
    "\n",
    "if __name__==\"__main__\":   # 다음 행이 메인함수임을 설정하는 함수 p.86 참고\n",
    "    year = int(input(\"연도를 입력하세요: \"))\n",
    "    \n",
    "    if ((year % 4 == 0) and (year % 100 != 0) or (year % 400 == 0)) :\n",
    "        print(\"%d년은 윤년입니다.\" % year);\n",
    "        \n",
    "    else :\n",
    "        print(\"%d년은 윤년이 아닙니다.\" % year);"
   ]
  },
  {
   "cell_type": "code",
   "execution_count": null,
   "id": "fba16036-4623-45e0-be81-f6003e36b1e9",
   "metadata": {},
   "outputs": [],
   "source": []
  }
 ],
 "metadata": {
  "kernelspec": {
   "display_name": "Python 3 (ipykernel)",
   "language": "python",
   "name": "python3"
  },
  "language_info": {
   "codemirror_mode": {
    "name": "ipython",
    "version": 3
   },
   "file_extension": ".py",
   "mimetype": "text/x-python",
   "name": "python",
   "nbconvert_exporter": "python",
   "pygments_lexer": "ipython3",
   "version": "3.9.7"
  }
 },
 "nbformat": 4,
 "nbformat_minor": 5
}
