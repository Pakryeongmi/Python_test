{
 "cells": [
  {
   "cell_type": "markdown",
   "id": "69e1c81c-aa2b-4a6d-a8e8-ae61cca07267",
   "metadata": {},
   "source": [
    "**P.92 연습문제 16번**"
   ]
  },
  {
   "cell_type": "code",
   "execution_count": 29,
   "id": "2b3773d6-230a-4a45-8293-ca540eebe124",
   "metadata": {},
   "outputs": [
    {
     "name": "stdin",
     "output_type": "stream",
     "text": [
      "글자 입력:  4\n"
     ]
    },
    {
     "ename": "TypeError",
     "evalue": "'<=' not supported between instances of 'str' and 'int'",
     "output_type": "error",
     "traceback": [
      "\u001b[1;31m---------------------------------------------------------------------------\u001b[0m",
      "\u001b[1;31mTypeError\u001b[0m                                 Traceback (most recent call last)",
      "\u001b[1;32m~\\AppData\\Local\\Temp/ipykernel_1068/2869703526.py\u001b[0m in \u001b[0;36m<module>\u001b[1;34m\u001b[0m\n\u001b[0;32m      1\u001b[0m \u001b[0mcod\u001b[0m \u001b[1;33m=\u001b[0m \u001b[0mstr\u001b[0m\u001b[1;33m(\u001b[0m\u001b[0minput\u001b[0m\u001b[1;33m(\u001b[0m\u001b[1;34m\"글자 입력: \"\u001b[0m\u001b[1;33m)\u001b[0m\u001b[1;33m)\u001b[0m\u001b[1;33m\u001b[0m\u001b[1;33m\u001b[0m\u001b[0m\n\u001b[1;32m----> 2\u001b[1;33m \u001b[1;32mif\u001b[0m \u001b[0mcod\u001b[0m \u001b[1;33m<=\u001b[0m \u001b[1;36m1\u001b[0m\u001b[1;33m:\u001b[0m\u001b[1;33m\u001b[0m\u001b[1;33m\u001b[0m\u001b[0m\n\u001b[0m\u001b[0;32m      3\u001b[0m     \u001b[0mprint\u001b[0m\u001b[1;33m(\u001b[0m\u001b[1;34m\"2진수 또는 8진수 또는 10진수 또는 16진수 입니다.\"\u001b[0m\u001b[1;33m)\u001b[0m\u001b[1;33m\u001b[0m\u001b[1;33m\u001b[0m\u001b[0m\n\u001b[0;32m      4\u001b[0m \u001b[1;32melif\u001b[0m \u001b[0mcod\u001b[0m \u001b[1;33m<=\u001b[0m \u001b[1;36m7\u001b[0m\u001b[1;33m:\u001b[0m\u001b[1;33m\u001b[0m\u001b[1;33m\u001b[0m\u001b[0m\n\u001b[0;32m      5\u001b[0m     \u001b[0mprint\u001b[0m\u001b[1;33m(\u001b[0m\u001b[1;34m\"8진수 또는 10진수 입니다.\"\u001b[0m\u001b[1;33m)\u001b[0m\u001b[1;33m\u001b[0m\u001b[1;33m\u001b[0m\u001b[0m\n",
      "\u001b[1;31mTypeError\u001b[0m: '<=' not supported between instances of 'str' and 'int'"
     ]
    }
   ],
   "source": [
    "cod = str(input(\"글자 입력: \"))\n",
    "if cod <= 1:\n",
    "    print(\"2진수 또는 8진수 또는 10진수 또는 16진수 입니다.\")\n",
    "elif cod <= 7:\n",
    "    print(\"8진수 또는 10진수 입니다.\")\n",
    "elif cod <= 9:\n",
    "    print(\"10진수 또는 16진수 입니다.\")\n",
    "elif cod <= int(F):\n",
    "    print(\"16진수 입니다.\")\n",
    "else:\n",
    "    print(\"숫자가 아닙니다.\")"
   ]
  },
  {
   "cell_type": "markdown",
   "id": "b2c55866-90da-4f0c-8a6c-6723e66efc96",
   "metadata": {},
   "source": [
    "**P.118 연습문제 9번**"
   ]
  },
  {
   "cell_type": "code",
   "execution_count": 3,
   "id": "2a93a1a1-1d38-4c1f-b7c2-4acb446bae04",
   "metadata": {},
   "outputs": [
    {
     "name": "stdin",
     "output_type": "stream",
     "text": [
      "500원짜리 개수:  7\n",
      "100원짜리 개수:  13\n",
      "50원짜리 개수:  9\n",
      "10원짜리 개수:  2\n"
     ]
    },
    {
     "name": "stdout",
     "output_type": "stream",
     "text": [
      "동전의 합계:  5270 원\n"
     ]
    }
   ],
   "source": [
    "a = int(input(\"500원짜리 개수: \"))\n",
    "b = int(input(\"100원짜리 개수: \"))\n",
    "c = int(input(\"50원짜리 개수: \"))\n",
    "d = int(input(\"10원짜리 개수: \"))\n",
    "\n",
    "sump = ((a*500) + (b*100) + (c*50) + (d*10))\n",
    "print(\"동전의 합계: \", sump, \"원\")"
   ]
  },
  {
   "cell_type": "markdown",
   "id": "212e3184-36e1-4e30-973a-babc65ab6e45",
   "metadata": {},
   "source": [
    "**P.141 연습문제 4번**"
   ]
  },
  {
   "cell_type": "code",
   "execution_count": 7,
   "id": "47c62bd9-4315-40b7-8748-8e41f61f9366",
   "metadata": {},
   "outputs": [
    {
     "name": "stdin",
     "output_type": "stream",
     "text": [
      "점수를 입력하세요:  60\n"
     ]
    },
    {
     "name": "stdout",
     "output_type": "stream",
     "text": [
      "합격입니다.\n"
     ]
    }
   ],
   "source": [
    "score = int(input(\"점수를 입력하세요: \"))\n",
    "\n",
    "if score >= 90:\n",
    "    print(\"장학생\", end='')\n",
    "else:\n",
    "    if score >= 60:\n",
    "        print(\"합격\", end='')\n",
    "    else:\n",
    "        print(\"불합격\", end='')\n",
    "        \n",
    "print(\"입니다.\")\n",
    "    "
   ]
  },
  {
   "cell_type": "code",
   "execution_count": null,
   "id": "bdb829fb-cb28-48ab-9765-8e1b45637707",
   "metadata": {},
   "outputs": [],
   "source": []
  },
  {
   "cell_type": "markdown",
   "id": "18a3807d-e95a-42a6-871f-45fc0f382409",
   "metadata": {},
   "source": [
    "**P.142 연습문제 7번**"
   ]
  },
  {
   "cell_type": "code",
   "execution_count": 18,
   "id": "e61c4907-ad60-439e-8a7c-e3d6553f794d",
   "metadata": {},
   "outputs": [
    {
     "name": "stdin",
     "output_type": "stream",
     "text": [
      " 5\n",
      " 2\n"
     ]
    },
    {
     "name": "stdout",
     "output_type": "stream",
     "text": [
      "A의 주사위 숫자는 5 2 입니다.\n"
     ]
    },
    {
     "name": "stdin",
     "output_type": "stream",
     "text": [
      " 1\n",
      " 1\n"
     ]
    },
    {
     "name": "stdout",
     "output_type": "stream",
     "text": [
      "B의 주사위 숫자는 1 1 입니다.\n",
      "A가 이겼네요!\n"
     ]
    }
   ],
   "source": [
    "numA1 = int(input())\n",
    "numA2 = int(input())\n",
    "numA = numA1 + numA2\n",
    "print(\"A의 주사위 숫자는\", numA1, numA2, \"입니다.\")\n",
    "numB1 = int(input())\n",
    "numB2 = int(input())\n",
    "numB = numB1 + numB2\n",
    "print(\"B의 주사위 숫자는\", numB1, numB2, \"입니다.\")\n",
    "\n",
    "if numA == numB:\n",
    "    print(\"둘이 비겼네요!\")\n",
    "elif numA > numB:\n",
    "    print(\"A가 이겼네요!\")\n",
    "else:\n",
    "    print(\"B가 이겼네요!\")"
   ]
  },
  {
   "cell_type": "code",
   "execution_count": null,
   "id": "467c9625-9e85-43b1-9d14-a7edb90f3dfa",
   "metadata": {},
   "outputs": [],
   "source": [
    "\n"
   ]
  }
 ],
 "metadata": {
  "kernelspec": {
   "display_name": "Python 3 (ipykernel)",
   "language": "python",
   "name": "python3"
  },
  "language_info": {
   "codemirror_mode": {
    "name": "ipython",
    "version": 3
   },
   "file_extension": ".py",
   "mimetype": "text/x-python",
   "name": "python",
   "nbconvert_exporter": "python",
   "pygments_lexer": "ipython3",
   "version": "3.9.7"
  }
 },
 "nbformat": 4,
 "nbformat_minor": 5
}
